{
  "nbformat": 4,
  "nbformat_minor": 0,
  "metadata": {
    "colab": {
      "provenance": []
    },
    "kernelspec": {
      "name": "python3",
      "display_name": "Python 3"
    },
    "language_info": {
      "name": "python"
    }
  },
  "cells": [
    {
      "cell_type": "markdown",
      "source": [
        "# Pseudo-Random Numbers"
      ],
      "metadata": {
        "id": "YnYVGRpgQKfH"
      }
    },
    {
      "cell_type": "markdown",
      "source": [
        "## Random Numbers in NumPy"
      ],
      "metadata": {
        "id": "Vflkv03yQUu_"
      }
    },
    {
      "cell_type": "code",
      "source": [
        "import numpy as np\n",
        "np.random.seed(0)"
      ],
      "metadata": {
        "id": "kMPC-hD2QZVb"
      },
      "execution_count": 1,
      "outputs": []
    },
    {
      "cell_type": "code",
      "source": [
        "print(np.random.random())\n",
        "print(np.random.random())\n",
        "print(np.random.random())"
      ],
      "metadata": {
        "colab": {
          "base_uri": "https://localhost:8080/"
        },
        "id": "qkKItl-kQbhh",
        "outputId": "3b931fa4-8525-4a28-bf9a-3776da2a4b16"
      },
      "execution_count": 2,
      "outputs": [
        {
          "output_type": "stream",
          "name": "stdout",
          "text": [
            "0.5488135039273248\n",
            "0.7151893663724195\n",
            "0.6027633760716439\n"
          ]
        }
      ]
    },
    {
      "cell_type": "code",
      "source": [
        "def print_truncated_random_state():\n",
        "  \"\"\"To avoid spamming the outputs, print only part of the state.\"\"\"\n",
        "  full_random_state = np.random.get_state()\n",
        "  print(str(full_random_state)[:460], '...')\n",
        "\n",
        "print_truncated_random_state()"
      ],
      "metadata": {
        "colab": {
          "base_uri": "https://localhost:8080/"
        },
        "id": "2olWlY55Q-Ue",
        "outputId": "11570caf-3c94-4b5d-9f86-ac1e7cc977b2"
      },
      "execution_count": 3,
      "outputs": [
        {
          "output_type": "stream",
          "name": "stdout",
          "text": [
            "('MT19937', array([2443250962, 1093594115, 1878467924, 2709361018, 1101979660,\n",
            "       3904844661,  676747479, 2085143622, 1056793272, 3812477442,\n",
            "       2168787041,  275552121, 2696932952, 3432054210, 1657102335,\n",
            "       3518946594,  962584079, 1051271004, 3806145045, 1414436097,\n",
            "       2032348584, 1661738718, 1116708477, 2562755208, 3176189976,\n",
            "        696824676, 2399811678, 3992505346,  569184356, 2626558620,\n",
            "        136797809, 4273176064,  296167901, 343 ...\n"
          ]
        }
      ]
    },
    {
      "cell_type": "code",
      "source": [
        "np.random.seed(0)\n",
        "print_truncated_random_state()"
      ],
      "metadata": {
        "colab": {
          "base_uri": "https://localhost:8080/"
        },
        "id": "9vDK_yzKRAlO",
        "outputId": "63fa75f5-53c3-4d1c-9d19-2b69fb93b372"
      },
      "execution_count": 4,
      "outputs": [
        {
          "output_type": "stream",
          "name": "stdout",
          "text": [
            "('MT19937', array([         0,          1, 1812433255, 1900727105, 1208447044,\n",
            "       2481403966, 4042607538,  337614300, 3232553940, 1018809052,\n",
            "       3202401494, 1775180719, 3192392114,  594215549,  184016991,\n",
            "        829906058,  610491522, 3879932251, 3139825610,  297902587,\n",
            "       4075895579, 2943625357, 3530655617, 1423771745, 2135928312,\n",
            "       2891506774, 1066338622,  135451537,  933040465, 2759011858,\n",
            "       2273819758, 3545703099, 2516396728, 127 ...\n"
          ]
        }
      ]
    },
    {
      "cell_type": "code",
      "source": [
        "_ = np.random.uniform()\n",
        "print_truncated_random_state()"
      ],
      "metadata": {
        "colab": {
          "base_uri": "https://localhost:8080/"
        },
        "id": "7gfKX_oaRDl1",
        "outputId": "211c16a3-9a57-41df-b6cf-e2fd1072c819"
      },
      "execution_count": 5,
      "outputs": [
        {
          "output_type": "stream",
          "name": "stdout",
          "text": [
            "('MT19937', array([2443250962, 1093594115, 1878467924, 2709361018, 1101979660,\n",
            "       3904844661,  676747479, 2085143622, 1056793272, 3812477442,\n",
            "       2168787041,  275552121, 2696932952, 3432054210, 1657102335,\n",
            "       3518946594,  962584079, 1051271004, 3806145045, 1414436097,\n",
            "       2032348584, 1661738718, 1116708477, 2562755208, 3176189976,\n",
            "        696824676, 2399811678, 3992505346,  569184356, 2626558620,\n",
            "        136797809, 4273176064,  296167901, 343 ...\n"
          ]
        }
      ]
    },
    {
      "cell_type": "code",
      "source": [
        "np.random.seed(0)\n",
        "print(np.random.uniform(size=3))"
      ],
      "metadata": {
        "colab": {
          "base_uri": "https://localhost:8080/"
        },
        "id": "VGDF3gLRRGw6",
        "outputId": "82063fdd-685d-480a-c5ac-307ad24e2964"
      },
      "execution_count": 6,
      "outputs": [
        {
          "output_type": "stream",
          "name": "stdout",
          "text": [
            "[0.5488135  0.71518937 0.60276338]\n"
          ]
        }
      ]
    },
    {
      "cell_type": "code",
      "source": [
        "np.random.seed(0)\n",
        "print(\"individually:\", np.stack([np.random.uniform() for _ in range(3)]))\n",
        "\n",
        "np.random.seed(0)\n",
        "print(\"all at once: \", np.random.uniform(size=3))"
      ],
      "metadata": {
        "colab": {
          "base_uri": "https://localhost:8080/"
        },
        "id": "LWbOZ0o5RJBl",
        "outputId": "490fc73b-3b73-461b-b3cd-2bb3f369abd2"
      },
      "execution_count": 7,
      "outputs": [
        {
          "output_type": "stream",
          "name": "stdout",
          "text": [
            "individually: [0.5488135  0.71518937 0.60276338]\n",
            "all at once:  [0.5488135  0.71518937 0.60276338]\n"
          ]
        }
      ]
    },
    {
      "cell_type": "markdown",
      "source": [
        "## Random Numbers in JAX"
      ],
      "metadata": {
        "id": "6FskN8YnRK2I"
      }
    },
    {
      "cell_type": "code",
      "source": [
        "import numpy as np\n",
        "\n",
        "np.random.seed(0)\n",
        "\n",
        "def bar(): return np.random.uniform()\n",
        "def baz(): return np.random.uniform()\n",
        "\n",
        "def foo(): return bar() + 2 * baz()\n",
        "\n",
        "print(foo())"
      ],
      "metadata": {
        "colab": {
          "base_uri": "https://localhost:8080/"
        },
        "id": "fqIUFwKWRN0Z",
        "outputId": "957590a4-57d0-4001-dc59-cc79437b6bb8"
      },
      "execution_count": 8,
      "outputs": [
        {
          "output_type": "stream",
          "name": "stdout",
          "text": [
            "1.9791922366721637\n"
          ]
        }
      ]
    },
    {
      "cell_type": "markdown",
      "source": [
        "### Explicit random state"
      ],
      "metadata": {
        "id": "TplKOKa3RP2A"
      }
    },
    {
      "cell_type": "code",
      "source": [
        "from jax import random\n",
        "\n",
        "key = random.key(42)\n",
        "print(key)"
      ],
      "metadata": {
        "colab": {
          "base_uri": "https://localhost:8080/"
        },
        "id": "d0r7d0jwRafX",
        "outputId": "18244eda-49c3-4df1-bddf-81d017f6926b"
      },
      "execution_count": 9,
      "outputs": [
        {
          "output_type": "stream",
          "name": "stdout",
          "text": [
            "Array((), dtype=key<fry>) overlaying:\n",
            "[ 0 42]\n"
          ]
        }
      ]
    },
    {
      "cell_type": "code",
      "source": [
        "print(random.normal(key))\n",
        "print(random.normal(key))"
      ],
      "metadata": {
        "colab": {
          "base_uri": "https://localhost:8080/"
        },
        "id": "BxMupzu0Raw7",
        "outputId": "2674c0ec-06e2-4f6e-8936-bc332b4d25b2"
      },
      "execution_count": 10,
      "outputs": [
        {
          "output_type": "stream",
          "name": "stdout",
          "text": [
            "-0.18471177\n",
            "-0.18471177\n"
          ]
        }
      ]
    },
    {
      "cell_type": "code",
      "source": [
        "for i in range(3):\n",
        "  new_key, subkey = random.split(key)\n",
        "  del key  # The old key is consumed by split() -- we must never use it again.\n",
        "\n",
        "  val = random.normal(subkey)\n",
        "  del subkey  # The subkey is consumed by normal().\n",
        "\n",
        "  print(f\"draw {i}: {val}\")\n",
        "  key = new_key  # new_key is safe to use in the next iteration."
      ],
      "metadata": {
        "colab": {
          "base_uri": "https://localhost:8080/"
        },
        "id": "m-O89VkbRcfp",
        "outputId": "0d539c1f-2126-4992-cb9c-2f37ed267810"
      },
      "execution_count": 11,
      "outputs": [
        {
          "output_type": "stream",
          "name": "stdout",
          "text": [
            "draw 0: 1.369469404220581\n",
            "draw 1: -0.19947023689746857\n",
            "draw 2: -2.298278331756592\n"
          ]
        }
      ]
    },
    {
      "cell_type": "code",
      "source": [
        "key, subkey = random.split(key)"
      ],
      "metadata": {
        "id": "iPlX-VkbReKH"
      },
      "execution_count": 12,
      "outputs": []
    },
    {
      "cell_type": "code",
      "source": [
        "key, *forty_two_subkeys = random.split(key, num=43)"
      ],
      "metadata": {
        "id": "sDaxtpstRf_Z"
      },
      "execution_count": 13,
      "outputs": []
    },
    {
      "cell_type": "markdown",
      "source": [
        "### Lack of sequentially equivalence"
      ],
      "metadata": {
        "id": "Zu4JASGhRiL4"
      }
    },
    {
      "cell_type": "code",
      "source": [
        "key = random.key(42)\n",
        "subkeys = random.split(key, 3)\n",
        "sequence = np.stack([random.normal(subkey) for subkey in subkeys])\n",
        "print(\"individually:\", sequence)\n",
        "\n",
        "key = random.key(42)\n",
        "print(\"all at once: \", random.normal(key, shape=(3,)))"
      ],
      "metadata": {
        "colab": {
          "base_uri": "https://localhost:8080/"
        },
        "id": "ApyBk7mrRm_r",
        "outputId": "bdc0aeef-430a-4e9b-a851-24afd3ce7b9b"
      },
      "execution_count": 14,
      "outputs": [
        {
          "output_type": "stream",
          "name": "stdout",
          "text": [
            "individually: [-0.04838832  0.10796154 -1.2226542 ]\n",
            "all at once:  [ 0.18693547 -1.2806505  -1.5593132 ]\n"
          ]
        }
      ]
    },
    {
      "cell_type": "code",
      "source": [
        "import jax\n",
        "print(\"vectorized:\", jax.vmap(random.normal)(subkeys))"
      ],
      "metadata": {
        "colab": {
          "base_uri": "https://localhost:8080/"
        },
        "id": "pGjAb8E8RnQx",
        "outputId": "9f42d26f-5cb3-4973-ffa2-ef5f5a97ff63"
      },
      "execution_count": 15,
      "outputs": [
        {
          "output_type": "stream",
          "name": "stdout",
          "text": [
            "vectorized: [-0.04838832  0.10796154 -1.2226542 ]\n"
          ]
        }
      ]
    },
    {
      "cell_type": "code",
      "source": [],
      "metadata": {
        "id": "m1OwQ_FrSKdq"
      },
      "execution_count": null,
      "outputs": []
    }
  ]
}