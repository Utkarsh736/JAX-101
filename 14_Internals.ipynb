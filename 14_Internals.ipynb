{
  "nbformat": 4,
  "nbformat_minor": 0,
  "metadata": {
    "colab": {
      "provenance": []
    },
    "kernelspec": {
      "name": "python3",
      "display_name": "Python 3"
    },
    "language_info": {
      "name": "python"
    }
  },
  "cells": [
    {
      "cell_type": "markdown",
      "source": [
        "# JAX Internals: Primitives"
      ],
      "metadata": {
        "id": "uT4Iyt_UrZSM"
      }
    },
    {
      "cell_type": "markdown",
      "source": [
        "## Existing Primitives"
      ],
      "metadata": {
        "id": "7ZRfuO4Yroyf"
      }
    },
    {
      "cell_type": "code",
      "source": [
        "from jax import lax\n",
        "from jax._src import api\n",
        "\n",
        "def multiply_add_lax(x, y, z):\n",
        "  \"\"\"Implementation of multiply-add using the `jax.lax` primitives.\"\"\"\n",
        "  return lax.add(lax.mul(x, y), z)\n",
        "\n",
        "\n",
        "def square_add_lax(a, b):\n",
        "  \"\"\"A square-add function using the newly defined multiply-add.\"\"\"\n",
        "  return multiply_add_lax(a, a, b)\n",
        "\n",
        "print(\"square_add_lax = \", square_add_lax(2., 10.))\n",
        "# Differentiate w.r.t. the first argument\n",
        "print(\"grad(square_add_lax) = \", api.grad(square_add_lax, argnums=0)(2.0, 10.))"
      ],
      "metadata": {
        "colab": {
          "base_uri": "https://localhost:8080/"
        },
        "id": "ZS06qSMrrsbh",
        "outputId": "549af6e3-f2ba-429c-c20b-16d868931df0"
      },
      "execution_count": 1,
      "outputs": [
        {
          "output_type": "stream",
          "name": "stdout",
          "text": [
            "square_add_lax =  14.0\n",
            "grad(square_add_lax) =  4.0\n"
          ]
        }
      ]
    },
    {
      "cell_type": "code",
      "source": [
        "#@title Helper functions (execute this cell)\n",
        "import functools\n",
        "import traceback\n",
        "\n",
        "_indentation = 0\n",
        "def _trace(msg=None):\n",
        "    \"\"\"Print a message at current indentation.\"\"\"\n",
        "    if msg is not None:\n",
        "        print(\"  \" * _indentation + msg)\n",
        "\n",
        "def _trace_indent(msg=None):\n",
        "    \"\"\"Print a message and then indent the rest.\"\"\"\n",
        "    global _indentation\n",
        "    _trace(msg)\n",
        "    _indentation = 1 + _indentation\n",
        "\n",
        "def _trace_unindent(msg=None):\n",
        "    \"\"\"Unindent then print a message.\"\"\"\n",
        "    global _indentation\n",
        "    _indentation = _indentation - 1\n",
        "    _trace(msg)\n",
        "\n",
        "def trace(name):\n",
        "  \"\"\"A decorator for functions to trace arguments and results.\"\"\"\n",
        "\n",
        "  def trace_func(func):  # pylint: disable=missing-docstring\n",
        "    def pp(v):\n",
        "        \"\"\"Print certain values more succinctly\"\"\"\n",
        "        vtype = str(type(v))\n",
        "        if \"jax._src.xla_bridge._JaxComputationBuilder\" in vtype:\n",
        "            return \"<JaxComputationBuilder>\"\n",
        "        elif \"jaxlib.xla_extension.XlaOp\" in vtype:\n",
        "            return \"<XlaOp at 0x{:x}>\".format(id(v))\n",
        "        elif (\"partial_eval.JaxprTracer\" in vtype or\n",
        "              \"batching.BatchTracer\" in vtype or\n",
        "              \"ad.JVPTracer\" in vtype):\n",
        "            return \"Traced<{}>\".format(v.aval)\n",
        "        elif isinstance(v, tuple):\n",
        "            return \"({})\".format(pp_values(v))\n",
        "        else:\n",
        "            return str(v)\n",
        "    def pp_values(args):\n",
        "        return \", \".join([pp(arg) for arg in args])\n",
        "\n",
        "    @functools.wraps(func)\n",
        "    def func_wrapper(*args):\n",
        "      _trace_indent(\"call {}({})\".format(name, pp_values(args)))\n",
        "      res = func(*args)\n",
        "      _trace_unindent(\"|<- {} = {}\".format(name, pp(res)))\n",
        "      return res\n",
        "\n",
        "    return func_wrapper\n",
        "\n",
        "  return trace_func\n",
        "\n",
        "class expectNotImplementedError(object):\n",
        "  \"\"\"Context manager to check for NotImplementedError.\"\"\"\n",
        "  def __enter__(self): pass\n",
        "  def __exit__(self, type, value, tb):\n",
        "    global _indentation\n",
        "    _indentation = 0\n",
        "    if type is NotImplementedError:\n",
        "      print(\"\\nFound expected exception:\")\n",
        "      traceback.print_exc(limit=3)\n",
        "      return True\n",
        "    elif type is None:  # No exception\n",
        "      assert False, \"Expected NotImplementedError\"\n",
        "    else:\n",
        "      return False"
      ],
      "metadata": {
        "id": "Zf6FVQA_rsoy"
      },
      "execution_count": 2,
      "outputs": []
    },
    {
      "cell_type": "code",
      "source": [
        "import jax.numpy as jnp\n",
        "import numpy as np\n",
        "\n",
        "@trace(\"multiply_add_numpy\")\n",
        "def multiply_add_numpy(x, y, z):\n",
        "    return jnp.add(jnp.multiply(x, y), z)\n",
        "\n",
        "@trace(\"square_add_numpy\")\n",
        "def square_add_numpy(a, b):\n",
        "    return multiply_add_numpy(a, a, b)\n",
        "\n",
        "print(\"\\nNormal evaluation:\")\n",
        "print(\"square_add_numpy = \", square_add_numpy(2., 10.))\n",
        "print(\"\\nGradient evaluation:\")\n",
        "print(\"grad(square_add_numpy) = \", api.grad(square_add_numpy)(2.0, 10.))"
      ],
      "metadata": {
        "colab": {
          "base_uri": "https://localhost:8080/"
        },
        "id": "yLtQZvmNrvj_",
        "outputId": "91017b93-4cb3-47bb-cb5a-01022c5374a1"
      },
      "execution_count": 3,
      "outputs": [
        {
          "output_type": "stream",
          "name": "stdout",
          "text": [
            "\n",
            "Normal evaluation:\n",
            "call square_add_numpy(2.0, 10.0)\n",
            "  call multiply_add_numpy(2.0, 2.0, 10.0)\n",
            "  |<- multiply_add_numpy = 14.0\n",
            "|<- square_add_numpy = 14.0\n",
            "square_add_numpy =  14.0\n",
            "\n",
            "Gradient evaluation:\n",
            "call square_add_numpy(Traced<ConcreteArray(2.0, dtype=float32, weak_type=True)>, 10.0)\n",
            "  call multiply_add_numpy(Traced<ConcreteArray(2.0, dtype=float32, weak_type=True)>, Traced<ConcreteArray(2.0, dtype=float32, weak_type=True)>, 10.0)\n",
            "  |<- multiply_add_numpy = Traced<ConcreteArray(14.0, dtype=float32, weak_type=True)>\n",
            "|<- square_add_numpy = Traced<ConcreteArray(14.0, dtype=float32, weak_type=True)>\n",
            "grad(square_add_numpy) =  4.0\n"
          ]
        }
      ]
    },
    {
      "cell_type": "markdown",
      "source": [
        "## New Primitves"
      ],
      "metadata": {
        "id": "JL2eMoQ3ryxC"
      }
    },
    {
      "cell_type": "code",
      "source": [
        "from jax import core\n",
        "\n",
        "multiply_add_p = core.Primitive(\"multiply_add\")  # Create the primitive\n",
        "\n",
        "@trace(\"multiply_add_prim\")\n",
        "def multiply_add_prim(x, y, z):\n",
        "  \"\"\"The JAX-traceable way to use the JAX primitive.\n",
        "\n",
        "  Note that the traced arguments must be passed as positional arguments\n",
        "  to `bind`.\n",
        "  \"\"\"\n",
        "  return multiply_add_p.bind(x, y, z)\n",
        "\n",
        "@trace(\"square_add_prim\")\n",
        "def square_add_prim(a, b):\n",
        "  \"\"\"A square-add function implemented using the new JAX-primitive.\"\"\"\n",
        "  return multiply_add_prim(a, a, b)"
      ],
      "metadata": {
        "id": "y_w1ghQbr1-R"
      },
      "execution_count": 4,
      "outputs": []
    },
    {
      "cell_type": "code",
      "source": [
        "with expectNotImplementedError():\n",
        "  square_add_prim(2., 10.)"
      ],
      "metadata": {
        "colab": {
          "base_uri": "https://localhost:8080/"
        },
        "id": "_gY9a5j1r2Oa",
        "outputId": "b536dba4-6b30-4de8-97e5-5b20ef30b501"
      },
      "execution_count": 5,
      "outputs": [
        {
          "output_type": "stream",
          "name": "stdout",
          "text": [
            "call square_add_prim(2.0, 10.0)\n",
            "  call multiply_add_prim(2.0, 2.0, 10.0)\n",
            "\n",
            "Found expected exception:\n"
          ]
        },
        {
          "output_type": "stream",
          "name": "stderr",
          "text": [
            "Traceback (most recent call last):\n",
            "  File \"<ipython-input-5-acee329b29d0>\", line 2, in <cell line: 0>\n",
            "    square_add_prim(2., 10.)\n",
            "  File \"<ipython-input-2-1ef1b2b25170>\", line 48, in func_wrapper\n",
            "    res = func(*args)\n",
            "          ^^^^^^^^^^^\n",
            "  File \"<ipython-input-4-7ddbe2c70ac2>\", line 17, in square_add_prim\n",
            "    return multiply_add_prim(a, a, b)\n",
            "           ^^^^^^^^^^^^^^^^^^^^^^^^^^\n",
            "NotImplementedError: Evaluation rule for 'multiply_add' not implemented\n"
          ]
        }
      ]
    },
    {
      "cell_type": "markdown",
      "source": [
        "## Primal Evaluation Rules"
      ],
      "metadata": {
        "id": "5shSjWAyr7Ap"
      }
    },
    {
      "cell_type": "code",
      "source": [
        "@trace(\"multiply_add_impl\")\n",
        "def multiply_add_impl(x, y, z):\n",
        "  \"\"\"Concrete implementation of the primitive.\n",
        "\n",
        "  This function does not need to be JAX traceable.\n",
        "\n",
        "  Args:\n",
        "    x, y, z: The concrete arguments of the primitive. Will only be called with\n",
        "      concrete values.\n",
        "\n",
        "  Returns:\n",
        "    the concrete result of the primitive.\n",
        "  \"\"\"\n",
        "  # Note: you can use the ordinary (non-JAX) NumPy, which is not JAX-traceable.\n",
        "  return np.add(np.multiply(x, y), z)\n",
        "\n",
        "# Now, register the primal implementation with JAX:\n",
        "multiply_add_p.def_impl(multiply_add_impl)"
      ],
      "metadata": {
        "colab": {
          "base_uri": "https://localhost:8080/",
          "height": 186
        },
        "id": "kO-U0sI8sAdl",
        "outputId": "c79d731f-83d0-47cc-9266-ba337ef4b579"
      },
      "execution_count": 7,
      "outputs": [
        {
          "output_type": "execute_result",
          "data": {
            "text/plain": [
              "<function __main__.multiply_add_impl(x, y, z)>"
            ],
            "text/html": [
              "<div style=\"max-width:800px; border: 1px solid var(--colab-border-color);\"><style>\n",
              "      pre.function-repr-contents {\n",
              "        overflow-x: auto;\n",
              "        padding: 8px 12px;\n",
              "        max-height: 500px;\n",
              "      }\n",
              "\n",
              "      pre.function-repr-contents.function-repr-contents-collapsed {\n",
              "        cursor: pointer;\n",
              "        max-height: 100px;\n",
              "      }\n",
              "    </style>\n",
              "    <pre style=\"white-space: initial; background:\n",
              "         var(--colab-secondary-surface-color); padding: 8px 12px;\n",
              "         border-bottom: 1px solid var(--colab-border-color);\"><b>multiply_add_impl</b><br/>def multiply_add_impl(x, y, z)</pre><pre class=\"function-repr-contents function-repr-contents-collapsed\" style=\"\"><a class=\"filepath\" style=\"display:none\" href=\"#\">/content/&lt;ipython-input-7-9a017d7f13f2&gt;</a>Concrete implementation of the primitive.\n",
              "\n",
              "This function does not need to be JAX traceable.\n",
              "\n",
              "Args:\n",
              "  x, y, z: The concrete arguments of the primitive. Will only be called with \n",
              "    concrete values.\n",
              "\n",
              "Returns:\n",
              "  the concrete result of the primitive.</pre></div>"
            ]
          },
          "metadata": {},
          "execution_count": 7
        }
      ]
    },
    {
      "cell_type": "markdown",
      "source": [
        "### With `JIT`"
      ],
      "metadata": {
        "id": "b8uL_sM7sAp4"
      }
    },
    {
      "cell_type": "code",
      "source": [
        "with expectNotImplementedError():\n",
        "  api.jit(square_add_prim)(2., 10.)"
      ],
      "metadata": {
        "colab": {
          "base_uri": "https://localhost:8080/"
        },
        "id": "pdto1e6dsGoo",
        "outputId": "541a8ac4-aeb9-4e33-9a14-8a885a9f4fd0"
      },
      "execution_count": 8,
      "outputs": [
        {
          "output_type": "stream",
          "name": "stdout",
          "text": [
            "call square_add_prim(Traced<ShapedArray(float32[], weak_type=True)>with<DynamicJaxprTrace(level=1/0)>, Traced<ShapedArray(float32[], weak_type=True)>with<DynamicJaxprTrace(level=1/0)>)\n",
            "  call multiply_add_prim(Traced<ShapedArray(float32[], weak_type=True)>with<DynamicJaxprTrace(level=1/0)>, Traced<ShapedArray(float32[], weak_type=True)>with<DynamicJaxprTrace(level=1/0)>, Traced<ShapedArray(float32[], weak_type=True)>with<DynamicJaxprTrace(level=1/0)>)\n",
            "\n",
            "Found expected exception:\n"
          ]
        },
        {
          "output_type": "stream",
          "name": "stderr",
          "text": [
            "Traceback (most recent call last):\n",
            "  File \"<ipython-input-8-d4853f4fcae2>\", line 2, in <cell line: 0>\n",
            "    api.jit(square_add_prim)(2., 10.)\n",
            "  File \"/usr/local/lib/python3.11/dist-packages/jax/_src/traceback_util.py\", line 180, in reraise_with_filtered_traceback\n",
            "    return fun(*args, **kwargs)\n",
            "           ^^^^^^^^^^^^^^^^^^^^\n",
            "  File \"/usr/local/lib/python3.11/dist-packages/jax/_src/pjit.py\", line 332, in cache_miss\n",
            "    outs, out_flat, out_tree, args_flat, jaxpr, attrs_tracked = _python_pjit_helper(\n",
            "                                                                ^^^^^^^^^^^^^^^^^^^^\n",
            "NotImplementedError: Abstract evaluation for 'multiply_add' not implemented\n"
          ]
        }
      ]
    },
    {
      "cell_type": "markdown",
      "source": [
        "### Abstract Evaluation"
      ],
      "metadata": {
        "id": "LEpqrO4rsG5q"
      }
    },
    {
      "cell_type": "code",
      "source": [
        "from jax import core\n",
        "\n",
        "@trace(\"multiply_add_abstract_eval\")\n",
        "def multiply_add_abstract_eval(xs, ys, zs):\n",
        "  \"\"\"Abstract evaluation of the primitive.\n",
        "\n",
        "  This function does not need to be JAX traceable. It will be invoked with\n",
        "  abstractions of the actual arguments\n",
        "\n",
        "  Args:\n",
        "    xs, ys, zs: Abstractions of the arguments.\n",
        "\n",
        "  Result:\n",
        "    a ShapedArray for the result of the primitive.\n",
        "  \"\"\"\n",
        "  assert xs.shape == ys.shape\n",
        "  assert xs.shape == zs.shape\n",
        "  return core.ShapedArray(xs.shape, xs.dtype)\n",
        "\n",
        "# Now, register the abstract evaluation with JAX:\n",
        "multiply_add_p.def_abstract_eval(multiply_add_abstract_eval)"
      ],
      "metadata": {
        "colab": {
          "base_uri": "https://localhost:8080/",
          "height": 186
        },
        "id": "5XSuZDclsLf5",
        "outputId": "2f3bfca4-aa89-49b9-a822-f7ae0cbcab2c"
      },
      "execution_count": 10,
      "outputs": [
        {
          "output_type": "execute_result",
          "data": {
            "text/plain": [
              "<function __main__.multiply_add_abstract_eval(xs, ys, zs)>"
            ],
            "text/html": [
              "<div style=\"max-width:800px; border: 1px solid var(--colab-border-color);\"><style>\n",
              "      pre.function-repr-contents {\n",
              "        overflow-x: auto;\n",
              "        padding: 8px 12px;\n",
              "        max-height: 500px;\n",
              "      }\n",
              "\n",
              "      pre.function-repr-contents.function-repr-contents-collapsed {\n",
              "        cursor: pointer;\n",
              "        max-height: 100px;\n",
              "      }\n",
              "    </style>\n",
              "    <pre style=\"white-space: initial; background:\n",
              "         var(--colab-secondary-surface-color); padding: 8px 12px;\n",
              "         border-bottom: 1px solid var(--colab-border-color);\"><b>multiply_add_abstract_eval</b><br/>def multiply_add_abstract_eval(xs, ys, zs)</pre><pre class=\"function-repr-contents function-repr-contents-collapsed\" style=\"\"><a class=\"filepath\" style=\"display:none\" href=\"#\">/content/&lt;ipython-input-10-cdf36e200d01&gt;</a>Abstract evaluation of the primitive.\n",
              "\n",
              "This function does not need to be JAX traceable. It will be invoked with\n",
              "abstractions of the actual arguments\n",
              "\n",
              "Args:\n",
              "  xs, ys, zs: Abstractions of the arguments.\n",
              "\n",
              "Result:\n",
              "  a ShapedArray for the result of the primitive.</pre></div>"
            ]
          },
          "metadata": {},
          "execution_count": 10
        }
      ]
    },
    {
      "cell_type": "code",
      "source": [
        "with expectNotImplementedError():\n",
        "  api.jit(square_add_prim)(2., 10.)"
      ],
      "metadata": {
        "colab": {
          "base_uri": "https://localhost:8080/"
        },
        "id": "XiF9v28rsLu4",
        "outputId": "b3c67b6d-acdc-44e6-df81-a9d6fbaaa46f"
      },
      "execution_count": 11,
      "outputs": [
        {
          "output_type": "stream",
          "name": "stdout",
          "text": [
            "call square_add_prim(Traced<ShapedArray(float32[], weak_type=True)>with<DynamicJaxprTrace(level=1/0)>, Traced<ShapedArray(float32[], weak_type=True)>with<DynamicJaxprTrace(level=1/0)>)\n",
            "  call multiply_add_prim(Traced<ShapedArray(float32[], weak_type=True)>with<DynamicJaxprTrace(level=1/0)>, Traced<ShapedArray(float32[], weak_type=True)>with<DynamicJaxprTrace(level=1/0)>, Traced<ShapedArray(float32[], weak_type=True)>with<DynamicJaxprTrace(level=1/0)>)\n",
            "    call multiply_add_abstract_eval(ShapedArray(float32[], weak_type=True), ShapedArray(float32[], weak_type=True), ShapedArray(float32[], weak_type=True))\n",
            "    |<- multiply_add_abstract_eval = ShapedArray(float32[])\n",
            "  |<- multiply_add_prim = Traced<ShapedArray(float32[])>with<DynamicJaxprTrace(level=1/0)>\n",
            "|<- square_add_prim = Traced<ShapedArray(float32[])>with<DynamicJaxprTrace(level=1/0)>\n",
            "\n",
            "Found expected exception:\n"
          ]
        },
        {
          "output_type": "stream",
          "name": "stderr",
          "text": [
            "Traceback (most recent call last):\n",
            "  File \"<frozen runpy>\", line 198, in _run_module_as_main\n",
            "  File \"<frozen runpy>\", line 88, in _run_code\n",
            "  File \"/usr/local/lib/python3.11/dist-packages/colab_kernel_launcher.py\", line 37, in <module>\n",
            "    ColabKernelApp.launch_instance()\n",
            "jax._src.source_info_util.JaxStackTraceBeforeTransformation: NotImplementedError: MLIR translation rule for primitive 'multiply_add' not found for platform cpu\n",
            "\n",
            "The preceding stack trace is the source of the JAX operation that, once transformed by JAX, triggered the following exception.\n",
            "\n",
            "--------------------\n",
            "\n",
            "The above exception was the direct cause of the following exception:\n",
            "\n",
            "Traceback (most recent call last):\n",
            "  File \"<ipython-input-11-d4853f4fcae2>\", line 2, in <cell line: 0>\n",
            "    api.jit(square_add_prim)(2., 10.)\n",
            "  File \"/usr/local/lib/python3.11/dist-packages/jax/_src/traceback_util.py\", line 180, in reraise_with_filtered_traceback\n",
            "    return fun(*args, **kwargs)\n",
            "           ^^^^^^^^^^^^^^^^^^^^\n",
            "  File \"/usr/local/lib/python3.11/dist-packages/jax/_src/pjit.py\", line 332, in cache_miss\n",
            "    outs, out_flat, out_tree, args_flat, jaxpr, attrs_tracked = _python_pjit_helper(\n",
            "                                                                ^^^^^^^^^^^^^^^^^^^^\n",
            "NotImplementedError: MLIR translation rule for primitive 'multiply_add' not found for platform cpu\n"
          ]
        }
      ]
    },
    {
      "cell_type": "markdown",
      "source": [
        "### XLA Complication Rule"
      ],
      "metadata": {
        "id": "iz8A6scOsRmb"
      }
    },
    {
      "cell_type": "code",
      "source": [
        "from jax._src.lib.mlir.dialects import hlo\n",
        "\n",
        "@trace(\"multiply_add_lowering\")\n",
        "def multiply_add_lowering(ctx, xc, yc, zc):\n",
        "  \"\"\"The compilation to XLA of the primitive.\n",
        "\n",
        "  Given an mlir.ir.Value for each argument, return the mlir.ir.Values for\n",
        "  the results of the function.\n",
        "\n",
        "  Does not need to be a JAX-traceable function.\n",
        "  \"\"\"\n",
        "  return [hlo.AddOp(hlo.MulOp(xc, yc), zc).result]\n",
        "\n",
        "# Now, register the lowering rule with JAX.\n",
        "# For GPU, refer to the https://jax.readthedocs.io/en/latest/Custom_Operation_for_GPUs.html\n",
        "from jax.interpreters import mlir\n",
        "\n",
        "mlir.register_lowering(multiply_add_p, multiply_add_lowering, platform='cpu')"
      ],
      "metadata": {
        "colab": {
          "base_uri": "https://localhost:8080/",
          "height": 186
        },
        "id": "9dAQUJ2pspJS",
        "outputId": "a4c94ed5-acc6-401e-cb02-f3ecd0cb1e27"
      },
      "execution_count": 12,
      "outputs": [
        {
          "output_type": "execute_result",
          "data": {
            "text/plain": [
              "<function __main__.multiply_add_lowering(ctx, xc, yc, zc)>"
            ],
            "text/html": [
              "<div style=\"max-width:800px; border: 1px solid var(--colab-border-color);\"><style>\n",
              "      pre.function-repr-contents {\n",
              "        overflow-x: auto;\n",
              "        padding: 8px 12px;\n",
              "        max-height: 500px;\n",
              "      }\n",
              "\n",
              "      pre.function-repr-contents.function-repr-contents-collapsed {\n",
              "        cursor: pointer;\n",
              "        max-height: 100px;\n",
              "      }\n",
              "    </style>\n",
              "    <pre style=\"white-space: initial; background:\n",
              "         var(--colab-secondary-surface-color); padding: 8px 12px;\n",
              "         border-bottom: 1px solid var(--colab-border-color);\"><b>multiply_add_lowering</b><br/>def multiply_add_lowering(ctx, xc, yc, zc)</pre><pre class=\"function-repr-contents function-repr-contents-collapsed\" style=\"\"><a class=\"filepath\" style=\"display:none\" href=\"#\">/content/&lt;ipython-input-12-31f71414c5bb&gt;</a>The compilation to XLA of the primitive.\n",
              "\n",
              "Given an mlir.ir.Value for each argument, return the mlir.ir.Values for\n",
              "the results of the function.\n",
              "\n",
              "Does not need to be a JAX-traceable function.</pre></div>"
            ]
          },
          "metadata": {},
          "execution_count": 12
        }
      ]
    },
    {
      "cell_type": "code",
      "source": [
        "assert api.jit(lambda x, y: square_add_prim(x, y))(2., 10.) == 14."
      ],
      "metadata": {
        "colab": {
          "base_uri": "https://localhost:8080/"
        },
        "id": "_-2zUvMispk4",
        "outputId": "17b480e8-bf56-4740-c4bf-8dd5eafd6405"
      },
      "execution_count": 13,
      "outputs": [
        {
          "output_type": "stream",
          "name": "stdout",
          "text": [
            "call square_add_prim(Traced<ShapedArray(float32[], weak_type=True)>with<DynamicJaxprTrace(level=1/0)>, Traced<ShapedArray(float32[], weak_type=True)>with<DynamicJaxprTrace(level=1/0)>)\n",
            "  call multiply_add_prim(Traced<ShapedArray(float32[], weak_type=True)>with<DynamicJaxprTrace(level=1/0)>, Traced<ShapedArray(float32[], weak_type=True)>with<DynamicJaxprTrace(level=1/0)>, Traced<ShapedArray(float32[], weak_type=True)>with<DynamicJaxprTrace(level=1/0)>)\n",
            "    call multiply_add_abstract_eval(ShapedArray(float32[], weak_type=True), ShapedArray(float32[], weak_type=True), ShapedArray(float32[], weak_type=True))\n",
            "    |<- multiply_add_abstract_eval = ShapedArray(float32[])\n",
            "  |<- multiply_add_prim = Traced<ShapedArray(float32[])>with<DynamicJaxprTrace(level=1/0)>\n",
            "|<- square_add_prim = Traced<ShapedArray(float32[])>with<DynamicJaxprTrace(level=1/0)>\n",
            "call multiply_add_lowering(LoweringRuleContext(module_context=ModuleContext(context=<jaxlib.mlir._mlir_libs._site_initialize.<locals>.Context object at 0x7d75bc36cad0>, module=<jaxlib.mlir._mlir_libs._mlir.ir.Module object at 0x7d75bc388970>, ip=<jaxlib.mlir._mlir_libs._mlir.ir.InsertionPoint object at 0x7d75bc388db0>, symbol_table=<jaxlib.mlir._mlir_libs._mlir.ir.SymbolTable object at 0x7d75bc388bb0>, backend_or_name=<jaxlib.xla_extension.Client object at 0x7d75c42a62c0>, platforms=('cpu',), axis_context=ShardingContext(num_devices=1, device_assignment=None, mesh_shape=None), keepalives=[], channel_iterator=count(1), host_callbacks=[], shape_poly_state=<jax._src.interpreters.mlir.ShapePolyLoweringState object at 0x7d75bc388d50>, all_default_mem_kind=True, cached_primitive_lowerings={}, traceback_caches=TracebackCaches(traceback_cache={<jaxlib.xla_extension.Traceback object at 0x3ca9ad0>: loc(callsite(\"multiply_add_prim\"(\"<ipython-input-4-7ddbe2c70ac2>\":12:9) at callsite(\"trace.<locals>.trace_func.<locals>.func_wrapper\"(\"<ipython-input-2-1ef1b2b25170>\":48:12) at callsite(\"square_add_prim\"(\"<ipython-input-4-7ddbe2c70ac2>\":17:9) at callsite(\"trace.<locals>.trace_func.<locals>.func_wrapper\"(\"<ipython-input-2-1ef1b2b25170>\":48:12) at callsite(\"<lambda>\"(\"<ipython-input-13-59cc8103756b>\":1:28) at callsite(\"<module>\"(\"<ipython-input-13-59cc8103756b>\":1:7) at callsite(\"InteractiveShell.run_code\"(\"/usr/local/lib/python3.11/dist-packages/IPython/core/interactiveshell.py\":3553:20) at callsite(\"InteractiveShell.run_ast_nodes\"(\"/usr/local/lib/python3.11/dist-packages/IPython/core/interactiveshell.py\":3473:24) at callsite(\"InteractiveShell.run_cell_async\"(\"/usr/local/lib/python3.11/dist-packages/IPython/core/interactiveshell.py\":3257:29) at \"_pseudo_sync_runner\"(\"/usr/local/lib/python3.11/dist-packages/IPython/core/async_helpers.py\":78:8)))))))))))}, location_cache={(<code object multiply_add_prim at 0x7d75bc3ffd30, file \"<ipython-input-4-7ddbe2c70ac2>\", line 5>, 54): loc(\"multiply_add_prim\"(\"<ipython-input-4-7ddbe2c70ac2>\":12:9)), (<code object func_wrapper at 0x7d75c7af9530, file \"<ipython-input-2-1ef1b2b25170>\", line 45>, 98): loc(\"trace.<locals>.trace_func.<locals>.func_wrapper\"(\"<ipython-input-2-1ef1b2b25170>\":48:12)), (<code object square_add_prim at 0x7d75bc3dd8b0, file \"<ipython-input-4-7ddbe2c70ac2>\", line 14>, 32): loc(\"square_add_prim\"(\"<ipython-input-4-7ddbe2c70ac2>\":17:9)), (<code object <lambda> at 0x7d75bc370f10, file \"<ipython-input-13-59cc8103756b>\", line 1>, 30): loc(\"<lambda>\"(\"<ipython-input-13-59cc8103756b>\":1:28)), (<code object <cell line: 0> at 0x7d75c41b9130, file \"<ipython-input-13-59cc8103756b>\", line 1>, 54): loc(\"<module>\"(\"<ipython-input-13-59cc8103756b>\":1:7)), (<code object run_code at 0x14a36d0, file \"/usr/local/lib/python3.11/dist-packages/IPython/core/interactiveshell.py\", line 3512>, 426): loc(\"InteractiveShell.run_code\"(\"/usr/local/lib/python3.11/dist-packages/IPython/core/interactiveshell.py\":3553:20)), (<code object run_ast_nodes at 0x14a29e0, file \"/usr/local/lib/python3.11/dist-packages/IPython/core/interactiveshell.py\", line 3360>, 1710): loc(\"InteractiveShell.run_ast_nodes\"(\"/usr/local/lib/python3.11/dist-packages/IPython/core/interactiveshell.py\":3473:24)), (<code object run_cell_async at 0x14a6350, file \"/usr/local/lib/python3.11/dist-packages/IPython/core/interactiveshell.py\", line 3084>, 2004): loc(\"InteractiveShell.run_cell_async\"(\"/usr/local/lib/python3.11/dist-packages/IPython/core/interactiveshell.py\":3257:29)), (<code object _pseudo_sync_runner at 0x7d75e7680630, file \"/usr/local/lib/python3.11/dist-packages/IPython/core/async_helpers.py\", line 68>, 30): loc(\"_pseudo_sync_runner\"(\"/usr/local/lib/python3.11/dist-packages/IPython/core/async_helpers.py\":78:8))}, canonical_name_cache={'<ipython-input-4-7ddbe2c70ac2>': '<ipython-input-4-7ddbe2c70ac2>', '<ipython-input-2-1ef1b2b25170>': '<ipython-input-2-1ef1b2b25170>', '<ipython-input-13-59cc8103756b>': '<ipython-input-13-59cc8103756b>', '/usr/local/lib/python3.11/dist-packages/IPython/core/interactiveshell.py': '/usr/local/lib/python3.11/dist-packages/IPython/core/interactiveshell.py', '/usr/local/lib/python3.11/dist-packages/IPython/core/async_helpers.py': '/usr/local/lib/python3.11/dist-packages/IPython/core/async_helpers.py'}, is_user_file_cache={'/usr/local/lib/python3.11/dist-packages/jax/_src/source_info_util.py': False, '/usr/local/lib/python3.11/dist-packages/jax/_src/interpreters/partial_eval.py': False, '/usr/local/lib/python3.11/dist-packages/jax/_src/core.py': False, '<ipython-input-4-7ddbe2c70ac2>': True, '<ipython-input-2-1ef1b2b25170>': True, '<ipython-input-13-59cc8103756b>': True, '/usr/local/lib/python3.11/dist-packages/jax/_src/linear_util.py': False, '/usr/local/lib/python3.11/dist-packages/jax/_src/profiler.py': False, '/usr/local/lib/python3.11/dist-packages/jax/_src/pjit.py': False, '/usr/local/lib/python3.11/dist-packages/jax/_src/traceback_util.py': False, '/usr/local/lib/python3.11/dist-packages/IPython/core/interactiveshell.py': True, '/usr/local/lib/python3.11/dist-packages/IPython/core/async_helpers.py': True}), lowering_parameters=LoweringParameters(override_lowering_rules=None, global_constant_computation=False, for_export=False, export_ignore_forward_compatibility=False)), name_stack=NameStack(stack=(Scope(name='jit(<lambda>)'), Scope(name='jit(main)'))), primitive=multiply_add, avals_in=[ShapedArray(float32[], weak_type=True), ShapedArray(float32[], weak_type=True), ShapedArray(float32[], weak_type=True)], avals_out=[ShapedArray(float32[])], tokens_in=<jax._src.interpreters.mlir.TokenSet object at 0x7d75bc389c90>, tokens_out=None, axis_size_env=None, dim_var_values=[], jaxpr_eqn_ctx=JaxprEqnContext(compute_type=None,threefry_partitionable=False),xla_metadata={}, platforms=None), Value(<block argument> of type 'tensor<f32>' at index: 0), Value(<block argument> of type 'tensor<f32>' at index: 0), Value(<block argument> of type 'tensor<f32>' at index: 1))\n",
            "|<- multiply_add_lowering = [<jaxlib.mlir._mlir_libs._mlir.ir.OpResult object at 0x7d75bc4a95f0>]\n"
          ]
        }
      ]
    },
    {
      "cell_type": "code",
      "source": [
        "assert api.jit(lambda x, y: square_add_prim(x, y),\n",
        "               static_argnums=1)(2., 10.) == 14."
      ],
      "metadata": {
        "colab": {
          "base_uri": "https://localhost:8080/"
        },
        "id": "h9M8y3wgsrAQ",
        "outputId": "3036fc1b-85c6-4348-86ce-60a69e9c63cf"
      },
      "execution_count": 14,
      "outputs": [
        {
          "output_type": "stream",
          "name": "stdout",
          "text": [
            "call square_add_prim(Traced<ShapedArray(float32[], weak_type=True)>with<DynamicJaxprTrace(level=1/0)>, 10.0)\n",
            "  call multiply_add_prim(Traced<ShapedArray(float32[], weak_type=True)>with<DynamicJaxprTrace(level=1/0)>, Traced<ShapedArray(float32[], weak_type=True)>with<DynamicJaxprTrace(level=1/0)>, 10.0)\n",
            "    call multiply_add_abstract_eval(ShapedArray(float32[], weak_type=True), ShapedArray(float32[], weak_type=True), ShapedArray(float32[], weak_type=True))\n",
            "    |<- multiply_add_abstract_eval = ShapedArray(float32[])\n",
            "  |<- multiply_add_prim = Traced<ShapedArray(float32[])>with<DynamicJaxprTrace(level=1/0)>\n",
            "|<- square_add_prim = Traced<ShapedArray(float32[])>with<DynamicJaxprTrace(level=1/0)>\n",
            "call multiply_add_lowering(LoweringRuleContext(module_context=ModuleContext(context=<jaxlib.mlir._mlir_libs._site_initialize.<locals>.Context object at 0x7d75bc36d550>, module=<jaxlib.mlir._mlir_libs._mlir.ir.Module object at 0x7d75bc38c130>, ip=<jaxlib.mlir._mlir_libs._mlir.ir.InsertionPoint object at 0x7d75bc38c1b0>, symbol_table=<jaxlib.mlir._mlir_libs._mlir.ir.SymbolTable object at 0x7d75bc38a6b0>, backend_or_name=<jaxlib.xla_extension.Client object at 0x7d75c42a62c0>, platforms=('cpu',), axis_context=ShardingContext(num_devices=1, device_assignment=None, mesh_shape=None), keepalives=[], channel_iterator=count(1), host_callbacks=[], shape_poly_state=<jax._src.interpreters.mlir.ShapePolyLoweringState object at 0x7d75c42d39d0>, all_default_mem_kind=True, cached_primitive_lowerings={}, traceback_caches=TracebackCaches(traceback_cache={<jaxlib.xla_extension.Traceback object at 0x3eea120>: loc(callsite(\"multiply_add_prim\"(\"<ipython-input-4-7ddbe2c70ac2>\":12:9) at callsite(\"trace.<locals>.trace_func.<locals>.func_wrapper\"(\"<ipython-input-2-1ef1b2b25170>\":48:12) at callsite(\"square_add_prim\"(\"<ipython-input-4-7ddbe2c70ac2>\":17:9) at callsite(\"trace.<locals>.trace_func.<locals>.func_wrapper\"(\"<ipython-input-2-1ef1b2b25170>\":48:12) at callsite(\"<lambda>\"(\"<ipython-input-14-9330e056eb9e>\":1:28) at callsite(\"<module>\"(\"<ipython-input-14-9330e056eb9e>\":1:7) at callsite(\"InteractiveShell.run_code\"(\"/usr/local/lib/python3.11/dist-packages/IPython/core/interactiveshell.py\":3553:20) at callsite(\"InteractiveShell.run_ast_nodes\"(\"/usr/local/lib/python3.11/dist-packages/IPython/core/interactiveshell.py\":3473:24) at callsite(\"InteractiveShell.run_cell_async\"(\"/usr/local/lib/python3.11/dist-packages/IPython/core/interactiveshell.py\":3257:29) at \"_pseudo_sync_runner\"(\"/usr/local/lib/python3.11/dist-packages/IPython/core/async_helpers.py\":78:8)))))))))))}, location_cache={(<code object multiply_add_prim at 0x7d75bc3ffd30, file \"<ipython-input-4-7ddbe2c70ac2>\", line 5>, 54): loc(\"multiply_add_prim\"(\"<ipython-input-4-7ddbe2c70ac2>\":12:9)), (<code object func_wrapper at 0x7d75c7af9530, file \"<ipython-input-2-1ef1b2b25170>\", line 45>, 98): loc(\"trace.<locals>.trace_func.<locals>.func_wrapper\"(\"<ipython-input-2-1ef1b2b25170>\":48:12)), (<code object square_add_prim at 0x7d75bc3dd8b0, file \"<ipython-input-4-7ddbe2c70ac2>\", line 14>, 32): loc(\"square_add_prim\"(\"<ipython-input-4-7ddbe2c70ac2>\":17:9)), (<code object <lambda> at 0x7d75bc3dfc90, file \"<ipython-input-14-9330e056eb9e>\", line 1>, 30): loc(\"<lambda>\"(\"<ipython-input-14-9330e056eb9e>\":1:28)), (<code object <cell line: 0> at 0x7d75c41b99b0, file \"<ipython-input-14-9330e056eb9e>\", line 1>, 58): loc(\"<module>\"(\"<ipython-input-14-9330e056eb9e>\":1:7)), (<code object run_code at 0x14a36d0, file \"/usr/local/lib/python3.11/dist-packages/IPython/core/interactiveshell.py\", line 3512>, 426): loc(\"InteractiveShell.run_code\"(\"/usr/local/lib/python3.11/dist-packages/IPython/core/interactiveshell.py\":3553:20)), (<code object run_ast_nodes at 0x14a29e0, file \"/usr/local/lib/python3.11/dist-packages/IPython/core/interactiveshell.py\", line 3360>, 1710): loc(\"InteractiveShell.run_ast_nodes\"(\"/usr/local/lib/python3.11/dist-packages/IPython/core/interactiveshell.py\":3473:24)), (<code object run_cell_async at 0x14a6350, file \"/usr/local/lib/python3.11/dist-packages/IPython/core/interactiveshell.py\", line 3084>, 2004): loc(\"InteractiveShell.run_cell_async\"(\"/usr/local/lib/python3.11/dist-packages/IPython/core/interactiveshell.py\":3257:29)), (<code object _pseudo_sync_runner at 0x7d75e7680630, file \"/usr/local/lib/python3.11/dist-packages/IPython/core/async_helpers.py\", line 68>, 30): loc(\"_pseudo_sync_runner\"(\"/usr/local/lib/python3.11/dist-packages/IPython/core/async_helpers.py\":78:8))}, canonical_name_cache={'<ipython-input-4-7ddbe2c70ac2>': '<ipython-input-4-7ddbe2c70ac2>', '<ipython-input-2-1ef1b2b25170>': '<ipython-input-2-1ef1b2b25170>', '<ipython-input-14-9330e056eb9e>': '<ipython-input-14-9330e056eb9e>', '/usr/local/lib/python3.11/dist-packages/IPython/core/interactiveshell.py': '/usr/local/lib/python3.11/dist-packages/IPython/core/interactiveshell.py', '/usr/local/lib/python3.11/dist-packages/IPython/core/async_helpers.py': '/usr/local/lib/python3.11/dist-packages/IPython/core/async_helpers.py'}, is_user_file_cache={'/usr/local/lib/python3.11/dist-packages/jax/_src/source_info_util.py': False, '/usr/local/lib/python3.11/dist-packages/jax/_src/interpreters/partial_eval.py': False, '/usr/local/lib/python3.11/dist-packages/jax/_src/core.py': False, '<ipython-input-4-7ddbe2c70ac2>': True, '<ipython-input-2-1ef1b2b25170>': True, '<ipython-input-14-9330e056eb9e>': True, '/usr/local/lib/python3.11/dist-packages/jax/_src/linear_util.py': False, '/usr/local/lib/python3.11/dist-packages/jax/_src/profiler.py': False, '/usr/local/lib/python3.11/dist-packages/jax/_src/pjit.py': False, '/usr/local/lib/python3.11/dist-packages/jax/_src/traceback_util.py': False, '/usr/local/lib/python3.11/dist-packages/IPython/core/interactiveshell.py': True, '/usr/local/lib/python3.11/dist-packages/IPython/core/async_helpers.py': True}), lowering_parameters=LoweringParameters(override_lowering_rules=None, global_constant_computation=False, for_export=False, export_ignore_forward_compatibility=False)), name_stack=NameStack(stack=(Scope(name='jit(<lambda>)'), Scope(name='jit(main)'))), primitive=multiply_add, avals_in=[ShapedArray(float32[], weak_type=True), ShapedArray(float32[], weak_type=True), ShapedArray(float32[], weak_type=True)], avals_out=[ShapedArray(float32[])], tokens_in=<jax._src.interpreters.mlir.TokenSet object at 0x7d75bc38d3d0>, tokens_out=None, axis_size_env=None, dim_var_values=[], jaxpr_eqn_ctx=JaxprEqnContext(compute_type=None,threefry_partitionable=False),xla_metadata={}, platforms=None), Value(<block argument> of type 'tensor<f32>' at index: 0), Value(<block argument> of type 'tensor<f32>' at index: 0), Value(%0 = \"stablehlo.constant\"() <{value = dense<1.000000e+01> : tensor<f32>}> : () -> tensor<f32>))\n",
            "|<- multiply_add_lowering = [<jaxlib.mlir._mlir_libs._mlir.ir.OpResult object at 0x7d75c421ebb0>]\n"
          ]
        }
      ]
    },
    {
      "cell_type": "markdown",
      "source": [
        "## Forward Differentiation"
      ],
      "metadata": {
        "id": "OHBS4NZkssUq"
      }
    },
    {
      "cell_type": "code",
      "source": [
        "assert api.jit(lambda x, y: square_add_prim(x, y),\n",
        "               static_argnums=1)(2., 10.) == 14."
      ],
      "metadata": {
        "colab": {
          "base_uri": "https://localhost:8080/"
        },
        "id": "Q5jJ6cgwsv7Y",
        "outputId": "cd7e909b-138a-4bb1-e69e-82548ba13f1d"
      },
      "execution_count": 15,
      "outputs": [
        {
          "output_type": "stream",
          "name": "stdout",
          "text": [
            "call square_add_prim(Traced<ShapedArray(float32[], weak_type=True)>with<DynamicJaxprTrace(level=1/0)>, 10.0)\n",
            "  call multiply_add_prim(Traced<ShapedArray(float32[], weak_type=True)>with<DynamicJaxprTrace(level=1/0)>, Traced<ShapedArray(float32[], weak_type=True)>with<DynamicJaxprTrace(level=1/0)>, 10.0)\n",
            "    call multiply_add_abstract_eval(ShapedArray(float32[], weak_type=True), ShapedArray(float32[], weak_type=True), ShapedArray(float32[], weak_type=True))\n",
            "    |<- multiply_add_abstract_eval = ShapedArray(float32[])\n",
            "  |<- multiply_add_prim = Traced<ShapedArray(float32[])>with<DynamicJaxprTrace(level=1/0)>\n",
            "|<- square_add_prim = Traced<ShapedArray(float32[])>with<DynamicJaxprTrace(level=1/0)>\n",
            "call multiply_add_lowering(LoweringRuleContext(module_context=ModuleContext(context=<jaxlib.mlir._mlir_libs._site_initialize.<locals>.Context object at 0x7d75bc36d610>, module=<jaxlib.mlir._mlir_libs._mlir.ir.Module object at 0x7d75c421c9b0>, ip=<jaxlib.mlir._mlir_libs._mlir.ir.InsertionPoint object at 0x7d75bc38d230>, symbol_table=<jaxlib.mlir._mlir_libs._mlir.ir.SymbolTable object at 0x7d75bc38d030>, backend_or_name=<jaxlib.xla_extension.Client object at 0x7d75c42a62c0>, platforms=('cpu',), axis_context=ShardingContext(num_devices=1, device_assignment=None, mesh_shape=None), keepalives=[], channel_iterator=count(1), host_callbacks=[], shape_poly_state=<jax._src.interpreters.mlir.ShapePolyLoweringState object at 0x7d75bc38c490>, all_default_mem_kind=True, cached_primitive_lowerings={}, traceback_caches=TracebackCaches(traceback_cache={<jaxlib.xla_extension.Traceback object at 0x3eea120>: loc(callsite(\"multiply_add_prim\"(\"<ipython-input-4-7ddbe2c70ac2>\":12:9) at callsite(\"trace.<locals>.trace_func.<locals>.func_wrapper\"(\"<ipython-input-2-1ef1b2b25170>\":48:12) at callsite(\"square_add_prim\"(\"<ipython-input-4-7ddbe2c70ac2>\":17:9) at callsite(\"trace.<locals>.trace_func.<locals>.func_wrapper\"(\"<ipython-input-2-1ef1b2b25170>\":48:12) at callsite(\"<lambda>\"(\"<ipython-input-15-9330e056eb9e>\":1:28) at callsite(\"<module>\"(\"<ipython-input-15-9330e056eb9e>\":1:7) at callsite(\"InteractiveShell.run_code\"(\"/usr/local/lib/python3.11/dist-packages/IPython/core/interactiveshell.py\":3553:20) at callsite(\"InteractiveShell.run_ast_nodes\"(\"/usr/local/lib/python3.11/dist-packages/IPython/core/interactiveshell.py\":3473:24) at callsite(\"InteractiveShell.run_cell_async\"(\"/usr/local/lib/python3.11/dist-packages/IPython/core/interactiveshell.py\":3257:29) at \"_pseudo_sync_runner\"(\"/usr/local/lib/python3.11/dist-packages/IPython/core/async_helpers.py\":78:8)))))))))))}, location_cache={(<code object multiply_add_prim at 0x7d75bc3ffd30, file \"<ipython-input-4-7ddbe2c70ac2>\", line 5>, 54): loc(\"multiply_add_prim\"(\"<ipython-input-4-7ddbe2c70ac2>\":12:9)), (<code object func_wrapper at 0x7d75c7af9530, file \"<ipython-input-2-1ef1b2b25170>\", line 45>, 98): loc(\"trace.<locals>.trace_func.<locals>.func_wrapper\"(\"<ipython-input-2-1ef1b2b25170>\":48:12)), (<code object square_add_prim at 0x7d75bc3dd8b0, file \"<ipython-input-4-7ddbe2c70ac2>\", line 14>, 32): loc(\"square_add_prim\"(\"<ipython-input-4-7ddbe2c70ac2>\":17:9)), (<code object <lambda> at 0x7d75bc3dd530, file \"<ipython-input-15-9330e056eb9e>\", line 1>, 30): loc(\"<lambda>\"(\"<ipython-input-15-9330e056eb9e>\":1:28)), (<code object <cell line: 0> at 0x7d75c41b9df0, file \"<ipython-input-15-9330e056eb9e>\", line 1>, 58): loc(\"<module>\"(\"<ipython-input-15-9330e056eb9e>\":1:7)), (<code object run_code at 0x14a36d0, file \"/usr/local/lib/python3.11/dist-packages/IPython/core/interactiveshell.py\", line 3512>, 426): loc(\"InteractiveShell.run_code\"(\"/usr/local/lib/python3.11/dist-packages/IPython/core/interactiveshell.py\":3553:20)), (<code object run_ast_nodes at 0x14a29e0, file \"/usr/local/lib/python3.11/dist-packages/IPython/core/interactiveshell.py\", line 3360>, 1710): loc(\"InteractiveShell.run_ast_nodes\"(\"/usr/local/lib/python3.11/dist-packages/IPython/core/interactiveshell.py\":3473:24)), (<code object run_cell_async at 0x14a6350, file \"/usr/local/lib/python3.11/dist-packages/IPython/core/interactiveshell.py\", line 3084>, 2004): loc(\"InteractiveShell.run_cell_async\"(\"/usr/local/lib/python3.11/dist-packages/IPython/core/interactiveshell.py\":3257:29)), (<code object _pseudo_sync_runner at 0x7d75e7680630, file \"/usr/local/lib/python3.11/dist-packages/IPython/core/async_helpers.py\", line 68>, 30): loc(\"_pseudo_sync_runner\"(\"/usr/local/lib/python3.11/dist-packages/IPython/core/async_helpers.py\":78:8))}, canonical_name_cache={'<ipython-input-4-7ddbe2c70ac2>': '<ipython-input-4-7ddbe2c70ac2>', '<ipython-input-2-1ef1b2b25170>': '<ipython-input-2-1ef1b2b25170>', '<ipython-input-15-9330e056eb9e>': '<ipython-input-15-9330e056eb9e>', '/usr/local/lib/python3.11/dist-packages/IPython/core/interactiveshell.py': '/usr/local/lib/python3.11/dist-packages/IPython/core/interactiveshell.py', '/usr/local/lib/python3.11/dist-packages/IPython/core/async_helpers.py': '/usr/local/lib/python3.11/dist-packages/IPython/core/async_helpers.py'}, is_user_file_cache={'/usr/local/lib/python3.11/dist-packages/jax/_src/source_info_util.py': False, '/usr/local/lib/python3.11/dist-packages/jax/_src/interpreters/partial_eval.py': False, '/usr/local/lib/python3.11/dist-packages/jax/_src/core.py': False, '<ipython-input-4-7ddbe2c70ac2>': True, '<ipython-input-2-1ef1b2b25170>': True, '<ipython-input-15-9330e056eb9e>': True, '/usr/local/lib/python3.11/dist-packages/jax/_src/linear_util.py': False, '/usr/local/lib/python3.11/dist-packages/jax/_src/profiler.py': False, '/usr/local/lib/python3.11/dist-packages/jax/_src/pjit.py': False, '/usr/local/lib/python3.11/dist-packages/jax/_src/traceback_util.py': False, '/usr/local/lib/python3.11/dist-packages/IPython/core/interactiveshell.py': True, '/usr/local/lib/python3.11/dist-packages/IPython/core/async_helpers.py': True}), lowering_parameters=LoweringParameters(override_lowering_rules=None, global_constant_computation=False, for_export=False, export_ignore_forward_compatibility=False)), name_stack=NameStack(stack=(Scope(name='jit(<lambda>)'), Scope(name='jit(main)'))), primitive=multiply_add, avals_in=[ShapedArray(float32[], weak_type=True), ShapedArray(float32[], weak_type=True), ShapedArray(float32[], weak_type=True)], avals_out=[ShapedArray(float32[])], tokens_in=<jax._src.interpreters.mlir.TokenSet object at 0x7d75bc38e210>, tokens_out=None, axis_size_env=None, dim_var_values=[], jaxpr_eqn_ctx=JaxprEqnContext(compute_type=None,threefry_partitionable=False),xla_metadata={}, platforms=None), Value(<block argument> of type 'tensor<f32>' at index: 0), Value(<block argument> of type 'tensor<f32>' at index: 0), Value(%0 = \"stablehlo.constant\"() <{value = dense<1.000000e+01> : tensor<f32>}> : () -> tensor<f32>))\n",
            "|<- multiply_add_lowering = [<jaxlib.mlir._mlir_libs._mlir.ir.OpResult object at 0x7d75bc38e3b0>]\n"
          ]
        }
      ]
    },
    {
      "cell_type": "code",
      "source": [
        "from jax.interpreters import ad\n",
        "\n",
        "@trace(\"multiply_add_value_and_jvp\")\n",
        "def multiply_add_value_and_jvp(arg_values, arg_tangents):\n",
        "  \"\"\"Evaluates the primal output and the tangents (Jacobian-vector product).\n",
        "\n",
        "  Given values of the arguments and perturbation of the arguments (tangents),\n",
        "  compute the output of the primitive and the perturbation of the output.\n",
        "\n",
        "  This method must be JAX-traceable. JAX may invoke it with abstract values\n",
        "  for the arguments and tangents.\n",
        "\n",
        "  Args:\n",
        "    arg_values: A tuple of arguments\n",
        "    arg_tangents: A tuple with the tangents of the arguments. The tuple has\n",
        "      the same length as the arg_values. Some of the tangents may also be the\n",
        "      special value `ad.Zero` to specify a zero tangent\n",
        "\n",
        "  Returns:\n",
        "     A pair of the primal output and the tangent.\n",
        "  \"\"\"\n",
        "  x, y, z = arg_values\n",
        "  xt, yt, zt = arg_tangents\n",
        "  _trace(\"Primal evaluation:\")\n",
        "  # Now, you have a JAX-traceable computation of the output.\n",
        "  # Normally, you can use the multiply add (`ma`) primitive itself to compute the primal output.\n",
        "  primal_out = multiply_add_prim(x, y, z)\n",
        "\n",
        "  _trace(\"Tangent evaluation:\")\n",
        "  # You must use a JAX-traceable way to compute the tangent. It turns out that\n",
        "  # the output tangent can be computed as (xt * y + x * yt + zt),\n",
        "  # which you can implement in a JAX-traceable way using the same \"multiply_add_prim\" primitive.\n",
        "\n",
        "  # You do need to deal specially with `Zero`. Here, you just turn it into a\n",
        "  # proper tensor of 0s (of the same shape as 'x').\n",
        "  # An alternative would be to check for `Zero` and perform algebraic\n",
        "  # simplification of the output tangent computation.\n",
        "  def make_zero(tan):\n",
        "    return lax.zeros_like_array(x) if type(tan) is ad.Zero else tan\n",
        "\n",
        "  output_tangent = multiply_add_prim(make_zero(xt), y, multiply_add_prim(x, make_zero(yt), make_zero(zt)))\n",
        "  return (primal_out, output_tangent)\n",
        "\n",
        "# Register the forward differentiation rule with JAX:\n",
        "ad.primitive_jvps[multiply_add_p] = multiply_add_value_and_jvp"
      ],
      "metadata": {
        "id": "90htjJnuswOR"
      },
      "execution_count": 16,
      "outputs": []
    },
    {
      "cell_type": "code",
      "source": [
        "# Tangent is: xt*y + x*yt + zt = 1.*2. + 2.*1. + 1. = 5.\n",
        "assert api.jvp(square_add_prim, (2., 10.), (1., 1.)) == (14., 5.)"
      ],
      "metadata": {
        "colab": {
          "base_uri": "https://localhost:8080/"
        },
        "id": "aqstJI_msyd8",
        "outputId": "99621097-2f3f-4c43-884c-04903f7c71f9"
      },
      "execution_count": 17,
      "outputs": [
        {
          "output_type": "stream",
          "name": "stdout",
          "text": [
            "call square_add_prim(Traced<ConcreteArray(2.0, dtype=float32, weak_type=True)>, Traced<ConcreteArray(10.0, dtype=float32, weak_type=True)>)\n",
            "  call multiply_add_prim(Traced<ConcreteArray(2.0, dtype=float32, weak_type=True)>, Traced<ConcreteArray(2.0, dtype=float32, weak_type=True)>, Traced<ConcreteArray(10.0, dtype=float32, weak_type=True)>)\n",
            "    call multiply_add_value_and_jvp((2.0, 2.0, 10.0), (1.0, 1.0, 1.0))\n",
            "      Primal evaluation:\n",
            "      call multiply_add_prim(2.0, 2.0, 10.0)\n",
            "        call multiply_add_impl(2.0, 2.0, 10.0)\n",
            "        |<- multiply_add_impl = 14.0\n",
            "      |<- multiply_add_prim = 14.0\n",
            "      Tangent evaluation:\n",
            "      call multiply_add_prim(2.0, 1.0, 1.0)\n",
            "        call multiply_add_impl(2.0, 1.0, 1.0)\n",
            "        |<- multiply_add_impl = 3.0\n",
            "      |<- multiply_add_prim = 3.0\n",
            "      call multiply_add_prim(1.0, 2.0, 3.0)\n",
            "        call multiply_add_impl(1.0, 2.0, 3.0)\n",
            "        |<- multiply_add_impl = 5.0\n",
            "      |<- multiply_add_prim = 5.0\n",
            "    |<- multiply_add_value_and_jvp = (14.0, 5.0)\n",
            "  |<- multiply_add_prim = Traced<ConcreteArray(14.0, dtype=float32)>\n",
            "|<- square_add_prim = Traced<ConcreteArray(14.0, dtype=float32)>\n"
          ]
        }
      ]
    },
    {
      "cell_type": "markdown",
      "source": [
        "### JIT of FWD"
      ],
      "metadata": {
        "id": "Npc_bOmps03l"
      }
    },
    {
      "cell_type": "code",
      "source": [
        "assert api.jit(lambda arg_values, arg_tangents:\n",
        "                   api.jvp(square_add_prim, arg_values, arg_tangents))(\n",
        "         (2., 10.), (1., 1.)) == (14., 5.)"
      ],
      "metadata": {
        "colab": {
          "base_uri": "https://localhost:8080/"
        },
        "id": "0W3hOOaCs6Sz",
        "outputId": "da81ac44-e60e-4e09-cf49-02d43e7bd4f7"
      },
      "execution_count": 18,
      "outputs": [
        {
          "output_type": "stream",
          "name": "stdout",
          "text": [
            "call square_add_prim(Traced<ShapedArray(float32[], weak_type=True)>, Traced<ShapedArray(float32[], weak_type=True)>)\n",
            "  call multiply_add_prim(Traced<ShapedArray(float32[], weak_type=True)>, Traced<ShapedArray(float32[], weak_type=True)>, Traced<ShapedArray(float32[], weak_type=True)>)\n",
            "    call multiply_add_value_and_jvp((Traced<ShapedArray(float32[], weak_type=True)>with<DynamicJaxprTrace(level=1/0)>, Traced<ShapedArray(float32[], weak_type=True)>with<DynamicJaxprTrace(level=1/0)>, Traced<ShapedArray(float32[], weak_type=True)>with<DynamicJaxprTrace(level=1/0)>), (Traced<ShapedArray(float32[], weak_type=True)>with<DynamicJaxprTrace(level=1/0)>, Traced<ShapedArray(float32[], weak_type=True)>with<DynamicJaxprTrace(level=1/0)>, Traced<ShapedArray(float32[], weak_type=True)>with<DynamicJaxprTrace(level=1/0)>))\n",
            "      Primal evaluation:\n",
            "      call multiply_add_prim(Traced<ShapedArray(float32[], weak_type=True)>with<DynamicJaxprTrace(level=1/0)>, Traced<ShapedArray(float32[], weak_type=True)>with<DynamicJaxprTrace(level=1/0)>, Traced<ShapedArray(float32[], weak_type=True)>with<DynamicJaxprTrace(level=1/0)>)\n",
            "        call multiply_add_abstract_eval(ShapedArray(float32[], weak_type=True), ShapedArray(float32[], weak_type=True), ShapedArray(float32[], weak_type=True))\n",
            "        |<- multiply_add_abstract_eval = ShapedArray(float32[])\n",
            "      |<- multiply_add_prim = Traced<ShapedArray(float32[])>with<DynamicJaxprTrace(level=1/0)>\n",
            "      Tangent evaluation:\n",
            "      call multiply_add_prim(Traced<ShapedArray(float32[], weak_type=True)>with<DynamicJaxprTrace(level=1/0)>, Traced<ShapedArray(float32[], weak_type=True)>with<DynamicJaxprTrace(level=1/0)>, Traced<ShapedArray(float32[], weak_type=True)>with<DynamicJaxprTrace(level=1/0)>)\n",
            "        call multiply_add_abstract_eval(ShapedArray(float32[], weak_type=True), ShapedArray(float32[], weak_type=True), ShapedArray(float32[], weak_type=True))\n",
            "        |<- multiply_add_abstract_eval = ShapedArray(float32[])\n",
            "      |<- multiply_add_prim = Traced<ShapedArray(float32[])>with<DynamicJaxprTrace(level=1/0)>\n",
            "      call multiply_add_prim(Traced<ShapedArray(float32[], weak_type=True)>with<DynamicJaxprTrace(level=1/0)>, Traced<ShapedArray(float32[], weak_type=True)>with<DynamicJaxprTrace(level=1/0)>, Traced<ShapedArray(float32[])>with<DynamicJaxprTrace(level=1/0)>)\n",
            "        call multiply_add_abstract_eval(ShapedArray(float32[], weak_type=True), ShapedArray(float32[], weak_type=True), ShapedArray(float32[]))\n",
            "        |<- multiply_add_abstract_eval = ShapedArray(float32[])\n",
            "      |<- multiply_add_prim = Traced<ShapedArray(float32[])>with<DynamicJaxprTrace(level=1/0)>\n",
            "    |<- multiply_add_value_and_jvp = (Traced<ShapedArray(float32[])>with<DynamicJaxprTrace(level=1/0)>, Traced<ShapedArray(float32[])>with<DynamicJaxprTrace(level=1/0)>)\n",
            "  |<- multiply_add_prim = Traced<ShapedArray(float32[])>\n",
            "|<- square_add_prim = Traced<ShapedArray(float32[])>\n",
            "call multiply_add_lowering(LoweringRuleContext(module_context=ModuleContext(context=<jaxlib.mlir._mlir_libs._site_initialize.<locals>.Context object at 0x7d75bc36d790>, module=<jaxlib.mlir._mlir_libs._mlir.ir.Module object at 0x7d75bc38e7b0>, ip=<jaxlib.mlir._mlir_libs._mlir.ir.InsertionPoint object at 0x7d75bc38e830>, symbol_table=<jaxlib.mlir._mlir_libs._mlir.ir.SymbolTable object at 0x7d75bc38e7f0>, backend_or_name=<jaxlib.xla_extension.Client object at 0x7d75c42a62c0>, platforms=('cpu',), axis_context=ShardingContext(num_devices=1, device_assignment=None, mesh_shape=None), keepalives=[], channel_iterator=count(1), host_callbacks=[], shape_poly_state=<jax._src.interpreters.mlir.ShapePolyLoweringState object at 0x7d75bc38e110>, all_default_mem_kind=True, cached_primitive_lowerings={}, traceback_caches=TracebackCaches(traceback_cache={<jaxlib.xla_extension.Traceback object at 0x3fcf1f0>: loc(callsite(\"multiply_add_prim\"(\"<ipython-input-4-7ddbe2c70ac2>\":12:9) at callsite(\"trace.<locals>.trace_func.<locals>.func_wrapper\"(\"<ipython-input-2-1ef1b2b25170>\":48:12) at callsite(\"multiply_add_value_and_jvp\"(\"<ipython-input-16-4ad3168cb1d9>\":27:15) at callsite(\"trace.<locals>.trace_func.<locals>.func_wrapper\"(\"<ipython-input-2-1ef1b2b25170>\":48:12) at callsite(\"multiply_add_prim\"(\"<ipython-input-4-7ddbe2c70ac2>\":12:9) at callsite(\"trace.<locals>.trace_func.<locals>.func_wrapper\"(\"<ipython-input-2-1ef1b2b25170>\":48:12) at callsite(\"square_add_prim\"(\"<ipython-input-4-7ddbe2c70ac2>\":17:9) at callsite(\"trace.<locals>.trace_func.<locals>.func_wrapper\"(\"<ipython-input-2-1ef1b2b25170>\":48:12) at callsite(\"<lambda>\"(\"<ipython-input-18-b6c6f9db19ce>\":2:19) at \"<module>\"(\"<ipython-input-18-b6c6f9db19ce>\":1:7)))))))))))}, location_cache={(<code object multiply_add_prim at 0x7d75bc3ffd30, file \"<ipython-input-4-7ddbe2c70ac2>\", line 5>, 54): loc(\"multiply_add_prim\"(\"<ipython-input-4-7ddbe2c70ac2>\":12:9)), (<code object func_wrapper at 0x7d75c7af9530, file \"<ipython-input-2-1ef1b2b25170>\", line 45>, 98): loc(\"trace.<locals>.trace_func.<locals>.func_wrapper\"(\"<ipython-input-2-1ef1b2b25170>\":48:12)), (<code object multiply_add_value_and_jvp at 0x7d75c43d5fb0, file \"<ipython-input-16-4ad3168cb1d9>\", line 3>, 88): loc(\"multiply_add_value_and_jvp\"(\"<ipython-input-16-4ad3168cb1d9>\":27:15)), (<code object square_add_prim at 0x7d75bc3dd8b0, file \"<ipython-input-4-7ddbe2c70ac2>\", line 14>, 32): loc(\"square_add_prim\"(\"<ipython-input-4-7ddbe2c70ac2>\":17:9)), (<code object <lambda> at 0x7d75bc3d0530, file \"<ipython-input-18-b6c6f9db19ce>\", line 1>, 64): loc(\"<lambda>\"(\"<ipython-input-18-b6c6f9db19ce>\":2:19)), (<code object <cell line: 0> at 0x7d75c41b9790, file \"<ipython-input-18-b6c6f9db19ce>\", line 1>, 54): loc(\"<module>\"(\"<ipython-input-18-b6c6f9db19ce>\":1:7))}, canonical_name_cache={'<ipython-input-4-7ddbe2c70ac2>': '<ipython-input-4-7ddbe2c70ac2>', '<ipython-input-2-1ef1b2b25170>': '<ipython-input-2-1ef1b2b25170>', '<ipython-input-16-4ad3168cb1d9>': '<ipython-input-16-4ad3168cb1d9>', '<ipython-input-18-b6c6f9db19ce>': '<ipython-input-18-b6c6f9db19ce>'}, is_user_file_cache={'/usr/local/lib/python3.11/dist-packages/jax/_src/source_info_util.py': False, '/usr/local/lib/python3.11/dist-packages/jax/_src/interpreters/partial_eval.py': False, '/usr/local/lib/python3.11/dist-packages/jax/_src/core.py': False, '<ipython-input-4-7ddbe2c70ac2>': True, '<ipython-input-2-1ef1b2b25170>': True, '<ipython-input-16-4ad3168cb1d9>': True, '/usr/local/lib/python3.11/dist-packages/jax/_src/interpreters/ad.py': False, '/usr/local/lib/python3.11/dist-packages/jax/_src/linear_util.py': False, '/usr/local/lib/python3.11/dist-packages/jax/_src/api.py': False, '<ipython-input-18-b6c6f9db19ce>': True, '/usr/local/lib/python3.11/dist-packages/jax/_src/profiler.py': False, '/usr/local/lib/python3.11/dist-packages/jax/_src/pjit.py': False, '/usr/local/lib/python3.11/dist-packages/jax/_src/traceback_util.py': False}), lowering_parameters=LoweringParameters(override_lowering_rules=None, global_constant_computation=False, for_export=False, export_ignore_forward_compatibility=False)), name_stack=NameStack(stack=(Scope(name='jit(<lambda>)'), Scope(name='jit(main)'), Transform(name='jvp'))), primitive=multiply_add, avals_in=[ShapedArray(float32[], weak_type=True), ShapedArray(float32[], weak_type=True), ShapedArray(float32[], weak_type=True)], avals_out=[ShapedArray(float32[])], tokens_in=<jax._src.interpreters.mlir.TokenSet object at 0x7d75bc3940d0>, tokens_out=None, axis_size_env=None, dim_var_values=[], jaxpr_eqn_ctx=JaxprEqnContext(compute_type=None,threefry_partitionable=False),xla_metadata={}, platforms=None), Value(<block argument> of type 'tensor<f32>' at index: 0), Value(<block argument> of type 'tensor<f32>' at index: 0), Value(<block argument> of type 'tensor<f32>' at index: 1))\n",
            "|<- multiply_add_lowering = [<jaxlib.mlir._mlir_libs._mlir.ir.OpResult object at 0x7d75bc38d7f0>]\n",
            "call multiply_add_lowering(LoweringRuleContext(module_context=ModuleContext(context=<jaxlib.mlir._mlir_libs._site_initialize.<locals>.Context object at 0x7d75bc36d790>, module=<jaxlib.mlir._mlir_libs._mlir.ir.Module object at 0x7d75bc38e7b0>, ip=<jaxlib.mlir._mlir_libs._mlir.ir.InsertionPoint object at 0x7d75bc38e830>, symbol_table=<jaxlib.mlir._mlir_libs._mlir.ir.SymbolTable object at 0x7d75bc38e7f0>, backend_or_name=<jaxlib.xla_extension.Client object at 0x7d75c42a62c0>, platforms=('cpu',), axis_context=ShardingContext(num_devices=1, device_assignment=None, mesh_shape=None), keepalives=[], channel_iterator=count(1), host_callbacks=[], shape_poly_state=<jax._src.interpreters.mlir.ShapePolyLoweringState object at 0x7d75bc38e110>, all_default_mem_kind=True, cached_primitive_lowerings={}, traceback_caches=TracebackCaches(traceback_cache={<jaxlib.xla_extension.Traceback object at 0x3fcf1f0>: loc(callsite(\"multiply_add_prim\"(\"<ipython-input-4-7ddbe2c70ac2>\":12:9) at callsite(\"trace.<locals>.trace_func.<locals>.func_wrapper\"(\"<ipython-input-2-1ef1b2b25170>\":48:12) at callsite(\"multiply_add_value_and_jvp\"(\"<ipython-input-16-4ad3168cb1d9>\":27:15) at callsite(\"trace.<locals>.trace_func.<locals>.func_wrapper\"(\"<ipython-input-2-1ef1b2b25170>\":48:12) at callsite(\"multiply_add_prim\"(\"<ipython-input-4-7ddbe2c70ac2>\":12:9) at callsite(\"trace.<locals>.trace_func.<locals>.func_wrapper\"(\"<ipython-input-2-1ef1b2b25170>\":48:12) at callsite(\"square_add_prim\"(\"<ipython-input-4-7ddbe2c70ac2>\":17:9) at callsite(\"trace.<locals>.trace_func.<locals>.func_wrapper\"(\"<ipython-input-2-1ef1b2b25170>\":48:12) at callsite(\"<lambda>\"(\"<ipython-input-18-b6c6f9db19ce>\":2:19) at \"<module>\"(\"<ipython-input-18-b6c6f9db19ce>\":1:7))))))))))), <jaxlib.xla_extension.Traceback object at 0x3de2f90>: loc(callsite(\"multiply_add_prim\"(\"<ipython-input-4-7ddbe2c70ac2>\":12:9) at callsite(\"trace.<locals>.trace_func.<locals>.func_wrapper\"(\"<ipython-input-2-1ef1b2b25170>\":48:12) at callsite(\"multiply_add_value_and_jvp\"(\"<ipython-input-16-4ad3168cb1d9>\":41:55) at callsite(\"trace.<locals>.trace_func.<locals>.func_wrapper\"(\"<ipython-input-2-1ef1b2b25170>\":48:12) at callsite(\"multiply_add_prim\"(\"<ipython-input-4-7ddbe2c70ac2>\":12:9) at callsite(\"trace.<locals>.trace_func.<locals>.func_wrapper\"(\"<ipython-input-2-1ef1b2b25170>\":48:12) at callsite(\"square_add_prim\"(\"<ipython-input-4-7ddbe2c70ac2>\":17:9) at callsite(\"trace.<locals>.trace_func.<locals>.func_wrapper\"(\"<ipython-input-2-1ef1b2b25170>\":48:12) at callsite(\"<lambda>\"(\"<ipython-input-18-b6c6f9db19ce>\":2:19) at \"<module>\"(\"<ipython-input-18-b6c6f9db19ce>\":1:7)))))))))))}, location_cache={(<code object multiply_add_prim at 0x7d75bc3ffd30, file \"<ipython-input-4-7ddbe2c70ac2>\", line 5>, 54): loc(\"multiply_add_prim\"(\"<ipython-input-4-7ddbe2c70ac2>\":12:9)), (<code object func_wrapper at 0x7d75c7af9530, file \"<ipython-input-2-1ef1b2b25170>\", line 45>, 98): loc(\"trace.<locals>.trace_func.<locals>.func_wrapper\"(\"<ipython-input-2-1ef1b2b25170>\":48:12)), (<code object multiply_add_value_and_jvp at 0x7d75c43d5fb0, file \"<ipython-input-16-4ad3168cb1d9>\", line 3>, 88): loc(\"multiply_add_value_and_jvp\"(\"<ipython-input-16-4ad3168cb1d9>\":27:15)), (<code object square_add_prim at 0x7d75bc3dd8b0, file \"<ipython-input-4-7ddbe2c70ac2>\", line 14>, 32): loc(\"square_add_prim\"(\"<ipython-input-4-7ddbe2c70ac2>\":17:9)), (<code object <lambda> at 0x7d75bc3d0530, file \"<ipython-input-18-b6c6f9db19ce>\", line 1>, 64): loc(\"<lambda>\"(\"<ipython-input-18-b6c6f9db19ce>\":2:19)), (<code object <cell line: 0> at 0x7d75c41b9790, file \"<ipython-input-18-b6c6f9db19ce>\", line 1>, 54): loc(\"<module>\"(\"<ipython-input-18-b6c6f9db19ce>\":1:7)), (<code object multiply_add_value_and_jvp at 0x7d75c43d5fb0, file \"<ipython-input-16-4ad3168cb1d9>\", line 3>, 232): loc(\"multiply_add_value_and_jvp\"(\"<ipython-input-16-4ad3168cb1d9>\":41:55))}, canonical_name_cache={'<ipython-input-4-7ddbe2c70ac2>': '<ipython-input-4-7ddbe2c70ac2>', '<ipython-input-2-1ef1b2b25170>': '<ipython-input-2-1ef1b2b25170>', '<ipython-input-16-4ad3168cb1d9>': '<ipython-input-16-4ad3168cb1d9>', '<ipython-input-18-b6c6f9db19ce>': '<ipython-input-18-b6c6f9db19ce>'}, is_user_file_cache={'/usr/local/lib/python3.11/dist-packages/jax/_src/source_info_util.py': False, '/usr/local/lib/python3.11/dist-packages/jax/_src/interpreters/partial_eval.py': False, '/usr/local/lib/python3.11/dist-packages/jax/_src/core.py': False, '<ipython-input-4-7ddbe2c70ac2>': True, '<ipython-input-2-1ef1b2b25170>': True, '<ipython-input-16-4ad3168cb1d9>': True, '/usr/local/lib/python3.11/dist-packages/jax/_src/interpreters/ad.py': False, '/usr/local/lib/python3.11/dist-packages/jax/_src/linear_util.py': False, '/usr/local/lib/python3.11/dist-packages/jax/_src/api.py': False, '<ipython-input-18-b6c6f9db19ce>': True, '/usr/local/lib/python3.11/dist-packages/jax/_src/profiler.py': False, '/usr/local/lib/python3.11/dist-packages/jax/_src/pjit.py': False, '/usr/local/lib/python3.11/dist-packages/jax/_src/traceback_util.py': False}), lowering_parameters=LoweringParameters(override_lowering_rules=None, global_constant_computation=False, for_export=False, export_ignore_forward_compatibility=False)), name_stack=NameStack(stack=(Scope(name='jit(<lambda>)'), Scope(name='jit(main)'), Transform(name='jvp'))), primitive=multiply_add, avals_in=[ShapedArray(float32[], weak_type=True), ShapedArray(float32[], weak_type=True), ShapedArray(float32[], weak_type=True)], avals_out=[ShapedArray(float32[])], tokens_in=<jax._src.interpreters.mlir.TokenSet object at 0x7d75bc394550>, tokens_out=None, axis_size_env=None, dim_var_values=[], jaxpr_eqn_ctx=JaxprEqnContext(compute_type=None,threefry_partitionable=False),xla_metadata={}, platforms=None), Value(<block argument> of type 'tensor<f32>' at index: 0), Value(<block argument> of type 'tensor<f32>' at index: 2), Value(<block argument> of type 'tensor<f32>' at index: 3))\n",
            "|<- multiply_add_lowering = [<jaxlib.mlir._mlir_libs._mlir.ir.OpResult object at 0x7d75bc3940b0>]\n",
            "call multiply_add_lowering(LoweringRuleContext(module_context=ModuleContext(context=<jaxlib.mlir._mlir_libs._site_initialize.<locals>.Context object at 0x7d75bc36d790>, module=<jaxlib.mlir._mlir_libs._mlir.ir.Module object at 0x7d75bc38e7b0>, ip=<jaxlib.mlir._mlir_libs._mlir.ir.InsertionPoint object at 0x7d75bc38e830>, symbol_table=<jaxlib.mlir._mlir_libs._mlir.ir.SymbolTable object at 0x7d75bc38e7f0>, backend_or_name=<jaxlib.xla_extension.Client object at 0x7d75c42a62c0>, platforms=('cpu',), axis_context=ShardingContext(num_devices=1, device_assignment=None, mesh_shape=None), keepalives=[], channel_iterator=count(1), host_callbacks=[], shape_poly_state=<jax._src.interpreters.mlir.ShapePolyLoweringState object at 0x7d75bc38e110>, all_default_mem_kind=True, cached_primitive_lowerings={}, traceback_caches=TracebackCaches(traceback_cache={<jaxlib.xla_extension.Traceback object at 0x3fcf1f0>: loc(callsite(\"multiply_add_prim\"(\"<ipython-input-4-7ddbe2c70ac2>\":12:9) at callsite(\"trace.<locals>.trace_func.<locals>.func_wrapper\"(\"<ipython-input-2-1ef1b2b25170>\":48:12) at callsite(\"multiply_add_value_and_jvp\"(\"<ipython-input-16-4ad3168cb1d9>\":27:15) at callsite(\"trace.<locals>.trace_func.<locals>.func_wrapper\"(\"<ipython-input-2-1ef1b2b25170>\":48:12) at callsite(\"multiply_add_prim\"(\"<ipython-input-4-7ddbe2c70ac2>\":12:9) at callsite(\"trace.<locals>.trace_func.<locals>.func_wrapper\"(\"<ipython-input-2-1ef1b2b25170>\":48:12) at callsite(\"square_add_prim\"(\"<ipython-input-4-7ddbe2c70ac2>\":17:9) at callsite(\"trace.<locals>.trace_func.<locals>.func_wrapper\"(\"<ipython-input-2-1ef1b2b25170>\":48:12) at callsite(\"<lambda>\"(\"<ipython-input-18-b6c6f9db19ce>\":2:19) at \"<module>\"(\"<ipython-input-18-b6c6f9db19ce>\":1:7))))))))))), <jaxlib.xla_extension.Traceback object at 0x3de2f90>: loc(callsite(\"multiply_add_prim\"(\"<ipython-input-4-7ddbe2c70ac2>\":12:9) at callsite(\"trace.<locals>.trace_func.<locals>.func_wrapper\"(\"<ipython-input-2-1ef1b2b25170>\":48:12) at callsite(\"multiply_add_value_and_jvp\"(\"<ipython-input-16-4ad3168cb1d9>\":41:55) at callsite(\"trace.<locals>.trace_func.<locals>.func_wrapper\"(\"<ipython-input-2-1ef1b2b25170>\":48:12) at callsite(\"multiply_add_prim\"(\"<ipython-input-4-7ddbe2c70ac2>\":12:9) at callsite(\"trace.<locals>.trace_func.<locals>.func_wrapper\"(\"<ipython-input-2-1ef1b2b25170>\":48:12) at callsite(\"square_add_prim\"(\"<ipython-input-4-7ddbe2c70ac2>\":17:9) at callsite(\"trace.<locals>.trace_func.<locals>.func_wrapper\"(\"<ipython-input-2-1ef1b2b25170>\":48:12) at callsite(\"<lambda>\"(\"<ipython-input-18-b6c6f9db19ce>\":2:19) at \"<module>\"(\"<ipython-input-18-b6c6f9db19ce>\":1:7))))))))))), <jaxlib.xla_extension.Traceback object at 0x3e415e0>: loc(callsite(\"multiply_add_prim\"(\"<ipython-input-4-7ddbe2c70ac2>\":12:9) at callsite(\"trace.<locals>.trace_func.<locals>.func_wrapper\"(\"<ipython-input-2-1ef1b2b25170>\":48:12) at callsite(\"multiply_add_value_and_jvp\"(\"<ipython-input-16-4ad3168cb1d9>\":41:19) at callsite(\"trace.<locals>.trace_func.<locals>.func_wrapper\"(\"<ipython-input-2-1ef1b2b25170>\":48:12) at callsite(\"multiply_add_prim\"(\"<ipython-input-4-7ddbe2c70ac2>\":12:9) at callsite(\"trace.<locals>.trace_func.<locals>.func_wrapper\"(\"<ipython-input-2-1ef1b2b25170>\":48:12) at callsite(\"square_add_prim\"(\"<ipython-input-4-7ddbe2c70ac2>\":17:9) at callsite(\"trace.<locals>.trace_func.<locals>.func_wrapper\"(\"<ipython-input-2-1ef1b2b25170>\":48:12) at callsite(\"<lambda>\"(\"<ipython-input-18-b6c6f9db19ce>\":2:19) at \"<module>\"(\"<ipython-input-18-b6c6f9db19ce>\":1:7)))))))))))}, location_cache={(<code object multiply_add_prim at 0x7d75bc3ffd30, file \"<ipython-input-4-7ddbe2c70ac2>\", line 5>, 54): loc(\"multiply_add_prim\"(\"<ipython-input-4-7ddbe2c70ac2>\":12:9)), (<code object func_wrapper at 0x7d75c7af9530, file \"<ipython-input-2-1ef1b2b25170>\", line 45>, 98): loc(\"trace.<locals>.trace_func.<locals>.func_wrapper\"(\"<ipython-input-2-1ef1b2b25170>\":48:12)), (<code object multiply_add_value_and_jvp at 0x7d75c43d5fb0, file \"<ipython-input-16-4ad3168cb1d9>\", line 3>, 88): loc(\"multiply_add_value_and_jvp\"(\"<ipython-input-16-4ad3168cb1d9>\":27:15)), (<code object square_add_prim at 0x7d75bc3dd8b0, file \"<ipython-input-4-7ddbe2c70ac2>\", line 14>, 32): loc(\"square_add_prim\"(\"<ipython-input-4-7ddbe2c70ac2>\":17:9)), (<code object <lambda> at 0x7d75bc3d0530, file \"<ipython-input-18-b6c6f9db19ce>\", line 1>, 64): loc(\"<lambda>\"(\"<ipython-input-18-b6c6f9db19ce>\":2:19)), (<code object <cell line: 0> at 0x7d75c41b9790, file \"<ipython-input-18-b6c6f9db19ce>\", line 1>, 54): loc(\"<module>\"(\"<ipython-input-18-b6c6f9db19ce>\":1:7)), (<code object multiply_add_value_and_jvp at 0x7d75c43d5fb0, file \"<ipython-input-16-4ad3168cb1d9>\", line 3>, 232): loc(\"multiply_add_value_and_jvp\"(\"<ipython-input-16-4ad3168cb1d9>\":41:55)), (<code object multiply_add_value_and_jvp at 0x7d75c43d5fb0, file \"<ipython-input-16-4ad3168cb1d9>\", line 3>, 246): loc(\"multiply_add_value_and_jvp\"(\"<ipython-input-16-4ad3168cb1d9>\":41:19))}, canonical_name_cache={'<ipython-input-4-7ddbe2c70ac2>': '<ipython-input-4-7ddbe2c70ac2>', '<ipython-input-2-1ef1b2b25170>': '<ipython-input-2-1ef1b2b25170>', '<ipython-input-16-4ad3168cb1d9>': '<ipython-input-16-4ad3168cb1d9>', '<ipython-input-18-b6c6f9db19ce>': '<ipython-input-18-b6c6f9db19ce>'}, is_user_file_cache={'/usr/local/lib/python3.11/dist-packages/jax/_src/source_info_util.py': False, '/usr/local/lib/python3.11/dist-packages/jax/_src/interpreters/partial_eval.py': False, '/usr/local/lib/python3.11/dist-packages/jax/_src/core.py': False, '<ipython-input-4-7ddbe2c70ac2>': True, '<ipython-input-2-1ef1b2b25170>': True, '<ipython-input-16-4ad3168cb1d9>': True, '/usr/local/lib/python3.11/dist-packages/jax/_src/interpreters/ad.py': False, '/usr/local/lib/python3.11/dist-packages/jax/_src/linear_util.py': False, '/usr/local/lib/python3.11/dist-packages/jax/_src/api.py': False, '<ipython-input-18-b6c6f9db19ce>': True, '/usr/local/lib/python3.11/dist-packages/jax/_src/profiler.py': False, '/usr/local/lib/python3.11/dist-packages/jax/_src/pjit.py': False, '/usr/local/lib/python3.11/dist-packages/jax/_src/traceback_util.py': False}), lowering_parameters=LoweringParameters(override_lowering_rules=None, global_constant_computation=False, for_export=False, export_ignore_forward_compatibility=False)), name_stack=NameStack(stack=(Scope(name='jit(<lambda>)'), Scope(name='jit(main)'), Transform(name='jvp'))), primitive=multiply_add, avals_in=[ShapedArray(float32[], weak_type=True), ShapedArray(float32[], weak_type=True), ShapedArray(float32[])], avals_out=[ShapedArray(float32[])], tokens_in=<jax._src.interpreters.mlir.TokenSet object at 0x7d75bc394990>, tokens_out=None, axis_size_env=None, dim_var_values=[], jaxpr_eqn_ctx=JaxprEqnContext(compute_type=None,threefry_partitionable=False),xla_metadata={}, platforms=None), Value(<block argument> of type 'tensor<f32>' at index: 2), Value(<block argument> of type 'tensor<f32>' at index: 0), Value(%3 = \"stablehlo.add\"(%2, %arg3) : (tensor<f32>, tensor<f32>) -> tensor<f32>))\n",
            "|<- multiply_add_lowering = [<jaxlib.mlir._mlir_libs._mlir.ir.OpResult object at 0x7d75c63ea930>]\n"
          ]
        }
      ]
    },
    {
      "cell_type": "markdown",
      "source": [
        "## Reverse Differentiation"
      ],
      "metadata": {
        "id": "5NN_Va8Ls7LR"
      }
    },
    {
      "cell_type": "code",
      "source": [
        "assert api.jit(lambda arg_values, arg_tangents:\n",
        "                   api.jvp(square_add_prim, arg_values, arg_tangents))(\n",
        "         (2., 10.), (1., 1.)) == (14., 5.)"
      ],
      "metadata": {
        "colab": {
          "base_uri": "https://localhost:8080/"
        },
        "id": "3c-Wz_xXtDGe",
        "outputId": "9ed1bb92-8ce8-432d-fe58-831a319703f2"
      },
      "execution_count": 19,
      "outputs": [
        {
          "output_type": "stream",
          "name": "stdout",
          "text": [
            "call square_add_prim(Traced<ShapedArray(float32[], weak_type=True)>, Traced<ShapedArray(float32[], weak_type=True)>)\n",
            "  call multiply_add_prim(Traced<ShapedArray(float32[], weak_type=True)>, Traced<ShapedArray(float32[], weak_type=True)>, Traced<ShapedArray(float32[], weak_type=True)>)\n",
            "    call multiply_add_value_and_jvp((Traced<ShapedArray(float32[], weak_type=True)>with<DynamicJaxprTrace(level=1/0)>, Traced<ShapedArray(float32[], weak_type=True)>with<DynamicJaxprTrace(level=1/0)>, Traced<ShapedArray(float32[], weak_type=True)>with<DynamicJaxprTrace(level=1/0)>), (Traced<ShapedArray(float32[], weak_type=True)>with<DynamicJaxprTrace(level=1/0)>, Traced<ShapedArray(float32[], weak_type=True)>with<DynamicJaxprTrace(level=1/0)>, Traced<ShapedArray(float32[], weak_type=True)>with<DynamicJaxprTrace(level=1/0)>))\n",
            "      Primal evaluation:\n",
            "      call multiply_add_prim(Traced<ShapedArray(float32[], weak_type=True)>with<DynamicJaxprTrace(level=1/0)>, Traced<ShapedArray(float32[], weak_type=True)>with<DynamicJaxprTrace(level=1/0)>, Traced<ShapedArray(float32[], weak_type=True)>with<DynamicJaxprTrace(level=1/0)>)\n",
            "        call multiply_add_abstract_eval(ShapedArray(float32[], weak_type=True), ShapedArray(float32[], weak_type=True), ShapedArray(float32[], weak_type=True))\n",
            "        |<- multiply_add_abstract_eval = ShapedArray(float32[])\n",
            "      |<- multiply_add_prim = Traced<ShapedArray(float32[])>with<DynamicJaxprTrace(level=1/0)>\n",
            "      Tangent evaluation:\n",
            "      call multiply_add_prim(Traced<ShapedArray(float32[], weak_type=True)>with<DynamicJaxprTrace(level=1/0)>, Traced<ShapedArray(float32[], weak_type=True)>with<DynamicJaxprTrace(level=1/0)>, Traced<ShapedArray(float32[], weak_type=True)>with<DynamicJaxprTrace(level=1/0)>)\n",
            "        call multiply_add_abstract_eval(ShapedArray(float32[], weak_type=True), ShapedArray(float32[], weak_type=True), ShapedArray(float32[], weak_type=True))\n",
            "        |<- multiply_add_abstract_eval = ShapedArray(float32[])\n",
            "      |<- multiply_add_prim = Traced<ShapedArray(float32[])>with<DynamicJaxprTrace(level=1/0)>\n",
            "      call multiply_add_prim(Traced<ShapedArray(float32[], weak_type=True)>with<DynamicJaxprTrace(level=1/0)>, Traced<ShapedArray(float32[], weak_type=True)>with<DynamicJaxprTrace(level=1/0)>, Traced<ShapedArray(float32[])>with<DynamicJaxprTrace(level=1/0)>)\n",
            "        call multiply_add_abstract_eval(ShapedArray(float32[], weak_type=True), ShapedArray(float32[], weak_type=True), ShapedArray(float32[]))\n",
            "        |<- multiply_add_abstract_eval = ShapedArray(float32[])\n",
            "      |<- multiply_add_prim = Traced<ShapedArray(float32[])>with<DynamicJaxprTrace(level=1/0)>\n",
            "    |<- multiply_add_value_and_jvp = (Traced<ShapedArray(float32[])>with<DynamicJaxprTrace(level=1/0)>, Traced<ShapedArray(float32[])>with<DynamicJaxprTrace(level=1/0)>)\n",
            "  |<- multiply_add_prim = Traced<ShapedArray(float32[])>\n",
            "|<- square_add_prim = Traced<ShapedArray(float32[])>\n",
            "call multiply_add_lowering(LoweringRuleContext(module_context=ModuleContext(context=<jaxlib.mlir._mlir_libs._site_initialize.<locals>.Context object at 0x7d75bc36d8b0>, module=<jaxlib.mlir._mlir_libs._mlir.ir.Module object at 0x7d75bc38eab0>, ip=<jaxlib.mlir._mlir_libs._mlir.ir.InsertionPoint object at 0x7d75bc38ea30>, symbol_table=<jaxlib.mlir._mlir_libs._mlir.ir.SymbolTable object at 0x7d75bc38eb30>, backend_or_name=<jaxlib.xla_extension.Client object at 0x7d75c42a62c0>, platforms=('cpu',), axis_context=ShardingContext(num_devices=1, device_assignment=None, mesh_shape=None), keepalives=[], channel_iterator=count(1), host_callbacks=[], shape_poly_state=<jax._src.interpreters.mlir.ShapePolyLoweringState object at 0x7d75bc38cf90>, all_default_mem_kind=True, cached_primitive_lowerings={}, traceback_caches=TracebackCaches(traceback_cache={<jaxlib.xla_extension.Traceback object at 0x40c2700>: loc(callsite(\"multiply_add_prim\"(\"<ipython-input-4-7ddbe2c70ac2>\":12:9) at callsite(\"trace.<locals>.trace_func.<locals>.func_wrapper\"(\"<ipython-input-2-1ef1b2b25170>\":48:12) at callsite(\"multiply_add_value_and_jvp\"(\"<ipython-input-16-4ad3168cb1d9>\":27:15) at callsite(\"trace.<locals>.trace_func.<locals>.func_wrapper\"(\"<ipython-input-2-1ef1b2b25170>\":48:12) at callsite(\"multiply_add_prim\"(\"<ipython-input-4-7ddbe2c70ac2>\":12:9) at callsite(\"trace.<locals>.trace_func.<locals>.func_wrapper\"(\"<ipython-input-2-1ef1b2b25170>\":48:12) at callsite(\"square_add_prim\"(\"<ipython-input-4-7ddbe2c70ac2>\":17:9) at callsite(\"trace.<locals>.trace_func.<locals>.func_wrapper\"(\"<ipython-input-2-1ef1b2b25170>\":48:12) at callsite(\"<lambda>\"(\"<ipython-input-19-b6c6f9db19ce>\":2:19) at \"<module>\"(\"<ipython-input-19-b6c6f9db19ce>\":1:7)))))))))))}, location_cache={(<code object multiply_add_prim at 0x7d75bc3ffd30, file \"<ipython-input-4-7ddbe2c70ac2>\", line 5>, 54): loc(\"multiply_add_prim\"(\"<ipython-input-4-7ddbe2c70ac2>\":12:9)), (<code object func_wrapper at 0x7d75c7af9530, file \"<ipython-input-2-1ef1b2b25170>\", line 45>, 98): loc(\"trace.<locals>.trace_func.<locals>.func_wrapper\"(\"<ipython-input-2-1ef1b2b25170>\":48:12)), (<code object multiply_add_value_and_jvp at 0x7d75c43d5fb0, file \"<ipython-input-16-4ad3168cb1d9>\", line 3>, 88): loc(\"multiply_add_value_and_jvp\"(\"<ipython-input-16-4ad3168cb1d9>\":27:15)), (<code object square_add_prim at 0x7d75bc3dd8b0, file \"<ipython-input-4-7ddbe2c70ac2>\", line 14>, 32): loc(\"square_add_prim\"(\"<ipython-input-4-7ddbe2c70ac2>\":17:9)), (<code object <lambda> at 0x7d75bc3d0c30, file \"<ipython-input-19-b6c6f9db19ce>\", line 1>, 64): loc(\"<lambda>\"(\"<ipython-input-19-b6c6f9db19ce>\":2:19)), (<code object <cell line: 0> at 0x7d75c41b99b0, file \"<ipython-input-19-b6c6f9db19ce>\", line 1>, 54): loc(\"<module>\"(\"<ipython-input-19-b6c6f9db19ce>\":1:7))}, canonical_name_cache={'<ipython-input-4-7ddbe2c70ac2>': '<ipython-input-4-7ddbe2c70ac2>', '<ipython-input-2-1ef1b2b25170>': '<ipython-input-2-1ef1b2b25170>', '<ipython-input-16-4ad3168cb1d9>': '<ipython-input-16-4ad3168cb1d9>', '<ipython-input-19-b6c6f9db19ce>': '<ipython-input-19-b6c6f9db19ce>'}, is_user_file_cache={'/usr/local/lib/python3.11/dist-packages/jax/_src/source_info_util.py': False, '/usr/local/lib/python3.11/dist-packages/jax/_src/interpreters/partial_eval.py': False, '/usr/local/lib/python3.11/dist-packages/jax/_src/core.py': False, '<ipython-input-4-7ddbe2c70ac2>': True, '<ipython-input-2-1ef1b2b25170>': True, '<ipython-input-16-4ad3168cb1d9>': True, '/usr/local/lib/python3.11/dist-packages/jax/_src/interpreters/ad.py': False, '/usr/local/lib/python3.11/dist-packages/jax/_src/linear_util.py': False, '/usr/local/lib/python3.11/dist-packages/jax/_src/api.py': False, '<ipython-input-19-b6c6f9db19ce>': True, '/usr/local/lib/python3.11/dist-packages/jax/_src/profiler.py': False, '/usr/local/lib/python3.11/dist-packages/jax/_src/pjit.py': False, '/usr/local/lib/python3.11/dist-packages/jax/_src/traceback_util.py': False}), lowering_parameters=LoweringParameters(override_lowering_rules=None, global_constant_computation=False, for_export=False, export_ignore_forward_compatibility=False)), name_stack=NameStack(stack=(Scope(name='jit(<lambda>)'), Scope(name='jit(main)'), Transform(name='jvp'))), primitive=multiply_add, avals_in=[ShapedArray(float32[], weak_type=True), ShapedArray(float32[], weak_type=True), ShapedArray(float32[], weak_type=True)], avals_out=[ShapedArray(float32[])], tokens_in=<jax._src.interpreters.mlir.TokenSet object at 0x7d75bc395a10>, tokens_out=None, axis_size_env=None, dim_var_values=[], jaxpr_eqn_ctx=JaxprEqnContext(compute_type=None,threefry_partitionable=False),xla_metadata={}, platforms=None), Value(<block argument> of type 'tensor<f32>' at index: 0), Value(<block argument> of type 'tensor<f32>' at index: 0), Value(<block argument> of type 'tensor<f32>' at index: 1))\n",
            "|<- multiply_add_lowering = [<jaxlib.mlir._mlir_libs._mlir.ir.OpResult object at 0x7d75bc395c30>]\n",
            "call multiply_add_lowering(LoweringRuleContext(module_context=ModuleContext(context=<jaxlib.mlir._mlir_libs._site_initialize.<locals>.Context object at 0x7d75bc36d8b0>, module=<jaxlib.mlir._mlir_libs._mlir.ir.Module object at 0x7d75bc38eab0>, ip=<jaxlib.mlir._mlir_libs._mlir.ir.InsertionPoint object at 0x7d75bc38ea30>, symbol_table=<jaxlib.mlir._mlir_libs._mlir.ir.SymbolTable object at 0x7d75bc38eb30>, backend_or_name=<jaxlib.xla_extension.Client object at 0x7d75c42a62c0>, platforms=('cpu',), axis_context=ShardingContext(num_devices=1, device_assignment=None, mesh_shape=None), keepalives=[], channel_iterator=count(1), host_callbacks=[], shape_poly_state=<jax._src.interpreters.mlir.ShapePolyLoweringState object at 0x7d75bc38cf90>, all_default_mem_kind=True, cached_primitive_lowerings={}, traceback_caches=TracebackCaches(traceback_cache={<jaxlib.xla_extension.Traceback object at 0x40c2700>: loc(callsite(\"multiply_add_prim\"(\"<ipython-input-4-7ddbe2c70ac2>\":12:9) at callsite(\"trace.<locals>.trace_func.<locals>.func_wrapper\"(\"<ipython-input-2-1ef1b2b25170>\":48:12) at callsite(\"multiply_add_value_and_jvp\"(\"<ipython-input-16-4ad3168cb1d9>\":27:15) at callsite(\"trace.<locals>.trace_func.<locals>.func_wrapper\"(\"<ipython-input-2-1ef1b2b25170>\":48:12) at callsite(\"multiply_add_prim\"(\"<ipython-input-4-7ddbe2c70ac2>\":12:9) at callsite(\"trace.<locals>.trace_func.<locals>.func_wrapper\"(\"<ipython-input-2-1ef1b2b25170>\":48:12) at callsite(\"square_add_prim\"(\"<ipython-input-4-7ddbe2c70ac2>\":17:9) at callsite(\"trace.<locals>.trace_func.<locals>.func_wrapper\"(\"<ipython-input-2-1ef1b2b25170>\":48:12) at callsite(\"<lambda>\"(\"<ipython-input-19-b6c6f9db19ce>\":2:19) at \"<module>\"(\"<ipython-input-19-b6c6f9db19ce>\":1:7))))))))))), <jaxlib.xla_extension.Traceback object at 0x40c2930>: loc(callsite(\"multiply_add_prim\"(\"<ipython-input-4-7ddbe2c70ac2>\":12:9) at callsite(\"trace.<locals>.trace_func.<locals>.func_wrapper\"(\"<ipython-input-2-1ef1b2b25170>\":48:12) at callsite(\"multiply_add_value_and_jvp\"(\"<ipython-input-16-4ad3168cb1d9>\":41:55) at callsite(\"trace.<locals>.trace_func.<locals>.func_wrapper\"(\"<ipython-input-2-1ef1b2b25170>\":48:12) at callsite(\"multiply_add_prim\"(\"<ipython-input-4-7ddbe2c70ac2>\":12:9) at callsite(\"trace.<locals>.trace_func.<locals>.func_wrapper\"(\"<ipython-input-2-1ef1b2b25170>\":48:12) at callsite(\"square_add_prim\"(\"<ipython-input-4-7ddbe2c70ac2>\":17:9) at callsite(\"trace.<locals>.trace_func.<locals>.func_wrapper\"(\"<ipython-input-2-1ef1b2b25170>\":48:12) at callsite(\"<lambda>\"(\"<ipython-input-19-b6c6f9db19ce>\":2:19) at \"<module>\"(\"<ipython-input-19-b6c6f9db19ce>\":1:7)))))))))))}, location_cache={(<code object multiply_add_prim at 0x7d75bc3ffd30, file \"<ipython-input-4-7ddbe2c70ac2>\", line 5>, 54): loc(\"multiply_add_prim\"(\"<ipython-input-4-7ddbe2c70ac2>\":12:9)), (<code object func_wrapper at 0x7d75c7af9530, file \"<ipython-input-2-1ef1b2b25170>\", line 45>, 98): loc(\"trace.<locals>.trace_func.<locals>.func_wrapper\"(\"<ipython-input-2-1ef1b2b25170>\":48:12)), (<code object multiply_add_value_and_jvp at 0x7d75c43d5fb0, file \"<ipython-input-16-4ad3168cb1d9>\", line 3>, 88): loc(\"multiply_add_value_and_jvp\"(\"<ipython-input-16-4ad3168cb1d9>\":27:15)), (<code object square_add_prim at 0x7d75bc3dd8b0, file \"<ipython-input-4-7ddbe2c70ac2>\", line 14>, 32): loc(\"square_add_prim\"(\"<ipython-input-4-7ddbe2c70ac2>\":17:9)), (<code object <lambda> at 0x7d75bc3d0c30, file \"<ipython-input-19-b6c6f9db19ce>\", line 1>, 64): loc(\"<lambda>\"(\"<ipython-input-19-b6c6f9db19ce>\":2:19)), (<code object <cell line: 0> at 0x7d75c41b99b0, file \"<ipython-input-19-b6c6f9db19ce>\", line 1>, 54): loc(\"<module>\"(\"<ipython-input-19-b6c6f9db19ce>\":1:7)), (<code object multiply_add_value_and_jvp at 0x7d75c43d5fb0, file \"<ipython-input-16-4ad3168cb1d9>\", line 3>, 232): loc(\"multiply_add_value_and_jvp\"(\"<ipython-input-16-4ad3168cb1d9>\":41:55))}, canonical_name_cache={'<ipython-input-4-7ddbe2c70ac2>': '<ipython-input-4-7ddbe2c70ac2>', '<ipython-input-2-1ef1b2b25170>': '<ipython-input-2-1ef1b2b25170>', '<ipython-input-16-4ad3168cb1d9>': '<ipython-input-16-4ad3168cb1d9>', '<ipython-input-19-b6c6f9db19ce>': '<ipython-input-19-b6c6f9db19ce>'}, is_user_file_cache={'/usr/local/lib/python3.11/dist-packages/jax/_src/source_info_util.py': False, '/usr/local/lib/python3.11/dist-packages/jax/_src/interpreters/partial_eval.py': False, '/usr/local/lib/python3.11/dist-packages/jax/_src/core.py': False, '<ipython-input-4-7ddbe2c70ac2>': True, '<ipython-input-2-1ef1b2b25170>': True, '<ipython-input-16-4ad3168cb1d9>': True, '/usr/local/lib/python3.11/dist-packages/jax/_src/interpreters/ad.py': False, '/usr/local/lib/python3.11/dist-packages/jax/_src/linear_util.py': False, '/usr/local/lib/python3.11/dist-packages/jax/_src/api.py': False, '<ipython-input-19-b6c6f9db19ce>': True, '/usr/local/lib/python3.11/dist-packages/jax/_src/profiler.py': False, '/usr/local/lib/python3.11/dist-packages/jax/_src/pjit.py': False, '/usr/local/lib/python3.11/dist-packages/jax/_src/traceback_util.py': False}), lowering_parameters=LoweringParameters(override_lowering_rules=None, global_constant_computation=False, for_export=False, export_ignore_forward_compatibility=False)), name_stack=NameStack(stack=(Scope(name='jit(<lambda>)'), Scope(name='jit(main)'), Transform(name='jvp'))), primitive=multiply_add, avals_in=[ShapedArray(float32[], weak_type=True), ShapedArray(float32[], weak_type=True), ShapedArray(float32[], weak_type=True)], avals_out=[ShapedArray(float32[])], tokens_in=<jax._src.interpreters.mlir.TokenSet object at 0x7d75bc396110>, tokens_out=None, axis_size_env=None, dim_var_values=[], jaxpr_eqn_ctx=JaxprEqnContext(compute_type=None,threefry_partitionable=False),xla_metadata={}, platforms=None), Value(<block argument> of type 'tensor<f32>' at index: 0), Value(<block argument> of type 'tensor<f32>' at index: 2), Value(<block argument> of type 'tensor<f32>' at index: 3))\n",
            "|<- multiply_add_lowering = [<jaxlib.mlir._mlir_libs._mlir.ir.OpResult object at 0x7d75bc396170>]\n",
            "call multiply_add_lowering(LoweringRuleContext(module_context=ModuleContext(context=<jaxlib.mlir._mlir_libs._site_initialize.<locals>.Context object at 0x7d75bc36d8b0>, module=<jaxlib.mlir._mlir_libs._mlir.ir.Module object at 0x7d75bc38eab0>, ip=<jaxlib.mlir._mlir_libs._mlir.ir.InsertionPoint object at 0x7d75bc38ea30>, symbol_table=<jaxlib.mlir._mlir_libs._mlir.ir.SymbolTable object at 0x7d75bc38eb30>, backend_or_name=<jaxlib.xla_extension.Client object at 0x7d75c42a62c0>, platforms=('cpu',), axis_context=ShardingContext(num_devices=1, device_assignment=None, mesh_shape=None), keepalives=[], channel_iterator=count(1), host_callbacks=[], shape_poly_state=<jax._src.interpreters.mlir.ShapePolyLoweringState object at 0x7d75bc38cf90>, all_default_mem_kind=True, cached_primitive_lowerings={}, traceback_caches=TracebackCaches(traceback_cache={<jaxlib.xla_extension.Traceback object at 0x40c2700>: loc(callsite(\"multiply_add_prim\"(\"<ipython-input-4-7ddbe2c70ac2>\":12:9) at callsite(\"trace.<locals>.trace_func.<locals>.func_wrapper\"(\"<ipython-input-2-1ef1b2b25170>\":48:12) at callsite(\"multiply_add_value_and_jvp\"(\"<ipython-input-16-4ad3168cb1d9>\":27:15) at callsite(\"trace.<locals>.trace_func.<locals>.func_wrapper\"(\"<ipython-input-2-1ef1b2b25170>\":48:12) at callsite(\"multiply_add_prim\"(\"<ipython-input-4-7ddbe2c70ac2>\":12:9) at callsite(\"trace.<locals>.trace_func.<locals>.func_wrapper\"(\"<ipython-input-2-1ef1b2b25170>\":48:12) at callsite(\"square_add_prim\"(\"<ipython-input-4-7ddbe2c70ac2>\":17:9) at callsite(\"trace.<locals>.trace_func.<locals>.func_wrapper\"(\"<ipython-input-2-1ef1b2b25170>\":48:12) at callsite(\"<lambda>\"(\"<ipython-input-19-b6c6f9db19ce>\":2:19) at \"<module>\"(\"<ipython-input-19-b6c6f9db19ce>\":1:7))))))))))), <jaxlib.xla_extension.Traceback object at 0x40c2930>: loc(callsite(\"multiply_add_prim\"(\"<ipython-input-4-7ddbe2c70ac2>\":12:9) at callsite(\"trace.<locals>.trace_func.<locals>.func_wrapper\"(\"<ipython-input-2-1ef1b2b25170>\":48:12) at callsite(\"multiply_add_value_and_jvp\"(\"<ipython-input-16-4ad3168cb1d9>\":41:55) at callsite(\"trace.<locals>.trace_func.<locals>.func_wrapper\"(\"<ipython-input-2-1ef1b2b25170>\":48:12) at callsite(\"multiply_add_prim\"(\"<ipython-input-4-7ddbe2c70ac2>\":12:9) at callsite(\"trace.<locals>.trace_func.<locals>.func_wrapper\"(\"<ipython-input-2-1ef1b2b25170>\":48:12) at callsite(\"square_add_prim\"(\"<ipython-input-4-7ddbe2c70ac2>\":17:9) at callsite(\"trace.<locals>.trace_func.<locals>.func_wrapper\"(\"<ipython-input-2-1ef1b2b25170>\":48:12) at callsite(\"<lambda>\"(\"<ipython-input-19-b6c6f9db19ce>\":2:19) at \"<module>\"(\"<ipython-input-19-b6c6f9db19ce>\":1:7))))))))))), <jaxlib.xla_extension.Traceback object at 0x40c2b60>: loc(callsite(\"multiply_add_prim\"(\"<ipython-input-4-7ddbe2c70ac2>\":12:9) at callsite(\"trace.<locals>.trace_func.<locals>.func_wrapper\"(\"<ipython-input-2-1ef1b2b25170>\":48:12) at callsite(\"multiply_add_value_and_jvp\"(\"<ipython-input-16-4ad3168cb1d9>\":41:19) at callsite(\"trace.<locals>.trace_func.<locals>.func_wrapper\"(\"<ipython-input-2-1ef1b2b25170>\":48:12) at callsite(\"multiply_add_prim\"(\"<ipython-input-4-7ddbe2c70ac2>\":12:9) at callsite(\"trace.<locals>.trace_func.<locals>.func_wrapper\"(\"<ipython-input-2-1ef1b2b25170>\":48:12) at callsite(\"square_add_prim\"(\"<ipython-input-4-7ddbe2c70ac2>\":17:9) at callsite(\"trace.<locals>.trace_func.<locals>.func_wrapper\"(\"<ipython-input-2-1ef1b2b25170>\":48:12) at callsite(\"<lambda>\"(\"<ipython-input-19-b6c6f9db19ce>\":2:19) at \"<module>\"(\"<ipython-input-19-b6c6f9db19ce>\":1:7)))))))))))}, location_cache={(<code object multiply_add_prim at 0x7d75bc3ffd30, file \"<ipython-input-4-7ddbe2c70ac2>\", line 5>, 54): loc(\"multiply_add_prim\"(\"<ipython-input-4-7ddbe2c70ac2>\":12:9)), (<code object func_wrapper at 0x7d75c7af9530, file \"<ipython-input-2-1ef1b2b25170>\", line 45>, 98): loc(\"trace.<locals>.trace_func.<locals>.func_wrapper\"(\"<ipython-input-2-1ef1b2b25170>\":48:12)), (<code object multiply_add_value_and_jvp at 0x7d75c43d5fb0, file \"<ipython-input-16-4ad3168cb1d9>\", line 3>, 88): loc(\"multiply_add_value_and_jvp\"(\"<ipython-input-16-4ad3168cb1d9>\":27:15)), (<code object square_add_prim at 0x7d75bc3dd8b0, file \"<ipython-input-4-7ddbe2c70ac2>\", line 14>, 32): loc(\"square_add_prim\"(\"<ipython-input-4-7ddbe2c70ac2>\":17:9)), (<code object <lambda> at 0x7d75bc3d0c30, file \"<ipython-input-19-b6c6f9db19ce>\", line 1>, 64): loc(\"<lambda>\"(\"<ipython-input-19-b6c6f9db19ce>\":2:19)), (<code object <cell line: 0> at 0x7d75c41b99b0, file \"<ipython-input-19-b6c6f9db19ce>\", line 1>, 54): loc(\"<module>\"(\"<ipython-input-19-b6c6f9db19ce>\":1:7)), (<code object multiply_add_value_and_jvp at 0x7d75c43d5fb0, file \"<ipython-input-16-4ad3168cb1d9>\", line 3>, 232): loc(\"multiply_add_value_and_jvp\"(\"<ipython-input-16-4ad3168cb1d9>\":41:55)), (<code object multiply_add_value_and_jvp at 0x7d75c43d5fb0, file \"<ipython-input-16-4ad3168cb1d9>\", line 3>, 246): loc(\"multiply_add_value_and_jvp\"(\"<ipython-input-16-4ad3168cb1d9>\":41:19))}, canonical_name_cache={'<ipython-input-4-7ddbe2c70ac2>': '<ipython-input-4-7ddbe2c70ac2>', '<ipython-input-2-1ef1b2b25170>': '<ipython-input-2-1ef1b2b25170>', '<ipython-input-16-4ad3168cb1d9>': '<ipython-input-16-4ad3168cb1d9>', '<ipython-input-19-b6c6f9db19ce>': '<ipython-input-19-b6c6f9db19ce>'}, is_user_file_cache={'/usr/local/lib/python3.11/dist-packages/jax/_src/source_info_util.py': False, '/usr/local/lib/python3.11/dist-packages/jax/_src/interpreters/partial_eval.py': False, '/usr/local/lib/python3.11/dist-packages/jax/_src/core.py': False, '<ipython-input-4-7ddbe2c70ac2>': True, '<ipython-input-2-1ef1b2b25170>': True, '<ipython-input-16-4ad3168cb1d9>': True, '/usr/local/lib/python3.11/dist-packages/jax/_src/interpreters/ad.py': False, '/usr/local/lib/python3.11/dist-packages/jax/_src/linear_util.py': False, '/usr/local/lib/python3.11/dist-packages/jax/_src/api.py': False, '<ipython-input-19-b6c6f9db19ce>': True, '/usr/local/lib/python3.11/dist-packages/jax/_src/profiler.py': False, '/usr/local/lib/python3.11/dist-packages/jax/_src/pjit.py': False, '/usr/local/lib/python3.11/dist-packages/jax/_src/traceback_util.py': False}), lowering_parameters=LoweringParameters(override_lowering_rules=None, global_constant_computation=False, for_export=False, export_ignore_forward_compatibility=False)), name_stack=NameStack(stack=(Scope(name='jit(<lambda>)'), Scope(name='jit(main)'), Transform(name='jvp'))), primitive=multiply_add, avals_in=[ShapedArray(float32[], weak_type=True), ShapedArray(float32[], weak_type=True), ShapedArray(float32[])], avals_out=[ShapedArray(float32[])], tokens_in=<jax._src.interpreters.mlir.TokenSet object at 0x7d75bc396690>, tokens_out=None, axis_size_env=None, dim_var_values=[], jaxpr_eqn_ctx=JaxprEqnContext(compute_type=None,threefry_partitionable=False),xla_metadata={}, platforms=None), Value(<block argument> of type 'tensor<f32>' at index: 2), Value(<block argument> of type 'tensor<f32>' at index: 0), Value(%3 = \"stablehlo.add\"(%2, %arg3) : (tensor<f32>, tensor<f32>) -> tensor<f32>))\n",
            "|<- multiply_add_lowering = [<jaxlib.mlir._mlir_libs._mlir.ir.OpResult object at 0x7d75bc396970>]\n"
          ]
        }
      ]
    },
    {
      "cell_type": "markdown",
      "source": [
        "### Transposition"
      ],
      "metadata": {
        "id": "b6KmnR-AtDVm"
      }
    },
    {
      "cell_type": "code",
      "source": [
        "  # Initialize cotangents of inputs and intermediate variables:\n",
        "  xct = yct = act = bct = cct = 0.\n",
        "  # Initialize cotangent of the output:\n",
        "  fct = 1.\n",
        "  # Process `ft = c + yt`:\n",
        "  cct += fct\n",
        "  yct += fct\n",
        "  # Process `c = a + b`:\n",
        "  act += cct\n",
        "  bct += cct\n",
        "  # Process `b = 2. * yt`:\n",
        "  yct += 2. * bct\n",
        "  # Process `a = xt * 4.`:\n",
        "  xct += act * 4."
      ],
      "metadata": {
        "id": "1hp3k4FntIsD"
      },
      "execution_count": 21,
      "outputs": []
    },
    {
      "cell_type": "code",
      "source": [
        "@trace(\"multiply_add_transpose\")\n",
        "def multiply_add_transpose(ct, x, y, z):\n",
        "  \"\"\"Evaluates the transpose of a linear primitive.\n",
        "\n",
        "  This method is only used when computing the backward gradient following\n",
        "  `value_and_jvp`, and is only needed for primitives that are used in the JVP\n",
        "  calculation for some other primitive. You need a transposition for `multiply_add_prim`,\n",
        "  because you have used `multiply_add_prim` in the computation of the `output_tangent` in\n",
        "  `multiply_add_value_and_jvp`.\n",
        "\n",
        "  In this case, multiply_add is not a linear primitive. However, it is used linearly\n",
        "  w.r.t. tangents in `multiply_add_value_and_jvp`:\n",
        "       `output_tangent(xt, yt, zt) = multiply_add_prim(xt, y, multiply_add_prim(x, yt, zt))`.\n",
        "\n",
        "  Always one of the first two multiplicative arguments is a constant.\n",
        "\n",
        "  Args:\n",
        "      ct: The cotangent of the output of the primitive.\n",
        "      x, y, z: The values of the arguments. The arguments that are used linearly\n",
        "        get an ad.UndefinedPrimal value. The other arguments get a constant\n",
        "        value.\n",
        "\n",
        "  Returns:\n",
        "      A tuple with the cotangent of the inputs, with the value None\n",
        "      corresponding to the constant arguments.\n",
        "  \"\"\"\n",
        "  if not ad.is_undefined_primal(x):\n",
        "    # This use of multiply_add is with a constant \"x\".\n",
        "    assert ad.is_undefined_primal(y)\n",
        "    ct_y = ad.Zero(y.aval) if type(ct) is ad.Zero else multiply_add_prim(x, ct, lax.zeros_like_array(x))\n",
        "    res = None, ct_y, ct\n",
        "  else:\n",
        "    # This use of multiply_add is with a constant \"y\".\n",
        "    assert ad.is_undefined_primal(x)\n",
        "    ct_x = ad.Zero(x.aval) if type(ct) is ad.Zero else multiply_add_prim(ct, y, lax.zeros_like_array(y))\n",
        "    res = ct_x, None, ct\n",
        "  return res\n",
        "\n",
        "ad.primitive_transposes[multiply_add_p] = multiply_add_transpose"
      ],
      "metadata": {
        "id": "lPHWfdFntI6d"
      },
      "execution_count": 24,
      "outputs": []
    },
    {
      "cell_type": "code",
      "source": [
        "assert api.grad(square_add_prim)(2., 10.) == 4."
      ],
      "metadata": {
        "colab": {
          "base_uri": "https://localhost:8080/"
        },
        "id": "efyJ2c6rtM1Q",
        "outputId": "3d7a992e-b154-4d5a-9ffe-543acff2ebef"
      },
      "execution_count": 25,
      "outputs": [
        {
          "output_type": "stream",
          "name": "stdout",
          "text": [
            "call square_add_prim(Traced<ConcreteArray(2.0, dtype=float32, weak_type=True)>, 10.0)\n",
            "  call multiply_add_prim(Traced<ConcreteArray(2.0, dtype=float32, weak_type=True)>, Traced<ConcreteArray(2.0, dtype=float32, weak_type=True)>, 10.0)\n",
            "    call multiply_add_value_and_jvp((2.0, 2.0, 10.0), (Traced<ShapedArray(float32[], weak_type=True)>, Traced<ShapedArray(float32[], weak_type=True)>, Zero(ShapedArray(float32[], weak_type=True))))\n",
            "      Primal evaluation:\n",
            "      call multiply_add_prim(2.0, 2.0, 10.0)\n",
            "        call multiply_add_impl(2.0, 2.0, 10.0)\n",
            "        |<- multiply_add_impl = 14.0\n",
            "      |<- multiply_add_prim = 14.0\n",
            "      Tangent evaluation:\n",
            "      call multiply_add_prim(2.0, Traced<ShapedArray(float32[], weak_type=True)>, 0.0)\n",
            "        call multiply_add_abstract_eval(ConcreteArray(2.0, dtype=float32, weak_type=True), ShapedArray(float32[], weak_type=True), ConcreteArray(0.0, dtype=float32, weak_type=True))\n",
            "        |<- multiply_add_abstract_eval = ShapedArray(float32[])\n",
            "      |<- multiply_add_prim = Traced<ShapedArray(float32[])>\n",
            "      call multiply_add_prim(Traced<ShapedArray(float32[], weak_type=True)>, 2.0, Traced<ShapedArray(float32[])>)\n",
            "        call multiply_add_abstract_eval(ShapedArray(float32[], weak_type=True), ConcreteArray(2.0, dtype=float32, weak_type=True), ShapedArray(float32[]))\n",
            "        |<- multiply_add_abstract_eval = ShapedArray(float32[])\n",
            "      |<- multiply_add_prim = Traced<ShapedArray(float32[])>\n",
            "    |<- multiply_add_value_and_jvp = (14.0, Traced<ShapedArray(float32[])>)\n",
            "  |<- multiply_add_prim = Traced<ConcreteArray(14.0, dtype=float32)>\n",
            "|<- square_add_prim = Traced<ConcreteArray(14.0, dtype=float32)>\n",
            "call multiply_add_transpose(1.0, UndefinedPrimal(ShapedArray(float32[], weak_type=True)), 2.0, UndefinedPrimal(ShapedArray(float32[])))\n",
            "  call multiply_add_prim(1.0, 2.0, 0.0)\n",
            "    call multiply_add_impl(1.0, 2.0, 0.0)\n",
            "    |<- multiply_add_impl = 2.0\n",
            "  |<- multiply_add_prim = 2.0\n",
            "|<- multiply_add_transpose = (2.0, None, 1.0)\n",
            "call multiply_add_transpose(1.0, 2.0, UndefinedPrimal(ShapedArray(float32[], weak_type=True)), 0.0)\n",
            "  call multiply_add_prim(2.0, 1.0, 0.0)\n",
            "    call multiply_add_impl(2.0, 1.0, 0.0)\n",
            "    |<- multiply_add_impl = 2.0\n",
            "  |<- multiply_add_prim = 2.0\n",
            "|<- multiply_add_transpose = (None, 2.0, 1.0)\n"
          ]
        }
      ]
    },
    {
      "cell_type": "markdown",
      "source": [
        "### JIT of rwd"
      ],
      "metadata": {
        "id": "NeH8zwnvtScP"
      }
    },
    {
      "cell_type": "code",
      "source": [
        "assert api.jit(api.grad(square_add_prim))(2., 10.) == 4."
      ],
      "metadata": {
        "colab": {
          "base_uri": "https://localhost:8080/"
        },
        "id": "BD9apeWhtZ-k",
        "outputId": "678db3d6-dacb-4ef5-f1bb-118b648c7d33"
      },
      "execution_count": 26,
      "outputs": [
        {
          "output_type": "stream",
          "name": "stdout",
          "text": [
            "call square_add_prim(Traced<ShapedArray(float32[], weak_type=True)>, Traced<ShapedArray(float32[], weak_type=True)>with<DynamicJaxprTrace(level=1/0)>)\n",
            "  call multiply_add_prim(Traced<ShapedArray(float32[], weak_type=True)>, Traced<ShapedArray(float32[], weak_type=True)>, Traced<ShapedArray(float32[], weak_type=True)>with<DynamicJaxprTrace(level=1/0)>)\n",
            "    call multiply_add_value_and_jvp((Traced<ShapedArray(float32[], weak_type=True)>with<DynamicJaxprTrace(level=1/0)>, Traced<ShapedArray(float32[], weak_type=True)>with<DynamicJaxprTrace(level=1/0)>, Traced<ShapedArray(float32[], weak_type=True)>with<DynamicJaxprTrace(level=1/0)>), (Traced<ShapedArray(float32[], weak_type=True)>, Traced<ShapedArray(float32[], weak_type=True)>, Zero(ShapedArray(float32[], weak_type=True))))\n",
            "      Primal evaluation:\n",
            "      call multiply_add_prim(Traced<ShapedArray(float32[], weak_type=True)>with<DynamicJaxprTrace(level=1/0)>, Traced<ShapedArray(float32[], weak_type=True)>with<DynamicJaxprTrace(level=1/0)>, Traced<ShapedArray(float32[], weak_type=True)>with<DynamicJaxprTrace(level=1/0)>)\n",
            "        call multiply_add_abstract_eval(ShapedArray(float32[], weak_type=True), ShapedArray(float32[], weak_type=True), ShapedArray(float32[], weak_type=True))\n",
            "        |<- multiply_add_abstract_eval = ShapedArray(float32[])\n",
            "      |<- multiply_add_prim = Traced<ShapedArray(float32[])>with<DynamicJaxprTrace(level=1/0)>\n",
            "      Tangent evaluation:\n",
            "      call multiply_add_prim(Traced<ShapedArray(float32[], weak_type=True)>with<DynamicJaxprTrace(level=1/0)>, Traced<ShapedArray(float32[], weak_type=True)>, Traced<ShapedArray(float32[], weak_type=True)>with<DynamicJaxprTrace(level=1/0)>)\n",
            "        call multiply_add_abstract_eval(ShapedArray(float32[], weak_type=True), ShapedArray(float32[], weak_type=True), ShapedArray(float32[], weak_type=True))\n",
            "        |<- multiply_add_abstract_eval = ShapedArray(float32[])\n",
            "      |<- multiply_add_prim = Traced<ShapedArray(float32[])>\n",
            "      call multiply_add_prim(Traced<ShapedArray(float32[], weak_type=True)>, Traced<ShapedArray(float32[], weak_type=True)>with<DynamicJaxprTrace(level=1/0)>, Traced<ShapedArray(float32[])>)\n",
            "        call multiply_add_abstract_eval(ShapedArray(float32[], weak_type=True), ShapedArray(float32[], weak_type=True), ShapedArray(float32[]))\n",
            "        |<- multiply_add_abstract_eval = ShapedArray(float32[])\n",
            "      |<- multiply_add_prim = Traced<ShapedArray(float32[])>\n",
            "    |<- multiply_add_value_and_jvp = (Traced<ShapedArray(float32[])>with<DynamicJaxprTrace(level=1/0)>, Traced<ShapedArray(float32[])>)\n",
            "  |<- multiply_add_prim = Traced<ShapedArray(float32[])>\n",
            "|<- square_add_prim = Traced<ShapedArray(float32[])>\n",
            "call multiply_add_transpose(Traced<ShapedArray(float32[])>with<DynamicJaxprTrace(level=1/0)>, UndefinedPrimal(ShapedArray(float32[], weak_type=True)), Traced<ShapedArray(float32[], weak_type=True)>with<DynamicJaxprTrace(level=1/0)>, UndefinedPrimal(ShapedArray(float32[])))\n",
            "  call multiply_add_prim(Traced<ShapedArray(float32[])>with<DynamicJaxprTrace(level=1/0)>, Traced<ShapedArray(float32[], weak_type=True)>with<DynamicJaxprTrace(level=1/0)>, Traced<ShapedArray(float32[], weak_type=True)>with<DynamicJaxprTrace(level=1/0)>)\n",
            "    call multiply_add_abstract_eval(ShapedArray(float32[]), ShapedArray(float32[], weak_type=True), ShapedArray(float32[], weak_type=True))\n",
            "    |<- multiply_add_abstract_eval = ShapedArray(float32[])\n",
            "  |<- multiply_add_prim = Traced<ShapedArray(float32[])>with<DynamicJaxprTrace(level=1/0)>\n",
            "|<- multiply_add_transpose = (Traced<ShapedArray(float32[])>with<DynamicJaxprTrace(level=1/0)>, None, Traced<ShapedArray(float32[])>with<DynamicJaxprTrace(level=1/0)>)\n",
            "call multiply_add_transpose(Traced<ShapedArray(float32[])>with<DynamicJaxprTrace(level=1/0)>, Traced<ShapedArray(float32[], weak_type=True)>with<DynamicJaxprTrace(level=1/0)>, UndefinedPrimal(ShapedArray(float32[], weak_type=True)), Traced<ShapedArray(float32[], weak_type=True)>with<DynamicJaxprTrace(level=1/0)>)\n",
            "  call multiply_add_prim(Traced<ShapedArray(float32[], weak_type=True)>with<DynamicJaxprTrace(level=1/0)>, Traced<ShapedArray(float32[])>with<DynamicJaxprTrace(level=1/0)>, Traced<ShapedArray(float32[], weak_type=True)>with<DynamicJaxprTrace(level=1/0)>)\n",
            "    call multiply_add_abstract_eval(ShapedArray(float32[], weak_type=True), ShapedArray(float32[]), ShapedArray(float32[], weak_type=True))\n",
            "    |<- multiply_add_abstract_eval = ShapedArray(float32[])\n",
            "  |<- multiply_add_prim = Traced<ShapedArray(float32[])>with<DynamicJaxprTrace(level=1/0)>\n",
            "|<- multiply_add_transpose = (None, Traced<ShapedArray(float32[])>with<DynamicJaxprTrace(level=1/0)>, Traced<ShapedArray(float32[])>with<DynamicJaxprTrace(level=1/0)>)\n",
            "call multiply_add_lowering(LoweringRuleContext(module_context=ModuleContext(context=<jaxlib.mlir._mlir_libs._site_initialize.<locals>.Context object at 0x7d75bc3a22d0>, module=<jaxlib.mlir._mlir_libs._mlir.ir.Module object at 0x7d75c40fa770>, ip=<jaxlib.mlir._mlir_libs._mlir.ir.InsertionPoint object at 0x7d75c40fbdf0>, symbol_table=<jaxlib.mlir._mlir_libs._mlir.ir.SymbolTable object at 0x7d75c40fbfb0>, backend_or_name=<jaxlib.xla_extension.Client object at 0x7d75c42a62c0>, platforms=('cpu',), axis_context=ShardingContext(num_devices=1, device_assignment=None, mesh_shape=None), keepalives=[], channel_iterator=count(1), host_callbacks=[], shape_poly_state=<jax._src.interpreters.mlir.ShapePolyLoweringState object at 0x7d75c40fac90>, all_default_mem_kind=True, cached_primitive_lowerings={}, traceback_caches=TracebackCaches(traceback_cache={<jaxlib.xla_extension.Traceback object at 0x42404c0>: loc(callsite(\"multiply_add_prim\"(\"<ipython-input-4-7ddbe2c70ac2>\":12:9) at callsite(\"trace.<locals>.trace_func.<locals>.func_wrapper\"(\"<ipython-input-2-1ef1b2b25170>\":48:12) at callsite(\"multiply_add_value_and_jvp\"(\"<ipython-input-16-4ad3168cb1d9>\":41:19) at callsite(\"trace.<locals>.trace_func.<locals>.func_wrapper\"(\"<ipython-input-2-1ef1b2b25170>\":48:12) at callsite(\"multiply_add_prim\"(\"<ipython-input-4-7ddbe2c70ac2>\":12:9) at callsite(\"trace.<locals>.trace_func.<locals>.func_wrapper\"(\"<ipython-input-2-1ef1b2b25170>\":48:12) at callsite(\"square_add_prim\"(\"<ipython-input-4-7ddbe2c70ac2>\":17:9) at callsite(\"trace.<locals>.trace_func.<locals>.func_wrapper\"(\"<ipython-input-2-1ef1b2b25170>\":48:12) at callsite(\"<module>\"(\"<ipython-input-26-df20e778ea6a>\":1:7) at \"InteractiveShell.run_code\"(\"/usr/local/lib/python3.11/dist-packages/IPython/core/interactiveshell.py\":3553:20)))))))))))}, location_cache={(<code object multiply_add_prim at 0x7d75bc3ffd30, file \"<ipython-input-4-7ddbe2c70ac2>\", line 5>, 54): loc(\"multiply_add_prim\"(\"<ipython-input-4-7ddbe2c70ac2>\":12:9)), (<code object func_wrapper at 0x7d75c7af9530, file \"<ipython-input-2-1ef1b2b25170>\", line 45>, 98): loc(\"trace.<locals>.trace_func.<locals>.func_wrapper\"(\"<ipython-input-2-1ef1b2b25170>\":48:12)), (<code object multiply_add_value_and_jvp at 0x7d75c43d5fb0, file \"<ipython-input-16-4ad3168cb1d9>\", line 3>, 246): loc(\"multiply_add_value_and_jvp\"(\"<ipython-input-16-4ad3168cb1d9>\":41:19)), (<code object square_add_prim at 0x7d75bc3dd8b0, file \"<ipython-input-4-7ddbe2c70ac2>\", line 14>, 32): loc(\"square_add_prim\"(\"<ipython-input-4-7ddbe2c70ac2>\":17:9)), (<code object <cell line: 0> at 0x7d75bc46da50, file \"<ipython-input-26-df20e778ea6a>\", line 1>, 90): loc(\"<module>\"(\"<ipython-input-26-df20e778ea6a>\":1:7)), (<code object run_code at 0x14a36d0, file \"/usr/local/lib/python3.11/dist-packages/IPython/core/interactiveshell.py\", line 3512>, 426): loc(\"InteractiveShell.run_code\"(\"/usr/local/lib/python3.11/dist-packages/IPython/core/interactiveshell.py\":3553:20))}, canonical_name_cache={'<ipython-input-4-7ddbe2c70ac2>': '<ipython-input-4-7ddbe2c70ac2>', '<ipython-input-2-1ef1b2b25170>': '<ipython-input-2-1ef1b2b25170>', '<ipython-input-16-4ad3168cb1d9>': '<ipython-input-16-4ad3168cb1d9>', '<ipython-input-26-df20e778ea6a>': '<ipython-input-26-df20e778ea6a>', '/usr/local/lib/python3.11/dist-packages/IPython/core/interactiveshell.py': '/usr/local/lib/python3.11/dist-packages/IPython/core/interactiveshell.py'}, is_user_file_cache={'/usr/local/lib/python3.11/dist-packages/jax/_src/source_info_util.py': False, '/usr/local/lib/python3.11/dist-packages/jax/_src/interpreters/partial_eval.py': False, '/usr/local/lib/python3.11/dist-packages/jax/_src/core.py': False, '<ipython-input-4-7ddbe2c70ac2>': True, '<ipython-input-2-1ef1b2b25170>': True, '<ipython-input-16-4ad3168cb1d9>': True, '/usr/local/lib/python3.11/dist-packages/jax/_src/interpreters/ad.py': False, '/usr/local/lib/python3.11/dist-packages/jax/_src/linear_util.py': False, '/usr/local/lib/python3.11/dist-packages/jax/_src/profiler.py': False, '/usr/local/lib/python3.11/dist-packages/jax/_src/api.py': False, '/usr/local/lib/python3.11/dist-packages/jax/_src/traceback_util.py': False, '/usr/local/lib/python3.11/dist-packages/jax/_src/pjit.py': False, '<ipython-input-26-df20e778ea6a>': True, '/usr/local/lib/python3.11/dist-packages/IPython/core/interactiveshell.py': True}), lowering_parameters=LoweringParameters(override_lowering_rules=None, global_constant_computation=False, for_export=False, export_ignore_forward_compatibility=False)), name_stack=NameStack(stack=(Scope(name='jit(square_add_prim)'), Scope(name='jit(main)'), Transform(name='transpose'), Transform(name='jvp'))), primitive=multiply_add, avals_in=[ShapedArray(float32[]), ShapedArray(float32[], weak_type=True), ShapedArray(float32[], weak_type=True)], avals_out=[ShapedArray(float32[])], tokens_in=<jax._src.interpreters.mlir.TokenSet object at 0x7d75c4101450>, tokens_out=None, axis_size_env=None, dim_var_values=[], jaxpr_eqn_ctx=JaxprEqnContext(compute_type=None,threefry_partitionable=False),xla_metadata={}, platforms=None), Value(%0 = \"stablehlo.constant\"() <{value = dense<1.000000e+00> : tensor<f32>}> : () -> tensor<f32>), Value(<block argument> of type 'tensor<f32>' at index: 0), Value(%1 = \"stablehlo.constant\"() <{value = dense<0.000000e+00> : tensor<f32>}> : () -> tensor<f32>))\n",
            "|<- multiply_add_lowering = [<jaxlib.mlir._mlir_libs._mlir.ir.OpResult object at 0x7d75bc389eb0>]\n",
            "call multiply_add_lowering(LoweringRuleContext(module_context=ModuleContext(context=<jaxlib.mlir._mlir_libs._site_initialize.<locals>.Context object at 0x7d75bc3a22d0>, module=<jaxlib.mlir._mlir_libs._mlir.ir.Module object at 0x7d75c40fa770>, ip=<jaxlib.mlir._mlir_libs._mlir.ir.InsertionPoint object at 0x7d75c40fbdf0>, symbol_table=<jaxlib.mlir._mlir_libs._mlir.ir.SymbolTable object at 0x7d75c40fbfb0>, backend_or_name=<jaxlib.xla_extension.Client object at 0x7d75c42a62c0>, platforms=('cpu',), axis_context=ShardingContext(num_devices=1, device_assignment=None, mesh_shape=None), keepalives=[], channel_iterator=count(1), host_callbacks=[], shape_poly_state=<jax._src.interpreters.mlir.ShapePolyLoweringState object at 0x7d75c40fac90>, all_default_mem_kind=True, cached_primitive_lowerings={}, traceback_caches=TracebackCaches(traceback_cache={<jaxlib.xla_extension.Traceback object at 0x42404c0>: loc(callsite(\"multiply_add_prim\"(\"<ipython-input-4-7ddbe2c70ac2>\":12:9) at callsite(\"trace.<locals>.trace_func.<locals>.func_wrapper\"(\"<ipython-input-2-1ef1b2b25170>\":48:12) at callsite(\"multiply_add_value_and_jvp\"(\"<ipython-input-16-4ad3168cb1d9>\":41:19) at callsite(\"trace.<locals>.trace_func.<locals>.func_wrapper\"(\"<ipython-input-2-1ef1b2b25170>\":48:12) at callsite(\"multiply_add_prim\"(\"<ipython-input-4-7ddbe2c70ac2>\":12:9) at callsite(\"trace.<locals>.trace_func.<locals>.func_wrapper\"(\"<ipython-input-2-1ef1b2b25170>\":48:12) at callsite(\"square_add_prim\"(\"<ipython-input-4-7ddbe2c70ac2>\":17:9) at callsite(\"trace.<locals>.trace_func.<locals>.func_wrapper\"(\"<ipython-input-2-1ef1b2b25170>\":48:12) at callsite(\"<module>\"(\"<ipython-input-26-df20e778ea6a>\":1:7) at \"InteractiveShell.run_code\"(\"/usr/local/lib/python3.11/dist-packages/IPython/core/interactiveshell.py\":3553:20))))))))))), <jaxlib.xla_extension.Traceback object at 0x4226870>: loc(callsite(\"multiply_add_prim\"(\"<ipython-input-4-7ddbe2c70ac2>\":12:9) at callsite(\"trace.<locals>.trace_func.<locals>.func_wrapper\"(\"<ipython-input-2-1ef1b2b25170>\":48:12) at callsite(\"multiply_add_value_and_jvp\"(\"<ipython-input-16-4ad3168cb1d9>\":41:55) at callsite(\"trace.<locals>.trace_func.<locals>.func_wrapper\"(\"<ipython-input-2-1ef1b2b25170>\":48:12) at callsite(\"multiply_add_prim\"(\"<ipython-input-4-7ddbe2c70ac2>\":12:9) at callsite(\"trace.<locals>.trace_func.<locals>.func_wrapper\"(\"<ipython-input-2-1ef1b2b25170>\":48:12) at callsite(\"square_add_prim\"(\"<ipython-input-4-7ddbe2c70ac2>\":17:9) at callsite(\"trace.<locals>.trace_func.<locals>.func_wrapper\"(\"<ipython-input-2-1ef1b2b25170>\":48:12) at callsite(\"<module>\"(\"<ipython-input-26-df20e778ea6a>\":1:7) at \"InteractiveShell.run_code\"(\"/usr/local/lib/python3.11/dist-packages/IPython/core/interactiveshell.py\":3553:20)))))))))))}, location_cache={(<code object multiply_add_prim at 0x7d75bc3ffd30, file \"<ipython-input-4-7ddbe2c70ac2>\", line 5>, 54): loc(\"multiply_add_prim\"(\"<ipython-input-4-7ddbe2c70ac2>\":12:9)), (<code object func_wrapper at 0x7d75c7af9530, file \"<ipython-input-2-1ef1b2b25170>\", line 45>, 98): loc(\"trace.<locals>.trace_func.<locals>.func_wrapper\"(\"<ipython-input-2-1ef1b2b25170>\":48:12)), (<code object multiply_add_value_and_jvp at 0x7d75c43d5fb0, file \"<ipython-input-16-4ad3168cb1d9>\", line 3>, 246): loc(\"multiply_add_value_and_jvp\"(\"<ipython-input-16-4ad3168cb1d9>\":41:19)), (<code object square_add_prim at 0x7d75bc3dd8b0, file \"<ipython-input-4-7ddbe2c70ac2>\", line 14>, 32): loc(\"square_add_prim\"(\"<ipython-input-4-7ddbe2c70ac2>\":17:9)), (<code object <cell line: 0> at 0x7d75bc46da50, file \"<ipython-input-26-df20e778ea6a>\", line 1>, 90): loc(\"<module>\"(\"<ipython-input-26-df20e778ea6a>\":1:7)), (<code object run_code at 0x14a36d0, file \"/usr/local/lib/python3.11/dist-packages/IPython/core/interactiveshell.py\", line 3512>, 426): loc(\"InteractiveShell.run_code\"(\"/usr/local/lib/python3.11/dist-packages/IPython/core/interactiveshell.py\":3553:20)), (<code object multiply_add_value_and_jvp at 0x7d75c43d5fb0, file \"<ipython-input-16-4ad3168cb1d9>\", line 3>, 232): loc(\"multiply_add_value_and_jvp\"(\"<ipython-input-16-4ad3168cb1d9>\":41:55))}, canonical_name_cache={'<ipython-input-4-7ddbe2c70ac2>': '<ipython-input-4-7ddbe2c70ac2>', '<ipython-input-2-1ef1b2b25170>': '<ipython-input-2-1ef1b2b25170>', '<ipython-input-16-4ad3168cb1d9>': '<ipython-input-16-4ad3168cb1d9>', '<ipython-input-26-df20e778ea6a>': '<ipython-input-26-df20e778ea6a>', '/usr/local/lib/python3.11/dist-packages/IPython/core/interactiveshell.py': '/usr/local/lib/python3.11/dist-packages/IPython/core/interactiveshell.py'}, is_user_file_cache={'/usr/local/lib/python3.11/dist-packages/jax/_src/source_info_util.py': False, '/usr/local/lib/python3.11/dist-packages/jax/_src/interpreters/partial_eval.py': False, '/usr/local/lib/python3.11/dist-packages/jax/_src/core.py': False, '<ipython-input-4-7ddbe2c70ac2>': True, '<ipython-input-2-1ef1b2b25170>': True, '<ipython-input-16-4ad3168cb1d9>': True, '/usr/local/lib/python3.11/dist-packages/jax/_src/interpreters/ad.py': False, '/usr/local/lib/python3.11/dist-packages/jax/_src/linear_util.py': False, '/usr/local/lib/python3.11/dist-packages/jax/_src/profiler.py': False, '/usr/local/lib/python3.11/dist-packages/jax/_src/api.py': False, '/usr/local/lib/python3.11/dist-packages/jax/_src/traceback_util.py': False, '/usr/local/lib/python3.11/dist-packages/jax/_src/pjit.py': False, '<ipython-input-26-df20e778ea6a>': True, '/usr/local/lib/python3.11/dist-packages/IPython/core/interactiveshell.py': True}), lowering_parameters=LoweringParameters(override_lowering_rules=None, global_constant_computation=False, for_export=False, export_ignore_forward_compatibility=False)), name_stack=NameStack(stack=(Scope(name='jit(square_add_prim)'), Scope(name='jit(main)'), Transform(name='transpose'), Transform(name='jvp'))), primitive=multiply_add, avals_in=[ShapedArray(float32[], weak_type=True), ShapedArray(float32[]), ShapedArray(float32[], weak_type=True)], avals_out=[ShapedArray(float32[])], tokens_in=<jax._src.interpreters.mlir.TokenSet object at 0x7d75c4101950>, tokens_out=None, axis_size_env=None, dim_var_values=[], jaxpr_eqn_ctx=JaxprEqnContext(compute_type=None,threefry_partitionable=False),xla_metadata={}, platforms=None), Value(<block argument> of type 'tensor<f32>' at index: 0), Value(%4 = \"stablehlo.constant\"() <{value = dense<1.000000e+00> : tensor<f32>}> : () -> tensor<f32>), Value(%5 = \"stablehlo.constant\"() <{value = dense<0.000000e+00> : tensor<f32>}> : () -> tensor<f32>))\n",
            "|<- multiply_add_lowering = [<jaxlib.mlir._mlir_libs._mlir.ir.OpResult object at 0x7d75c4101470>]\n"
          ]
        }
      ]
    },
    {
      "cell_type": "markdown",
      "source": [
        "## Batching"
      ],
      "metadata": {
        "id": "E_pxLUbvtaPZ"
      }
    },
    {
      "cell_type": "code",
      "source": [
        "# The arguments are two vectors instead of two scalars.\n",
        "with expectNotImplementedError():\n",
        "  api.vmap(square_add_prim, in_axes=0, out_axes=0)(np.array([2., 3.]),\n",
        "                                               np.array([10., 20.]))"
      ],
      "metadata": {
        "colab": {
          "base_uri": "https://localhost:8080/"
        },
        "id": "tYFh_SEGtccf",
        "outputId": "8f2c03e4-6b24-4d87-cad9-9862d4036f3c"
      },
      "execution_count": 27,
      "outputs": [
        {
          "output_type": "stream",
          "name": "stdout",
          "text": [
            "call square_add_prim(Traced<ShapedArray(float32[])>, Traced<ShapedArray(float32[])>)\n",
            "  call multiply_add_prim(Traced<ShapedArray(float32[])>, Traced<ShapedArray(float32[])>, Traced<ShapedArray(float32[])>)\n",
            "\n",
            "Found expected exception:\n"
          ]
        },
        {
          "output_type": "stream",
          "name": "stderr",
          "text": [
            "Traceback (most recent call last):\n",
            "  File \"<ipython-input-27-861b276c86aa>\", line 3, in <cell line: 0>\n",
            "    api.vmap(square_add_prim, in_axes=0, out_axes=0)(np.array([2., 3.]),\n",
            "  File \"/usr/local/lib/python3.11/dist-packages/jax/_src/traceback_util.py\", line 180, in reraise_with_filtered_traceback\n",
            "    return fun(*args, **kwargs)\n",
            "           ^^^^^^^^^^^^^^^^^^^^\n",
            "  File \"/usr/local/lib/python3.11/dist-packages/jax/_src/api.py\", line 1227, in vmap_f\n",
            "    out_flat = batching.batch(\n",
            "               ^^^^^^^^^^^^^^^\n",
            "NotImplementedError: Batching rule for 'multiply_add' not implemented\n"
          ]
        }
      ]
    },
    {
      "cell_type": "code",
      "source": [
        "from jax.interpreters import batching\n",
        "\n",
        "@trace(\"multiply_add_batch\")\n",
        "def multiply_add_batch(vector_arg_values, batch_axes):\n",
        "  \"\"\"Computes the batched version of the primitive.\n",
        "\n",
        "  This must be a JAX-traceable function.\n",
        "\n",
        "  Since the `multiply_add primitive` already operates point-wise on arbitrary\n",
        "  dimension tensors, to batch it you can use the primitive itself. This works as\n",
        "  long as both the inputs have the same dimensions and are batched along the\n",
        "  same axes. The result is batched along the axis that the inputs are batched.\n",
        "\n",
        "  Args:\n",
        "    vector_arg_values: A tuple of two arguments, each being a tensor of matching\n",
        "      shape.\n",
        "    batch_axes: The axes that are being batched. See vmap documentation.\n",
        "\n",
        "  Returns:\n",
        "    A tuple of the result, and the result axis that was batched.\n",
        "  \"\"\"\n",
        "  assert batch_axes[0] == batch_axes[1]\n",
        "  assert batch_axes[0] == batch_axes[2]\n",
        "  _trace(\"Using multiply_add to compute the batch:\")\n",
        "  res = multiply_add_prim(*vector_arg_values)\n",
        "  return res, batch_axes[0]\n",
        "\n",
        "\n",
        "batching.primitive_batchers[multiply_add_p] = multiply_add_batch"
      ],
      "metadata": {
        "id": "OPTgDGlytcp6"
      },
      "execution_count": 28,
      "outputs": []
    },
    {
      "cell_type": "code",
      "source": [
        "assert np.allclose(api.vmap(square_add_prim, in_axes=0, out_axes=0)(\n",
        "  np.array([2., 3.]),\n",
        "  np.array([10., 20.])),\n",
        "  [14., 29.])"
      ],
      "metadata": {
        "colab": {
          "base_uri": "https://localhost:8080/"
        },
        "id": "7Kw146Vyte47",
        "outputId": "18129c52-7bc4-448c-c520-f161b7b4d4b3"
      },
      "execution_count": 29,
      "outputs": [
        {
          "output_type": "stream",
          "name": "stdout",
          "text": [
            "call square_add_prim(Traced<ShapedArray(float32[])>, Traced<ShapedArray(float32[])>)\n",
            "  call multiply_add_prim(Traced<ShapedArray(float32[])>, Traced<ShapedArray(float32[])>, Traced<ShapedArray(float32[])>)\n",
            "    call multiply_add_batch(([2. 3.], [2. 3.], [10. 20.]), (0, 0, 0))\n",
            "      Using multiply_add to compute the batch:\n",
            "      call multiply_add_prim([2. 3.], [2. 3.], [10. 20.])\n",
            "        call multiply_add_impl([2. 3.], [2. 3.], [10. 20.])\n",
            "        |<- multiply_add_impl = [14. 29.]\n",
            "      |<- multiply_add_prim = [14. 29.]\n",
            "    |<- multiply_add_batch = ([14. 29.], 0)\n",
            "  |<- multiply_add_prim = Traced<ShapedArray(float32[])>\n",
            "|<- square_add_prim = Traced<ShapedArray(float32[])>\n"
          ]
        }
      ]
    },
    {
      "cell_type": "markdown",
      "source": [
        "### JIT of batching"
      ],
      "metadata": {
        "id": "OyWlj03jtgFM"
      }
    },
    {
      "cell_type": "code",
      "source": [
        "assert np.allclose(api.jit(api.vmap(square_add_prim, in_axes=0, out_axes=0))\n",
        "                    (np.array([2., 3.]),\n",
        "                     np.array([10., 20.])),\n",
        "                    [14., 29.])"
      ],
      "metadata": {
        "id": "93AHmYHGtimX",
        "outputId": "c6d40919-3b00-4bda-e135-eceabcd3102a",
        "colab": {
          "base_uri": "https://localhost:8080/"
        }
      },
      "execution_count": 30,
      "outputs": [
        {
          "output_type": "stream",
          "name": "stdout",
          "text": [
            "call square_add_prim(Traced<ShapedArray(float32[])>, Traced<ShapedArray(float32[])>)\n",
            "  call multiply_add_prim(Traced<ShapedArray(float32[])>, Traced<ShapedArray(float32[])>, Traced<ShapedArray(float32[])>)\n",
            "    call multiply_add_batch((Traced<ShapedArray(float32[2])>with<DynamicJaxprTrace(level=1/0)>, Traced<ShapedArray(float32[2])>with<DynamicJaxprTrace(level=1/0)>, Traced<ShapedArray(float32[2])>with<DynamicJaxprTrace(level=1/0)>), (0, 0, 0))\n",
            "      Using multiply_add to compute the batch:\n",
            "      call multiply_add_prim(Traced<ShapedArray(float32[2])>with<DynamicJaxprTrace(level=1/0)>, Traced<ShapedArray(float32[2])>with<DynamicJaxprTrace(level=1/0)>, Traced<ShapedArray(float32[2])>with<DynamicJaxprTrace(level=1/0)>)\n",
            "        call multiply_add_abstract_eval(ShapedArray(float32[2]), ShapedArray(float32[2]), ShapedArray(float32[2]))\n",
            "        |<- multiply_add_abstract_eval = ShapedArray(float32[2])\n",
            "      |<- multiply_add_prim = Traced<ShapedArray(float32[2])>with<DynamicJaxprTrace(level=1/0)>\n",
            "    |<- multiply_add_batch = (Traced<ShapedArray(float32[2])>with<DynamicJaxprTrace(level=1/0)>, 0)\n",
            "  |<- multiply_add_prim = Traced<ShapedArray(float32[])>\n",
            "|<- square_add_prim = Traced<ShapedArray(float32[])>\n",
            "call multiply_add_lowering(LoweringRuleContext(module_context=ModuleContext(context=<jaxlib.mlir._mlir_libs._site_initialize.<locals>.Context object at 0x7d75c41413d0>, module=<jaxlib.mlir._mlir_libs._mlir.ir.Module object at 0x7d75c415f6f0>, ip=<jaxlib.mlir._mlir_libs._mlir.ir.InsertionPoint object at 0x7d75c415f770>, symbol_table=<jaxlib.mlir._mlir_libs._mlir.ir.SymbolTable object at 0x7d75c415f730>, backend_or_name=<jaxlib.xla_extension.Client object at 0x7d75c42a62c0>, platforms=('cpu',), axis_context=ShardingContext(num_devices=1, device_assignment=None, mesh_shape=None), keepalives=[], channel_iterator=count(1), host_callbacks=[], shape_poly_state=<jax._src.interpreters.mlir.ShapePolyLoweringState object at 0x7d75c415f450>, all_default_mem_kind=True, cached_primitive_lowerings={}, traceback_caches=TracebackCaches(traceback_cache={<jaxlib.xla_extension.Traceback object at 0x4228150>: loc(callsite(\"multiply_add_prim\"(\"<ipython-input-4-7ddbe2c70ac2>\":12:9) at callsite(\"trace.<locals>.trace_func.<locals>.func_wrapper\"(\"<ipython-input-2-1ef1b2b25170>\":48:12) at callsite(\"multiply_add_batch\"(\"<ipython-input-28-0a41a9a04801>\":25:8) at callsite(\"trace.<locals>.trace_func.<locals>.func_wrapper\"(\"<ipython-input-2-1ef1b2b25170>\":48:12) at callsite(\"multiply_add_prim\"(\"<ipython-input-4-7ddbe2c70ac2>\":12:9) at callsite(\"trace.<locals>.trace_func.<locals>.func_wrapper\"(\"<ipython-input-2-1ef1b2b25170>\":48:12) at callsite(\"square_add_prim\"(\"<ipython-input-4-7ddbe2c70ac2>\":17:9) at callsite(\"trace.<locals>.trace_func.<locals>.func_wrapper\"(\"<ipython-input-2-1ef1b2b25170>\":48:12) at callsite(\"<module>\"(\"<ipython-input-30-c8968dd24840>\":1:19) at \"InteractiveShell.run_code\"(\"/usr/local/lib/python3.11/dist-packages/IPython/core/interactiveshell.py\":3553:20)))))))))))}, location_cache={(<code object multiply_add_prim at 0x7d75bc3ffd30, file \"<ipython-input-4-7ddbe2c70ac2>\", line 5>, 54): loc(\"multiply_add_prim\"(\"<ipython-input-4-7ddbe2c70ac2>\":12:9)), (<code object func_wrapper at 0x7d75c7af9530, file \"<ipython-input-2-1ef1b2b25170>\", line 45>, 98): loc(\"trace.<locals>.trace_func.<locals>.func_wrapper\"(\"<ipython-input-2-1ef1b2b25170>\":48:12)), (<code object multiply_add_batch at 0x7d75c43df0c0, file \"<ipython-input-28-0a41a9a04801>\", line 3>, 126): loc(\"multiply_add_batch\"(\"<ipython-input-28-0a41a9a04801>\":25:8)), (<code object square_add_prim at 0x7d75bc3dd8b0, file \"<ipython-input-4-7ddbe2c70ac2>\", line 14>, 32): loc(\"square_add_prim\"(\"<ipython-input-4-7ddbe2c70ac2>\":17:9)), (<code object <cell line: 0> at 0x7d75bc444f60, file \"<ipython-input-30-c8968dd24840>\", line 1>, 204): loc(\"<module>\"(\"<ipython-input-30-c8968dd24840>\":1:19)), (<code object run_code at 0x14a36d0, file \"/usr/local/lib/python3.11/dist-packages/IPython/core/interactiveshell.py\", line 3512>, 426): loc(\"InteractiveShell.run_code\"(\"/usr/local/lib/python3.11/dist-packages/IPython/core/interactiveshell.py\":3553:20))}, canonical_name_cache={'<ipython-input-4-7ddbe2c70ac2>': '<ipython-input-4-7ddbe2c70ac2>', '<ipython-input-2-1ef1b2b25170>': '<ipython-input-2-1ef1b2b25170>', '<ipython-input-28-0a41a9a04801>': '<ipython-input-28-0a41a9a04801>', '<ipython-input-30-c8968dd24840>': '<ipython-input-30-c8968dd24840>', '/usr/local/lib/python3.11/dist-packages/IPython/core/interactiveshell.py': '/usr/local/lib/python3.11/dist-packages/IPython/core/interactiveshell.py'}, is_user_file_cache={'/usr/local/lib/python3.11/dist-packages/jax/_src/source_info_util.py': False, '/usr/local/lib/python3.11/dist-packages/jax/_src/interpreters/partial_eval.py': False, '/usr/local/lib/python3.11/dist-packages/jax/_src/core.py': False, '<ipython-input-4-7ddbe2c70ac2>': True, '<ipython-input-2-1ef1b2b25170>': True, '<ipython-input-28-0a41a9a04801>': True, '/usr/local/lib/python3.11/dist-packages/jax/_src/interpreters/batching.py': False, '/usr/local/lib/python3.11/dist-packages/jax/_src/linear_util.py': False, '/usr/local/lib/python3.11/dist-packages/jax/_src/api.py': False, '/usr/local/lib/python3.11/dist-packages/jax/_src/traceback_util.py': False, '/usr/local/lib/python3.11/dist-packages/jax/_src/profiler.py': False, '/usr/local/lib/python3.11/dist-packages/jax/_src/pjit.py': False, '<ipython-input-30-c8968dd24840>': True, '/usr/local/lib/python3.11/dist-packages/IPython/core/interactiveshell.py': True}), lowering_parameters=LoweringParameters(override_lowering_rules=None, global_constant_computation=False, for_export=False, export_ignore_forward_compatibility=False)), name_stack=NameStack(stack=(Scope(name='jit(square_add_prim)'), Scope(name='jit(main)'), Transform(name='vmap'))), primitive=multiply_add, avals_in=[ShapedArray(float32[2]), ShapedArray(float32[2]), ShapedArray(float32[2])], avals_out=[ShapedArray(float32[2])], tokens_in=<jax._src.interpreters.mlir.TokenSet object at 0x7d75c412c4d0>, tokens_out=None, axis_size_env=None, dim_var_values=[], jaxpr_eqn_ctx=JaxprEqnContext(compute_type=None,threefry_partitionable=False),xla_metadata={}, platforms=None), Value(<block argument> of type 'tensor<2xf32>' at index: 0), Value(<block argument> of type 'tensor<2xf32>' at index: 0), Value(<block argument> of type 'tensor<2xf32>' at index: 1))\n",
            "|<- multiply_add_lowering = [<jaxlib.mlir._mlir_libs._mlir.ir.OpResult object at 0x7d75c412c6b0>]\n"
          ]
        }
      ]
    },
    {
      "cell_type": "code",
      "source": [],
      "metadata": {
        "id": "7haOmFdOtizw"
      },
      "execution_count": null,
      "outputs": []
    }
  ]
}