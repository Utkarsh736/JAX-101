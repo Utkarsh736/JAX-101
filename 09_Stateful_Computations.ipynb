{
  "nbformat": 4,
  "nbformat_minor": 0,
  "metadata": {
    "colab": {
      "provenance": []
    },
    "kernelspec": {
      "name": "python3",
      "display_name": "Python 3"
    },
    "language_info": {
      "name": "python"
    }
  },
  "cells": [
    {
      "cell_type": "markdown",
      "source": [
        "# Stateful Computations"
      ],
      "metadata": {
        "id": "1c4t89Rm-57W"
      }
    },
    {
      "cell_type": "markdown",
      "source": [
        "## Counter"
      ],
      "metadata": {
        "id": "1gxQbzEnAVJ5"
      }
    },
    {
      "cell_type": "code",
      "source": [
        "import jax\n",
        "import jax.numpy as jnp\n",
        "\n",
        "class Counter:\n",
        "  \"\"\"A simple counter.\"\"\"\n",
        "\n",
        "  def __init__(self):\n",
        "    self.n = 0\n",
        "\n",
        "  def count(self) -> int:\n",
        "    \"\"\"Increments the counter and returns the new value.\"\"\"\n",
        "    self.n += 1\n",
        "    return self.n\n",
        "\n",
        "  def reset(self):\n",
        "    \"\"\"Resets the counter to zero.\"\"\"\n",
        "    self.n = 0\n",
        "\n",
        "\n",
        "counter = Counter()\n",
        "\n",
        "for _ in range(3):\n",
        "  print(counter.count())"
      ],
      "metadata": {
        "colab": {
          "base_uri": "https://localhost:8080/"
        },
        "id": "miBvTcWtAWfi",
        "outputId": "c758dde4-63bb-4d79-d391-8bca543cb591"
      },
      "execution_count": 1,
      "outputs": [
        {
          "output_type": "stream",
          "name": "stdout",
          "text": [
            "1\n",
            "2\n",
            "3\n"
          ]
        }
      ]
    },
    {
      "cell_type": "code",
      "source": [
        "counter.reset()\n",
        "fast_count = jax.jit(counter.count)\n",
        "\n",
        "for _ in range(3):\n",
        "  print(fast_count())"
      ],
      "metadata": {
        "colab": {
          "base_uri": "https://localhost:8080/"
        },
        "id": "amcsxDE0AW5d",
        "outputId": "7e9d3064-1d55-4df3-ccc1-a47993c2d438"
      },
      "execution_count": 2,
      "outputs": [
        {
          "output_type": "stream",
          "name": "stdout",
          "text": [
            "1\n",
            "1\n",
            "1\n"
          ]
        }
      ]
    },
    {
      "cell_type": "markdown",
      "source": [
        "## Explicit state"
      ],
      "metadata": {
        "id": "eMVKN4y2Adou"
      }
    },
    {
      "cell_type": "code",
      "source": [
        "CounterState = int\n",
        "\n",
        "class CounterV2:\n",
        "\n",
        "  def count(self, n: CounterState) -> tuple[int, CounterState]:\n",
        "    # You could just return n+1, but here we separate its role as\n",
        "    # the output and as the counter state for didactic purposes.\n",
        "    return n+1, n+1\n",
        "\n",
        "  def reset(self) -> CounterState:\n",
        "    return 0\n",
        "\n",
        "counter = CounterV2()\n",
        "state = counter.reset()\n",
        "\n",
        "for _ in range(3):\n",
        "  value, state = counter.count(state)\n",
        "  print(value)"
      ],
      "metadata": {
        "colab": {
          "base_uri": "https://localhost:8080/"
        },
        "id": "EVsGiEEBAoLF",
        "outputId": "9d5867b3-ae29-45d7-af85-789a66bd91e2"
      },
      "execution_count": 3,
      "outputs": [
        {
          "output_type": "stream",
          "name": "stdout",
          "text": [
            "1\n",
            "2\n",
            "3\n"
          ]
        }
      ]
    },
    {
      "cell_type": "code",
      "source": [
        "state = counter.reset()\n",
        "fast_count = jax.jit(counter.count)\n",
        "\n",
        "for _ in range(3):\n",
        "  value, state = fast_count(state)\n",
        "  print(value)"
      ],
      "metadata": {
        "colab": {
          "base_uri": "https://localhost:8080/"
        },
        "id": "SEzaLC83Aojn",
        "outputId": "0c673642-1a57-4ef7-bb04-bb3ce4f8ad05"
      },
      "execution_count": 4,
      "outputs": [
        {
          "output_type": "stream",
          "name": "stdout",
          "text": [
            "1\n",
            "2\n",
            "3\n"
          ]
        }
      ]
    },
    {
      "cell_type": "markdown",
      "source": [
        "## Linear Regression"
      ],
      "metadata": {
        "id": "tMR7gsgeAx-E"
      }
    },
    {
      "cell_type": "code",
      "source": [
        "from typing import NamedTuple\n",
        "\n",
        "class Params(NamedTuple):\n",
        "  weight: jnp.ndarray\n",
        "  bias: jnp.ndarray\n",
        "\n",
        "\n",
        "def init(rng) -> Params:\n",
        "  \"\"\"Returns the initial model params.\"\"\"\n",
        "  weights_key, bias_key = jax.random.split(rng)\n",
        "  weight = jax.random.normal(weights_key, ())\n",
        "  bias = jax.random.normal(bias_key, ())\n",
        "  return Params(weight, bias)\n",
        "\n",
        "\n",
        "def loss(params: Params, x: jnp.ndarray, y: jnp.ndarray) -> jnp.ndarray:\n",
        "  \"\"\"Computes the least squares error of the model's predictions on x against y.\"\"\"\n",
        "  pred = params.weight * x + params.bias\n",
        "  return jnp.mean((pred - y) ** 2)\n",
        "\n",
        "\n",
        "LEARNING_RATE = 0.005\n",
        "\n",
        "@jax.jit\n",
        "def update(params: Params, x: jnp.ndarray, y: jnp.ndarray) -> Params:\n",
        "  \"\"\"Performs one SGD update step on params using the given data.\"\"\"\n",
        "  grad = jax.grad(loss)(params, x, y)\n",
        "\n",
        "  # If we were using Adam or another stateful optimizer,\n",
        "  # we would also do something like\n",
        "  #\n",
        "  #   updates, new_optimizer_state = optimizer(grad, optimizer_state)\n",
        "  #\n",
        "  # and then use `updates` instead of `grad` to actually update the params.\n",
        "  # (And we'd include `new_optimizer_state` in the output, naturally.)\n",
        "\n",
        "  new_params = jax.tree_map(\n",
        "      lambda param, g: param - g * LEARNING_RATE, params, grad)\n",
        "\n",
        "  return new_params"
      ],
      "metadata": {
        "id": "3hgY6J0BA0qe"
      },
      "execution_count": 6,
      "outputs": []
    },
    {
      "cell_type": "code",
      "source": [
        "import matplotlib.pyplot as plt\n",
        "\n",
        "rng = jax.random.key(42)\n",
        "\n",
        "# Generate true data from y = w*x + b + noise\n",
        "true_w, true_b = 2, -1\n",
        "x_rng, noise_rng = jax.random.split(rng)\n",
        "xs = jax.random.normal(x_rng, (128, 1))\n",
        "noise = jax.random.normal(noise_rng, (128, 1)) * 0.5\n",
        "ys = xs * true_w + true_b + noise\n",
        "\n",
        "# Fit regression\n",
        "params = init(rng)\n",
        "for _ in range(1000):\n",
        "  params = update(params, xs, ys)\n",
        "\n",
        "plt.scatter(xs, ys)\n",
        "plt.plot(xs, params.weight * xs + params.bias, c='red', label='Model Prediction')\n",
        "plt.legend();"
      ],
      "metadata": {
        "colab": {
          "base_uri": "https://localhost:8080/",
          "height": 465
        },
        "id": "-adMUWGjA07p",
        "outputId": "f662732e-d3fa-4388-8b15-2d34f9994a6b"
      },
      "execution_count": 7,
      "outputs": [
        {
          "output_type": "stream",
          "name": "stderr",
          "text": [
            "<ipython-input-6-9dd513703717>:37: DeprecationWarning: jax.tree_map is deprecated: use jax.tree.map (jax v0.4.25 or newer) or jax.tree_util.tree_map (any JAX version).\n",
            "  new_params = jax.tree_map(\n"
          ]
        },
        {
          "output_type": "display_data",
          "data": {
            "text/plain": [
              "<Figure size 640x480 with 1 Axes>"
            ],
            "image/png": "[encoded data removed]"
          },
          "metadata": {}
        }
      ]
    },
    {
      "cell_type": "code",
      "source": [],
      "metadata": {
        "id": "eaftkTY3BBYn"
      },
      "execution_count": null,
      "outputs": []
    }
  ]
}