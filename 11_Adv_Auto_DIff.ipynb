{
  "nbformat": 4,
  "nbformat_minor": 0,
  "metadata": {
    "colab": {
      "provenance": []
    },
    "kernelspec": {
      "name": "python3",
      "display_name": "Python 3"
    },
    "language_info": {
      "name": "python"
    }
  },
  "cells": [
    {
      "cell_type": "markdown",
      "source": [
        "# Advanced Automatic Differentiation"
      ],
      "metadata": {
        "id": "-5OwoUvKhvWo"
      }
    },
    {
      "cell_type": "markdown",
      "source": [
        "## Setup"
      ],
      "metadata": {
        "id": "sjpO-reph6pL"
      }
    },
    {
      "cell_type": "code",
      "source": [
        "import jax\n",
        "import jax.numpy as jnp\n",
        "from jax import grad, jit, vmap\n",
        "from jax import random\n",
        "\n",
        "key = random.key(0)"
      ],
      "metadata": {
        "id": "veeqNmjqh957"
      },
      "execution_count": 1,
      "outputs": []
    },
    {
      "cell_type": "markdown",
      "source": [
        "## Taking Gradients"
      ],
      "metadata": {
        "id": "kamcv_L9h-TS"
      }
    },
    {
      "cell_type": "markdown",
      "source": [
        "### Higher Order Derivatives"
      ],
      "metadata": {
        "id": "1EuvWzaYiCOv"
      }
    },
    {
      "cell_type": "code",
      "source": [
        "def hessian(f):\n",
        "  return jax.jacfwd(jax.grad(f))"
      ],
      "metadata": {
        "id": "eTZGzA1ZiE49"
      },
      "execution_count": 2,
      "outputs": []
    },
    {
      "cell_type": "code",
      "source": [
        "def f(x):\n",
        "  return jnp.dot(x, x)\n",
        "\n",
        "hessian(f)(jnp.array([1., 2., 3.]))"
      ],
      "metadata": {
        "colab": {
          "base_uri": "https://localhost:8080/"
        },
        "id": "XlECkUqLiFJf",
        "outputId": "3626d599-b0de-4be0-e093-fcf30ca1779b"
      },
      "execution_count": 3,
      "outputs": [
        {
          "output_type": "execute_result",
          "data": {
            "text/plain": [
              "Array([[2., 0., 0.],\n",
              "       [0., 2., 0.],\n",
              "       [0., 0., 2.]], dtype=float32)"
            ]
          },
          "metadata": {},
          "execution_count": 3
        }
      ]
    },
    {
      "cell_type": "markdown",
      "source": [
        "## High-order Optimizations"
      ],
      "metadata": {
        "id": "n4q8rjIliGnj"
      }
    },
    {
      "cell_type": "markdown",
      "source": [
        "```py\n",
        "def meta_loss_fn(params, data):\n",
        "  \"\"\"Computes the loss after one step of SGD.\"\"\"\n",
        "  grads = jax.grad(loss_fn)(params, data)\n",
        "  return loss_fn(params - lr * grads, data)\n",
        "\n",
        "meta_grads = jax.grad(meta_loss_fn)(params, data)\n",
        "```"
      ],
      "metadata": {
        "id": "ljJDZFKNiNWu"
      }
    },
    {
      "cell_type": "markdown",
      "source": [
        "### Stopping Gradients"
      ],
      "metadata": {
        "id": "t-uUBCdaimfH"
      }
    },
    {
      "cell_type": "code",
      "source": [
        "# Value function and initial parameters\n",
        "value_fn = lambda theta, state: jnp.dot(theta, state)\n",
        "theta = jnp.array([0.1, -0.1, 0.])"
      ],
      "metadata": {
        "id": "Dw2jkIu8iVWE"
      },
      "execution_count": 6,
      "outputs": []
    },
    {
      "cell_type": "code",
      "source": [
        "# An example transition.\n",
        "s_tm1 = jnp.array([1., 2., -1.])\n",
        "r_t = jnp.array(1.)\n",
        "s_t = jnp.array([2., 1., 0.])"
      ],
      "metadata": {
        "id": "otX8QvE3ik5D"
      },
      "execution_count": 7,
      "outputs": []
    },
    {
      "cell_type": "code",
      "source": [
        "def td_loss(theta, s_tm1, r_t, s_t):\n",
        "  v_tm1 = value_fn(theta, s_tm1)\n",
        "  target = r_t + value_fn(theta, s_t)\n",
        "  return -0.5 * ((target - v_tm1) ** 2)\n",
        "\n",
        "td_update = jax.grad(td_loss)\n",
        "delta_theta = td_update(theta, s_tm1, r_t, s_t)\n",
        "\n",
        "delta_theta"
      ],
      "metadata": {
        "colab": {
          "base_uri": "https://localhost:8080/"
        },
        "id": "oWp9jCMlizII",
        "outputId": "3422b679-1291-49ff-889e-5d1533e49fb0"
      },
      "execution_count": 8,
      "outputs": [
        {
          "output_type": "execute_result",
          "data": {
            "text/plain": [
              "Array([-1.2,  1.2, -1.2], dtype=float32)"
            ]
          },
          "metadata": {},
          "execution_count": 8
        }
      ]
    },
    {
      "cell_type": "code",
      "source": [
        "def td_loss(theta, s_tm1, r_t, s_t):\n",
        "  v_tm1 = value_fn(theta, s_tm1)\n",
        "  target = r_t + value_fn(theta, s_t)\n",
        "  return -0.5 * ((jax.lax.stop_gradient(target) - v_tm1) ** 2)\n",
        "\n",
        "td_update = jax.grad(td_loss)\n",
        "delta_theta = td_update(theta, s_tm1, r_t, s_t)\n",
        "\n",
        "delta_theta"
      ],
      "metadata": {
        "colab": {
          "base_uri": "https://localhost:8080/"
        },
        "id": "VhVVqXUEi04j",
        "outputId": "e42706c2-d5d0-406f-cb0c-e7ae2cfe9427"
      },
      "execution_count": 9,
      "outputs": [
        {
          "output_type": "execute_result",
          "data": {
            "text/plain": [
              "Array([ 1.2,  2.4, -1.2], dtype=float32)"
            ]
          },
          "metadata": {},
          "execution_count": 9
        }
      ]
    },
    {
      "cell_type": "code",
      "source": [
        "s_grad = jax.grad(value_fn)(theta, s_tm1)\n",
        "delta_theta_original_calculation = (r_t + value_fn(theta, s_t) - value_fn(theta, s_tm1)) * s_grad\n",
        "\n",
        "delta_theta_original_calculation # [1.2, 2.4, -1.2], same as `delta_theta`"
      ],
      "metadata": {
        "colab": {
          "base_uri": "https://localhost:8080/"
        },
        "id": "kU8dw7uxi2Qs",
        "outputId": "954d7937-73f7-4f61-a777-0c99cc74e308"
      },
      "execution_count": 10,
      "outputs": [
        {
          "output_type": "execute_result",
          "data": {
            "text/plain": [
              "Array([ 1.2,  2.4, -1.2], dtype=float32)"
            ]
          },
          "metadata": {},
          "execution_count": 10
        }
      ]
    },
    {
      "cell_type": "markdown",
      "source": [
        "### Straight-through estimator"
      ],
      "metadata": {
        "id": "m0N90MmSi3i2"
      }
    },
    {
      "cell_type": "code",
      "source": [
        "def f(x):\n",
        "  return jnp.round(x)  # non-differentiable\n",
        "\n",
        "def straight_through_f(x):\n",
        "  # Create an exactly-zero expression with Sterbenz lemma that has\n",
        "  # an exactly-one gradient.\n",
        "  zero = x - jax.lax.stop_gradient(x)\n",
        "  return zero + jax.lax.stop_gradient(f(x))\n",
        "\n",
        "print(\"f(x): \", f(3.2))\n",
        "print(\"straight_through_f(x):\", straight_through_f(3.2))\n",
        "\n",
        "print(\"grad(f)(x):\", jax.grad(f)(3.2))\n",
        "print(\"grad(straight_through_f)(x):\", jax.grad(straight_through_f)(3.2))"
      ],
      "metadata": {
        "colab": {
          "base_uri": "https://localhost:8080/"
        },
        "id": "hupWNc0Yi-Dy",
        "outputId": "01b33530-d739-4ba5-95cb-6ac0ccebe370"
      },
      "execution_count": 11,
      "outputs": [
        {
          "output_type": "stream",
          "name": "stdout",
          "text": [
            "f(x):  3.0\n",
            "straight_through_f(x): 3.0\n",
            "grad(f)(x): 0.0\n",
            "grad(straight_through_f)(x): 1.0\n"
          ]
        }
      ]
    },
    {
      "cell_type": "markdown",
      "source": [
        "### Per-example gradients"
      ],
      "metadata": {
        "id": "RMaKJBHfi-Yt"
      }
    },
    {
      "cell_type": "code",
      "source": [
        "perex_grads = jax.jit(jax.vmap(jax.grad(td_loss), in_axes=(None, 0, 0, 0)))\n",
        "\n",
        "# Test it:\n",
        "batched_s_tm1 = jnp.stack([s_tm1, s_tm1])\n",
        "batched_r_t = jnp.stack([r_t, r_t])\n",
        "batched_s_t = jnp.stack([s_t, s_t])\n",
        "\n",
        "perex_grads(theta, batched_s_tm1, batched_r_t, batched_s_t)"
      ],
      "metadata": {
        "colab": {
          "base_uri": "https://localhost:8080/"
        },
        "id": "H3CKouX1jCx7",
        "outputId": "0755e739-b66b-4120-bc23-de25a94d3411"
      },
      "execution_count": 12,
      "outputs": [
        {
          "output_type": "execute_result",
          "data": {
            "text/plain": [
              "Array([[ 1.2,  2.4, -1.2],\n",
              "       [ 1.2,  2.4, -1.2]], dtype=float32)"
            ]
          },
          "metadata": {},
          "execution_count": 12
        }
      ]
    },
    {
      "cell_type": "code",
      "source": [
        "dtdloss_dtheta = jax.grad(td_loss)\n",
        "\n",
        "dtdloss_dtheta(theta, s_tm1, r_t, s_t)"
      ],
      "metadata": {
        "colab": {
          "base_uri": "https://localhost:8080/"
        },
        "id": "X3L69kxDjDBA",
        "outputId": "131eef70-14c9-4766-e39d-3b057c9b535e"
      },
      "execution_count": 13,
      "outputs": [
        {
          "output_type": "execute_result",
          "data": {
            "text/plain": [
              "Array([ 1.2,  2.4, -1.2], dtype=float32)"
            ]
          },
          "metadata": {},
          "execution_count": 13
        }
      ]
    },
    {
      "cell_type": "code",
      "source": [
        "almost_perex_grads = jax.vmap(dtdloss_dtheta)\n",
        "\n",
        "batched_theta = jnp.stack([theta, theta])\n",
        "almost_perex_grads(batched_theta, batched_s_tm1, batched_r_t, batched_s_t)"
      ],
      "metadata": {
        "colab": {
          "base_uri": "https://localhost:8080/"
        },
        "id": "ECGmYSAJjEeK",
        "outputId": "59448362-5912-4617-a765-478256b27eb1"
      },
      "execution_count": 14,
      "outputs": [
        {
          "output_type": "execute_result",
          "data": {
            "text/plain": [
              "Array([[ 1.2,  2.4, -1.2],\n",
              "       [ 1.2,  2.4, -1.2]], dtype=float32)"
            ]
          },
          "metadata": {},
          "execution_count": 14
        }
      ]
    },
    {
      "cell_type": "code",
      "source": [
        "inefficient_perex_grads = jax.vmap(dtdloss_dtheta, in_axes=(None, 0, 0, 0))\n",
        "\n",
        "inefficient_perex_grads(theta, batched_s_tm1, batched_r_t, batched_s_t)"
      ],
      "metadata": {
        "colab": {
          "base_uri": "https://localhost:8080/"
        },
        "id": "W68cuumPjF20",
        "outputId": "02af9053-0b0e-4f93-a67e-2064ed33bc5e"
      },
      "execution_count": 15,
      "outputs": [
        {
          "output_type": "execute_result",
          "data": {
            "text/plain": [
              "Array([[ 1.2,  2.4, -1.2],\n",
              "       [ 1.2,  2.4, -1.2]], dtype=float32)"
            ]
          },
          "metadata": {},
          "execution_count": 15
        }
      ]
    },
    {
      "cell_type": "code",
      "source": [
        "perex_grads = jax.jit(inefficient_perex_grads)\n",
        "\n",
        "perex_grads(theta, batched_s_tm1, batched_r_t, batched_s_t)"
      ],
      "metadata": {
        "colab": {
          "base_uri": "https://localhost:8080/"
        },
        "id": "Yb83iiS1jHLX",
        "outputId": "c05a2245-1c62-442b-938a-bfa58cc1a73e"
      },
      "execution_count": 16,
      "outputs": [
        {
          "output_type": "execute_result",
          "data": {
            "text/plain": [
              "Array([[ 1.2,  2.4, -1.2],\n",
              "       [ 1.2,  2.4, -1.2]], dtype=float32)"
            ]
          },
          "metadata": {},
          "execution_count": 16
        }
      ]
    },
    {
      "cell_type": "code",
      "source": [
        "%timeit inefficient_perex_grads(theta, batched_s_tm1, batched_r_t, batched_s_t).block_until_ready()\n",
        "%timeit perex_grads(theta, batched_s_tm1, batched_r_t, batched_s_t).block_until_ready()"
      ],
      "metadata": {
        "colab": {
          "base_uri": "https://localhost:8080/"
        },
        "id": "SGhgTij8jIy4",
        "outputId": "276dd81a-b72c-4eb6-b032-7071e3eb11f5"
      },
      "execution_count": 17,
      "outputs": [
        {
          "output_type": "stream",
          "name": "stdout",
          "text": [
            "4.45 ms ± 727 µs per loop (mean ± std. dev. of 7 runs, 100 loops each)\n",
            "6.03 µs ± 63.3 ns per loop (mean ± std. dev. of 7 runs, 100000 loops each)\n"
          ]
        }
      ]
    },
    {
      "cell_type": "markdown",
      "source": [
        "### Hessian Vector Products"
      ],
      "metadata": {
        "id": "IOJehkCjjKZK"
      }
    },
    {
      "cell_type": "code",
      "source": [
        "def hvp(f, x, v):\n",
        "    return grad(lambda x: jnp.vdot(grad(f)(x), v))(x)"
      ],
      "metadata": {
        "id": "PBmOyToyjPzI"
      },
      "execution_count": 18,
      "outputs": []
    },
    {
      "cell_type": "markdown",
      "source": [
        "### Jacobians and Hessians"
      ],
      "metadata": {
        "id": "Swu8qrUNjQCS"
      }
    },
    {
      "cell_type": "code",
      "source": [
        "from jax import jacfwd, jacrev\n",
        "\n",
        "# Define a sigmoid function.\n",
        "def sigmoid(x):\n",
        "    return 0.5 * (jnp.tanh(x / 2) + 1)\n",
        "\n",
        "# Outputs probability of a label being true.\n",
        "def predict(W, b, inputs):\n",
        "    return sigmoid(jnp.dot(inputs, W) + b)\n",
        "\n",
        "# Build a toy dataset.\n",
        "inputs = jnp.array([[0.52, 1.12,  0.77],\n",
        "                   [0.88, -1.08, 0.15],\n",
        "                   [0.52, 0.06, -1.30],\n",
        "                   [0.74, -2.49, 1.39]])\n",
        "\n",
        "# Initialize random model coefficients\n",
        "key, W_key, b_key = random.split(key, 3)\n",
        "W = random.normal(W_key, (3,))\n",
        "b = random.normal(b_key, ())\n",
        "\n",
        "# Isolate the function from the weight matrix to the predictions\n",
        "f = lambda W: predict(W, b, inputs)\n",
        "\n",
        "J = jacfwd(f)(W)\n",
        "print(\"jacfwd result, with shape\", J.shape)\n",
        "print(J)\n",
        "\n",
        "J = jacrev(f)(W)\n",
        "print(\"jacrev result, with shape\", J.shape)\n",
        "print(J)"
      ],
      "metadata": {
        "colab": {
          "base_uri": "https://localhost:8080/"
        },
        "id": "eTg23XyjjTEZ",
        "outputId": "12df398d-c55b-4b59-afb8-6a8b0adbd2b2"
      },
      "execution_count": 19,
      "outputs": [
        {
          "output_type": "stream",
          "name": "stdout",
          "text": [
            "jacfwd result, with shape (4, 3)\n",
            "[[ 0.05981758  0.12883787  0.08857603]\n",
            " [ 0.04015916 -0.04928625  0.00684531]\n",
            " [ 0.12188288  0.01406341 -0.3047072 ]\n",
            " [ 0.00140431 -0.00472531  0.00263782]]\n",
            "jacrev result, with shape (4, 3)\n",
            "[[ 0.05981757  0.12883787  0.08857603]\n",
            " [ 0.04015916 -0.04928625  0.00684531]\n",
            " [ 0.12188289  0.01406341 -0.3047072 ]\n",
            " [ 0.00140431 -0.00472531  0.00263782]]\n"
          ]
        }
      ]
    },
    {
      "cell_type": "code",
      "source": [
        "def predict_dict(params, inputs):\n",
        "    return predict(params['W'], params['b'], inputs)\n",
        "\n",
        "J_dict = jacrev(predict_dict)({'W': W, 'b': b}, inputs)\n",
        "for k, v in J_dict.items():\n",
        "    print(\"Jacobian from {} to logits is\".format(k))\n",
        "    print(v)"
      ],
      "metadata": {
        "colab": {
          "base_uri": "https://localhost:8080/"
        },
        "id": "fbukpwn4jTT-",
        "outputId": "59b28680-c050-4f0d-dfcb-2d9b781ce5e2"
      },
      "execution_count": 20,
      "outputs": [
        {
          "output_type": "stream",
          "name": "stdout",
          "text": [
            "Jacobian from W to logits is\n",
            "[[ 0.05981757  0.12883787  0.08857603]\n",
            " [ 0.04015916 -0.04928625  0.00684531]\n",
            " [ 0.12188289  0.01406341 -0.3047072 ]\n",
            " [ 0.00140431 -0.00472531  0.00263782]]\n",
            "Jacobian from b to logits is\n",
            "[0.11503381 0.04563541 0.23439017 0.00189771]\n"
          ]
        }
      ]
    },
    {
      "cell_type": "code",
      "source": [
        "def hessian(f):\n",
        "    return jacfwd(jacrev(f))\n",
        "\n",
        "H = hessian(f)(W)\n",
        "print(\"hessian, with shape\", H.shape)\n",
        "print(H)"
      ],
      "metadata": {
        "colab": {
          "base_uri": "https://localhost:8080/"
        },
        "id": "uDw8rhxEjWRj",
        "outputId": "49bbb01a-c682-4297-a753-a95b664f71da"
      },
      "execution_count": 21,
      "outputs": [
        {
          "output_type": "stream",
          "name": "stdout",
          "text": [
            "hessian, with shape (4, 3, 3)\n",
            "[[[ 0.02285465  0.04922541  0.03384247]\n",
            "  [ 0.04922541  0.10602397  0.07289147]\n",
            "  [ 0.03384247  0.07289147  0.05011288]]\n",
            "\n",
            " [[-0.03195215  0.03921401 -0.00544639]\n",
            "  [ 0.03921401 -0.04812629  0.00668421]\n",
            "  [-0.00544639  0.00668421 -0.00092836]]\n",
            "\n",
            " [[-0.01583708 -0.00182736  0.03959271]\n",
            "  [-0.00182736 -0.00021085  0.00456839]\n",
            "  [ 0.03959271  0.00456839 -0.09898177]]\n",
            "\n",
            " [[-0.00103524  0.00348343 -0.00194457]\n",
            "  [ 0.00348343 -0.01172127  0.0065432 ]\n",
            "  [-0.00194457  0.0065432  -0.00365263]]]\n"
          ]
        }
      ]
    },
    {
      "cell_type": "markdown",
      "source": [
        "## 2 Foundational auto-diff"
      ],
      "metadata": {
        "id": "0rw7suDgjYAs"
      }
    },
    {
      "cell_type": "markdown",
      "source": [
        "### JVP (forward-mode autodiff)"
      ],
      "metadata": {
        "id": "PnGKJNt7jfsW"
      }
    },
    {
      "cell_type": "markdown",
      "source": [
        "#### JVP in JAX-code"
      ],
      "metadata": {
        "id": "Z9DpzTpbjl2g"
      }
    },
    {
      "cell_type": "code",
      "source": [
        "from jax import jvp\n",
        "\n",
        "# Isolate the function from the weight matrix to the predictions\n",
        "f = lambda W: predict(W, b, inputs)\n",
        "\n",
        "key, subkey = random.split(key)\n",
        "v = random.normal(subkey, W.shape)\n",
        "\n",
        "# Push forward the vector `v` along `f` evaluated at `W`\n",
        "y, u = jvp(f, (W,), (v,))"
      ],
      "metadata": {
        "id": "YMwSErWajpbu"
      },
      "execution_count": 22,
      "outputs": []
    },
    {
      "cell_type": "markdown",
      "source": [
        "### VJP (reverse-mode autodiff)"
      ],
      "metadata": {
        "id": "RPBsq3ufjqvB"
      }
    },
    {
      "cell_type": "markdown",
      "source": [
        "#### VJP in JAX-code"
      ],
      "metadata": {
        "id": "cZbQhf7ljy0l"
      }
    },
    {
      "cell_type": "code",
      "source": [
        "from jax import vjp\n",
        "\n",
        "# Isolate the function from the weight matrix to the predictions\n",
        "f = lambda W: predict(W, b, inputs)\n",
        "\n",
        "y, vjp_fun = vjp(f, W)\n",
        "\n",
        "key, subkey = random.split(key)\n",
        "u = random.normal(subkey, y.shape)\n",
        "\n",
        "# Pull back the covector `u` along `f` evaluated at `W`\n",
        "v = vjp_fun(u)"
      ],
      "metadata": {
        "id": "t4-nN-GOj3mO"
      },
      "execution_count": 23,
      "outputs": []
    },
    {
      "cell_type": "markdown",
      "source": [
        "### Vector valued gradients with VJP"
      ],
      "metadata": {
        "id": "5whec6inj30X"
      }
    },
    {
      "cell_type": "code",
      "source": [
        "def vgrad(f, x):\n",
        "  y, vjp_fn = vjp(f, x)\n",
        "  return vjp_fn(jnp.ones(y.shape))[0]\n",
        "\n",
        "print(vgrad(lambda x: 3*x**2, jnp.ones((2, 2))))"
      ],
      "metadata": {
        "colab": {
          "base_uri": "https://localhost:8080/"
        },
        "id": "Ftx2gGckj94f",
        "outputId": "9b03bb0e-1ea3-40e6-d7bc-6c564e022f0d"
      },
      "execution_count": 24,
      "outputs": [
        {
          "output_type": "stream",
          "name": "stdout",
          "text": [
            "[[6. 6.]\n",
            " [6. 6.]]\n"
          ]
        }
      ]
    },
    {
      "cell_type": "markdown",
      "source": [
        "### Hessian vector products"
      ],
      "metadata": {
        "id": "NjxSkaVCj-Ik"
      }
    },
    {
      "cell_type": "code",
      "source": [
        "def hvp(f, x, v):\n",
        "    return grad(lambda x: jnp.vdot(grad(f)(x), v))(x)"
      ],
      "metadata": {
        "id": "CxpeJvsqkCHA"
      },
      "execution_count": 25,
      "outputs": []
    },
    {
      "cell_type": "code",
      "source": [
        "# forward-over-reverse\n",
        "def hvp(f, primals, tangents):\n",
        "  return jvp(grad(f), primals, tangents)[1]"
      ],
      "metadata": {
        "id": "GVLU_5qmkDsc"
      },
      "execution_count": 26,
      "outputs": []
    },
    {
      "cell_type": "code",
      "source": [
        "def f(X):\n",
        "  return jnp.sum(jnp.tanh(X)**2)\n",
        "\n",
        "key, subkey1, subkey2 = random.split(key, 3)\n",
        "X = random.normal(subkey1, (30, 40))\n",
        "V = random.normal(subkey2, (30, 40))\n",
        "\n",
        "ans1 = hvp(f, (X,), (V,))\n",
        "ans2 = jnp.tensordot(hessian(f)(X), V, 2)\n",
        "\n",
        "print(jnp.allclose(ans1, ans2, 1e-4, 1e-4))"
      ],
      "metadata": {
        "colab": {
          "base_uri": "https://localhost:8080/"
        },
        "id": "m9XdgIJQkFKR",
        "outputId": "8833b7a1-a9a2-4d59-ecdc-12033dd5b354"
      },
      "execution_count": 27,
      "outputs": [
        {
          "output_type": "stream",
          "name": "stdout",
          "text": [
            "True\n"
          ]
        }
      ]
    },
    {
      "cell_type": "code",
      "source": [
        "# Reverse-over-forward\n",
        "def hvp_revfwd(f, primals, tangents):\n",
        "  g = lambda primals: jvp(f, primals, tangents)[1]\n",
        "  return grad(g)(primals)"
      ],
      "metadata": {
        "id": "e2I6CsWfkGT8"
      },
      "execution_count": 28,
      "outputs": []
    },
    {
      "cell_type": "code",
      "source": [
        "# Reverse-over-reverse, only works for single arguments\n",
        "def hvp_revrev(f, primals, tangents):\n",
        "  x, = primals\n",
        "  v, = tangents\n",
        "  return grad(lambda x: jnp.vdot(grad(f)(x), v))(x)\n",
        "\n",
        "\n",
        "print(\"Forward over reverse\")\n",
        "%timeit -n10 -r3 hvp(f, (X,), (V,))\n",
        "print(\"Reverse over forward\")\n",
        "%timeit -n10 -r3 hvp_revfwd(f, (X,), (V,))\n",
        "print(\"Reverse over reverse\")\n",
        "%timeit -n10 -r3 hvp_revrev(f, (X,), (V,))\n",
        "\n",
        "print(\"Naive full Hessian materialization\")\n",
        "%timeit -n10 -r3 jnp.tensordot(hessian(f)(X), V, 2)"
      ],
      "metadata": {
        "colab": {
          "base_uri": "https://localhost:8080/"
        },
        "id": "Vy4HzQ2YkHkA",
        "outputId": "b292d35d-74d1-4b7c-a04a-fdff6de6b22b"
      },
      "execution_count": 29,
      "outputs": [
        {
          "output_type": "stream",
          "name": "stdout",
          "text": [
            "Forward over reverse\n",
            "8.09 ms ± 3.24 ms per loop (mean ± std. dev. of 3 runs, 10 loops each)\n",
            "Reverse over forward\n",
            "The slowest run took 5.25 times longer than the fastest. This could mean that an intermediate result is being cached.\n",
            "11.1 ms ± 8.93 ms per loop (mean ± std. dev. of 3 runs, 10 loops each)\n",
            "Reverse over reverse\n",
            "The slowest run took 4.02 times longer than the fastest. This could mean that an intermediate result is being cached.\n",
            "12.8 ms ± 8.94 ms per loop (mean ± std. dev. of 3 runs, 10 loops each)\n",
            "Naive full Hessian materialization\n",
            "43 ms ± 8.06 ms per loop (mean ± std. dev. of 3 runs, 10 loops each)\n"
          ]
        }
      ]
    },
    {
      "cell_type": "markdown",
      "source": [
        "## Composing VJP, JVP and `jax.vmap`"
      ],
      "metadata": {
        "id": "y-43Zb55kIyN"
      }
    },
    {
      "cell_type": "markdown",
      "source": [
        "### Jacobian-MAtrix and Matrix-Jacobian Product"
      ],
      "metadata": {
        "id": "IH3mvottkOh0"
      }
    },
    {
      "cell_type": "code",
      "source": [
        "# Isolate the function from the weight matrix to the predictions\n",
        "f = lambda W: predict(W, b, inputs)\n",
        "\n",
        "# Pull back the covectors `m_i` along `f`, evaluated at `W`, for all `i`.\n",
        "# First, use a list comprehension to loop over rows in the matrix M.\n",
        "def loop_mjp(f, x, M):\n",
        "    y, vjp_fun = vjp(f, x)\n",
        "    return jnp.vstack([vjp_fun(mi) for mi in M])\n",
        "\n",
        "# Now, use vmap to build a computation that does a single fast matrix-matrix\n",
        "# multiply, rather than an outer loop over vector-matrix multiplies.\n",
        "def vmap_mjp(f, x, M):\n",
        "    y, vjp_fun = vjp(f, x)\n",
        "    outs, = vmap(vjp_fun)(M)\n",
        "    return outs\n",
        "\n",
        "key = random.key(0)\n",
        "num_covecs = 128\n",
        "U = random.normal(key, (num_covecs,) + y.shape)\n",
        "\n",
        "loop_vs = loop_mjp(f, W, M=U)\n",
        "print('Non-vmapped Matrix-Jacobian product')\n",
        "%timeit -n10 -r3 loop_mjp(f, W, M=U)\n",
        "\n",
        "print('\\nVmapped Matrix-Jacobian product')\n",
        "vmap_vs = vmap_mjp(f, W, M=U)\n",
        "%timeit -n10 -r3 vmap_mjp(f, W, M=U)\n",
        "\n",
        "assert jnp.allclose(loop_vs, vmap_vs), 'Vmap and non-vmapped Matrix-Jacobian Products should be identical'"
      ],
      "metadata": {
        "colab": {
          "base_uri": "https://localhost:8080/"
        },
        "id": "tArw0MUHkUz5",
        "outputId": "40c40864-7e97-4b16-a9ad-613aca297638"
      },
      "execution_count": 30,
      "outputs": [
        {
          "output_type": "stream",
          "name": "stderr",
          "text": [
            "<ipython-input-30-3c78b2535694>:8: DeprecationWarning: vstack requires ndarray or scalar arguments, got <class 'tuple'> at position 0. In a future JAX release this will be an error.\n",
            "  return jnp.vstack([vjp_fun(mi) for mi in M])\n"
          ]
        },
        {
          "output_type": "stream",
          "name": "stdout",
          "text": [
            "Non-vmapped Matrix-Jacobian product\n",
            "135 ms ± 1.42 ms per loop (mean ± std. dev. of 3 runs, 10 loops each)\n",
            "\n",
            "Vmapped Matrix-Jacobian product\n",
            "3.93 ms ± 156 µs per loop (mean ± std. dev. of 3 runs, 10 loops each)\n"
          ]
        }
      ]
    },
    {
      "cell_type": "code",
      "source": [
        "def loop_jmp(f, W, M):\n",
        "    # jvp immediately returns the primal and tangent values as a tuple,\n",
        "    # so we'll compute and select the tangents in a list comprehension\n",
        "    return jnp.vstack([jvp(f, (W,), (mi,))[1] for mi in M])\n",
        "\n",
        "def vmap_jmp(f, W, M):\n",
        "    _jvp = lambda s: jvp(f, (W,), (s,))[1]\n",
        "    return vmap(_jvp)(M)\n",
        "\n",
        "num_vecs = 128\n",
        "S = random.normal(key, (num_vecs,) + W.shape)\n",
        "\n",
        "loop_vs = loop_jmp(f, W, M=S)\n",
        "print('Non-vmapped Jacobian-Matrix product')\n",
        "%timeit -n10 -r3 loop_jmp(f, W, M=S)\n",
        "vmap_vs = vmap_jmp(f, W, M=S)\n",
        "print('\\nVmapped Jacobian-Matrix product')\n",
        "%timeit -n10 -r3 vmap_jmp(f, W, M=S)\n",
        "\n",
        "assert jnp.allclose(loop_vs, vmap_vs), 'Vmap and non-vmapped Jacobian-Matrix products should be identical'"
      ],
      "metadata": {
        "colab": {
          "base_uri": "https://localhost:8080/"
        },
        "id": "ZJjncp-4kVJ1",
        "outputId": "d4339bd1-6cca-43fa-9de2-8860a2b75022"
      },
      "execution_count": 31,
      "outputs": [
        {
          "output_type": "stream",
          "name": "stdout",
          "text": [
            "Non-vmapped Jacobian-Matrix product\n",
            "164 ms ± 9.14 ms per loop (mean ± std. dev. of 3 runs, 10 loops each)\n",
            "\n",
            "Vmapped Jacobian-Matrix product\n",
            "1.89 ms ± 91.7 µs per loop (mean ± std. dev. of 3 runs, 10 loops each)\n"
          ]
        }
      ]
    },
    {
      "cell_type": "markdown",
      "source": [
        "### `jax.jaxfwd` and `jax.jacrev` implementation"
      ],
      "metadata": {
        "id": "uUCnWK7OkXb7"
      }
    },
    {
      "cell_type": "code",
      "source": [
        "from jax import jacrev as builtin_jacrev\n",
        "\n",
        "def our_jacrev(f):\n",
        "    def jacfun(x):\n",
        "        y, vjp_fun = vjp(f, x)\n",
        "        # Use vmap to do a matrix-Jacobian product.\n",
        "        # Here, the matrix is the Euclidean basis, so we get all\n",
        "        # entries in the Jacobian at once.\n",
        "        J, = vmap(vjp_fun, in_axes=0)(jnp.eye(len(y)))\n",
        "        return J\n",
        "    return jacfun\n",
        "\n",
        "assert jnp.allclose(builtin_jacrev(f)(W), our_jacrev(f)(W)), 'Incorrect reverse-mode Jacobian results!'"
      ],
      "metadata": {
        "id": "p8TcBCpikfeo"
      },
      "execution_count": 32,
      "outputs": []
    },
    {
      "cell_type": "code",
      "source": [
        "from jax import jacfwd as builtin_jacfwd\n",
        "\n",
        "def our_jacfwd(f):\n",
        "    def jacfun(x):\n",
        "        _jvp = lambda s: jvp(f, (x,), (s,))[1]\n",
        "        Jt = vmap(_jvp, in_axes=1)(jnp.eye(len(x)))\n",
        "        return jnp.transpose(Jt)\n",
        "    return jacfun\n",
        "\n",
        "assert jnp.allclose(builtin_jacfwd(f)(W), our_jacfwd(f)(W)), 'Incorrect forward-mode Jacobian results!'"
      ],
      "metadata": {
        "id": "aa6WVJhAkhiE"
      },
      "execution_count": 33,
      "outputs": []
    },
    {
      "cell_type": "code",
      "source": [
        "def f(x):\n",
        "    try:\n",
        "        if x < 3:\n",
        "            return 2 * x ** 3\n",
        "        else:\n",
        "            raise ValueError\n",
        "    except ValueError:\n",
        "        return jnp.pi * x\n",
        "\n",
        "y, f_vjp = vjp(f, 4.)\n",
        "print(jit(f_vjp)(1.))"
      ],
      "metadata": {
        "colab": {
          "base_uri": "https://localhost:8080/"
        },
        "id": "bt90ct56kh0x",
        "outputId": "4cd549df-e575-44f3-9d77-aa3d8d9168e0"
      },
      "execution_count": 34,
      "outputs": [
        {
          "output_type": "stream",
          "name": "stdout",
          "text": [
            "(Array(3.1415927, dtype=float32, weak_type=True),)\n"
          ]
        }
      ]
    },
    {
      "cell_type": "markdown",
      "source": [
        "## Complex numbers and differentiation"
      ],
      "metadata": {
        "id": "eXrN8kYkkj79"
      }
    },
    {
      "cell_type": "code",
      "source": [
        "def f(z):\n",
        "  x, y = jnp.real(z), jnp.imag(z)\n",
        "  return u(x, y) + v(x, y) * 1j\n",
        "\n",
        "def g(x, y):\n",
        "  return (u(x, y), v(x, y))"
      ],
      "metadata": {
        "id": "OCI2oYMgkpFz"
      },
      "execution_count": 35,
      "outputs": []
    },
    {
      "cell_type": "code",
      "source": [
        "def check(seed):\n",
        "  key = random.key(seed)\n",
        "\n",
        "  # random coeffs for u and v\n",
        "  key, subkey = random.split(key)\n",
        "  a, b, c, d = random.uniform(subkey, (4,))\n",
        "\n",
        "  def fun(z):\n",
        "    x, y = jnp.real(z), jnp.imag(z)\n",
        "    return u(x, y) + v(x, y) * 1j\n",
        "\n",
        "  def u(x, y):\n",
        "    return a * x + b * y\n",
        "\n",
        "  def v(x, y):\n",
        "    return c * x + d * y\n",
        "\n",
        "  # primal point\n",
        "  key, subkey = random.split(key)\n",
        "  x, y = random.uniform(subkey, (2,))\n",
        "  z = x + y * 1j\n",
        "\n",
        "  # tangent vector\n",
        "  key, subkey = random.split(key)\n",
        "  c, d = random.uniform(subkey, (2,))\n",
        "  z_dot = c + d * 1j\n",
        "\n",
        "  # check jvp\n",
        "  _, ans = jvp(fun, (z,), (z_dot,))\n",
        "  expected = (grad(u, 0)(x, y) * c +\n",
        "              grad(u, 1)(x, y) * d +\n",
        "              grad(v, 0)(x, y) * c * 1j+\n",
        "              grad(v, 1)(x, y) * d * 1j)\n",
        "  print(jnp.allclose(ans, expected))"
      ],
      "metadata": {
        "id": "ejdNPNXPkpea"
      },
      "execution_count": 36,
      "outputs": []
    },
    {
      "cell_type": "code",
      "source": [
        "def check(seed):\n",
        "  key = random.key(seed)\n",
        "\n",
        "  # random coeffs for u and v\n",
        "  key, subkey = random.split(key)\n",
        "  a, b, c, d = random.uniform(subkey, (4,))\n",
        "\n",
        "  def fun(z):\n",
        "    x, y = jnp.real(z), jnp.imag(z)\n",
        "    return u(x, y) + v(x, y) * 1j\n",
        "\n",
        "  def u(x, y):\n",
        "    return a * x + b * y\n",
        "\n",
        "  def v(x, y):\n",
        "    return c * x + d * y\n",
        "\n",
        "  # primal point\n",
        "  key, subkey = random.split(key)\n",
        "  x, y = random.uniform(subkey, (2,))\n",
        "  z = x + y * 1j\n",
        "\n",
        "  # cotangent vector\n",
        "  key, subkey = random.split(key)\n",
        "  c, d = random.uniform(subkey, (2,))\n",
        "  z_bar = jnp.array(c + d * 1j)  # for dtype control\n",
        "\n",
        "  # check vjp\n",
        "  _, fun_vjp = vjp(fun, z)\n",
        "  ans, = fun_vjp(z_bar)\n",
        "  expected = (grad(u, 0)(x, y) * c +\n",
        "              grad(v, 0)(x, y) * (-d) +\n",
        "              grad(u, 1)(x, y) * c * (-1j) +\n",
        "              grad(v, 1)(x, y) * (-d) * (-1j))\n",
        "  assert jnp.allclose(ans, expected, atol=1e-5, rtol=1e-5)"
      ],
      "metadata": {
        "id": "f8JPNF6sksgn"
      },
      "execution_count": 37,
      "outputs": []
    },
    {
      "cell_type": "code",
      "source": [
        "def f(z):\n",
        "  x, y = jnp.real(z), jnp.imag(z)\n",
        "  return x**2 + y**2\n",
        "\n",
        "z = 3. + 4j\n",
        "grad(f)(z)"
      ],
      "metadata": {
        "colab": {
          "base_uri": "https://localhost:8080/"
        },
        "id": "UgluYM3ekuae",
        "outputId": "ac1abfa5-5ceb-4ab9-ccba-7d36f23bf3b1"
      },
      "execution_count": 38,
      "outputs": [
        {
          "output_type": "execute_result",
          "data": {
            "text/plain": [
              "Array(6.-8.j, dtype=complex64)"
            ]
          },
          "metadata": {},
          "execution_count": 38
        }
      ]
    },
    {
      "cell_type": "code",
      "source": [
        "def f(z):\n",
        "  return jnp.sin(z)\n",
        "\n",
        "z = 3. + 4j\n",
        "grad(f, holomorphic=True)(z)"
      ],
      "metadata": {
        "colab": {
          "base_uri": "https://localhost:8080/"
        },
        "id": "odd8vaU0kvaJ",
        "outputId": "e7cc7697-febb-459c-dcea-f165291a19fb"
      },
      "execution_count": 39,
      "outputs": [
        {
          "output_type": "execute_result",
          "data": {
            "text/plain": [
              "Array(-27.034946-3.8511534j, dtype=complex64, weak_type=True)"
            ]
          },
          "metadata": {},
          "execution_count": 39
        }
      ]
    },
    {
      "cell_type": "code",
      "source": [
        "def f(z):\n",
        "  return jnp.conjugate(z)\n",
        "\n",
        "z = 3. + 4j\n",
        "grad(f, holomorphic=True)(z)  # f is not actually holomorphic!"
      ],
      "metadata": {
        "colab": {
          "base_uri": "https://localhost:8080/"
        },
        "id": "i9L_0gyjkwr7",
        "outputId": "c6e4b0c8-55e5-4389-9f92-85eca5c23425"
      },
      "execution_count": 40,
      "outputs": [
        {
          "output_type": "execute_result",
          "data": {
            "text/plain": [
              "Array(1.-0.j, dtype=complex64, weak_type=True)"
            ]
          },
          "metadata": {},
          "execution_count": 40
        }
      ]
    },
    {
      "cell_type": "code",
      "source": [
        "A = jnp.array([[5.,    2.+3j,    5j],\n",
        "              [2.-3j,   7.,  1.+7j],\n",
        "              [-5j,  1.-7j,    12.]])\n",
        "\n",
        "def f(X):\n",
        "    L = jnp.linalg.cholesky(X)\n",
        "    return jnp.sum((L - jnp.sin(L))**2)\n",
        "\n",
        "grad(f, holomorphic=True)(A)"
      ],
      "metadata": {
        "colab": {
          "base_uri": "https://localhost:8080/"
        },
        "id": "P2S6_fffkx4P",
        "outputId": "8a6c859d-2a60-412a-95b0-a0165524083a"
      },
      "execution_count": 41,
      "outputs": [
        {
          "output_type": "execute_result",
          "data": {
            "text/plain": [
              "Array([[-0.75341904 +0.j       , -3.0509028 -10.940545j ,\n",
              "         5.9896846  +3.5423026j],\n",
              "       [-3.0509028 +10.940545j , -8.904491   +0.j       ,\n",
              "        -5.1351523  -6.559373j ],\n",
              "       [ 5.9896846  -3.5423026j, -5.1351523  +6.559373j ,\n",
              "         0.01320427 +0.j       ]], dtype=complex64)"
            ]
          },
          "metadata": {},
          "execution_count": 41
        }
      ]
    },
    {
      "cell_type": "markdown",
      "source": [
        "## Custom-derivative rules"
      ],
      "metadata": {
        "id": "5gzRoIXZkzdT"
      }
    },
    {
      "cell_type": "markdown",
      "source": [
        "### Custom JVP's"
      ],
      "metadata": {
        "id": "NPirCxoak8M7"
      }
    },
    {
      "cell_type": "code",
      "source": [
        "from jax import custom_jvp\n",
        "\n",
        "@custom_jvp\n",
        "def f(x, y):\n",
        "  return jnp.sin(x) * y\n",
        "\n",
        "@f.defjvp\n",
        "def f_jvp(primals, tangents):\n",
        "  x, y = primals\n",
        "  x_dot, y_dot = tangents\n",
        "  primal_out = f(x, y)\n",
        "  tangent_out = jnp.cos(x) * x_dot * y + jnp.sin(x) * y_dot\n",
        "  return primal_out, tangent_out"
      ],
      "metadata": {
        "id": "dPH-ocPak_H8"
      },
      "execution_count": 43,
      "outputs": []
    },
    {
      "cell_type": "code",
      "source": [
        "print(f(2., 3.))\n",
        "y, y_dot = jvp(f, (2., 3.), (1., 0.))\n",
        "print(y)\n",
        "print(y_dot)\n",
        "print(grad(f)(2., 3.))"
      ],
      "metadata": {
        "colab": {
          "base_uri": "https://localhost:8080/"
        },
        "id": "BQ8acEhKlCBm",
        "outputId": "f8bbf667-b125-444f-a938-a56a4151311f"
      },
      "execution_count": 44,
      "outputs": [
        {
          "output_type": "stream",
          "name": "stdout",
          "text": [
            "2.7278922\n",
            "2.7278922\n",
            "-1.2484405\n",
            "-1.2484405\n"
          ]
        }
      ]
    },
    {
      "cell_type": "code",
      "source": [
        "# Equivalent alternative using the `defjvps` convenience wrapper\n",
        "\n",
        "@custom_jvp\n",
        "def f(x, y):\n",
        "  return jnp.sin(x) * y\n",
        "\n",
        "f.defjvps(lambda x_dot, primal_out, x, y: jnp.cos(x) * x_dot * y,\n",
        "          lambda y_dot, primal_out, x, y: jnp.sin(x) * y_dot)"
      ],
      "metadata": {
        "id": "q7esBEHslDHt"
      },
      "execution_count": 45,
      "outputs": []
    },
    {
      "cell_type": "code",
      "source": [
        "print(f(2., 3.))\n",
        "y, y_dot = jvp(f, (2., 3.), (1., 0.))\n",
        "print(y)\n",
        "print(y_dot)\n",
        "print(grad(f)(2., 3.))"
      ],
      "metadata": {
        "colab": {
          "base_uri": "https://localhost:8080/"
        },
        "id": "oWSFyePFlE5-",
        "outputId": "5e4d4805-0036-42b9-ab26-a2945ba6764c"
      },
      "execution_count": 46,
      "outputs": [
        {
          "output_type": "stream",
          "name": "stdout",
          "text": [
            "2.7278922\n",
            "2.7278922\n",
            "-1.2484405\n",
            "-1.2484405\n"
          ]
        }
      ]
    },
    {
      "cell_type": "markdown",
      "source": [
        "### Custom VJP's"
      ],
      "metadata": {
        "id": "Oat37jcqlGR0"
      }
    },
    {
      "cell_type": "code",
      "source": [
        "from jax import custom_vjp\n",
        "\n",
        "@custom_vjp\n",
        "def f(x, y):\n",
        "  return jnp.sin(x) * y\n",
        "\n",
        "def f_fwd(x, y):\n",
        "# Returns primal output and residuals to be used in backward pass by `f_bwd`.\n",
        "  return f(x, y), (jnp.cos(x), jnp.sin(x), y)\n",
        "\n",
        "def f_bwd(res, g):\n",
        "  cos_x, sin_x, y = res # Gets residuals computed in `f_fwd`\n",
        "  return (cos_x * g * y, sin_x * g)\n",
        "\n",
        "f.defvjp(f_fwd, f_bwd)"
      ],
      "metadata": {
        "id": "INy_gVA6lK8p"
      },
      "execution_count": 47,
      "outputs": []
    },
    {
      "cell_type": "code",
      "source": [
        "print(grad(f)(2., 3.))"
      ],
      "metadata": {
        "colab": {
          "base_uri": "https://localhost:8080/"
        },
        "id": "qZkcBdLjlLNb",
        "outputId": "02de18d8-8ab2-4ba0-a37f-948970317da1"
      },
      "execution_count": 48,
      "outputs": [
        {
          "output_type": "stream",
          "name": "stdout",
          "text": [
            "-1.2484405\n"
          ]
        }
      ]
    },
    {
      "cell_type": "code",
      "source": [],
      "metadata": {
        "id": "TbnJPWzWlMf_"
      },
      "execution_count": null,
      "outputs": []
    }
  ]
}