{
  "nbformat": 4,
  "nbformat_minor": 0,
  "metadata": {
    "colab": {
      "provenance": []
    },
    "kernelspec": {
      "name": "python3",
      "display_name": "Python 3"
    },
    "language_info": {
      "name": "python"
    }
  },
  "cells": [
    {
      "cell_type": "markdown",
      "source": [
        "# Debugging"
      ],
      "metadata": {
        "id": "iNjAVwMjUOLH"
      }
    },
    {
      "cell_type": "markdown",
      "source": [
        "## `jax.debug.print`"
      ],
      "metadata": {
        "id": "MjoJsImrUj5n"
      }
    },
    {
      "cell_type": "code",
      "source": [
        "import jax\n",
        "import jax.numpy as jnp\n",
        "\n",
        "@jax.jit\n",
        "def f(x):\n",
        "  print(\"print(x) ->\", x)\n",
        "  y = jnp.sin(x)\n",
        "  print(\"print(y) ->\", y)\n",
        "  return y\n",
        "\n",
        "result = f(2.)"
      ],
      "metadata": {
        "colab": {
          "base_uri": "https://localhost:8080/"
        },
        "id": "RgfaxLkIUaPK",
        "outputId": "82ccc156-4a33-47fd-98a6-9d861187c64b"
      },
      "execution_count": 1,
      "outputs": [
        {
          "output_type": "stream",
          "name": "stdout",
          "text": [
            "print(x) -> Traced<ShapedArray(float32[], weak_type=True)>with<DynamicJaxprTrace(level=1/0)>\n",
            "print(y) -> Traced<ShapedArray(float32[], weak_type=True)>with<DynamicJaxprTrace(level=1/0)>\n"
          ]
        }
      ]
    },
    {
      "cell_type": "code",
      "source": [
        "@jax.jit\n",
        "def f(x):\n",
        "  jax.debug.print(\"jax.debug.print(x) -> {x}\", x=x)\n",
        "  y = jnp.sin(x)\n",
        "  jax.debug.print(\"jax.debug.print(y) -> {y}\", y=y)\n",
        "  return y\n",
        "\n",
        "result = f(2.)"
      ],
      "metadata": {
        "colab": {
          "base_uri": "https://localhost:8080/"
        },
        "id": "Z51tCNvwUsF9",
        "outputId": "360b62b5-9dae-45c9-94b5-6ea1bf3d48f2"
      },
      "execution_count": 2,
      "outputs": [
        {
          "output_type": "stream",
          "name": "stdout",
          "text": [
            "jax.debug.print(x) -> 2.0\n",
            "jax.debug.print(y) -> 0.9092974066734314\n"
          ]
        }
      ]
    },
    {
      "cell_type": "code",
      "source": [
        "def f(x):\n",
        "  jax.debug.print(\"jax.debug.print(x) -> {}\", x)\n",
        "  y = jnp.sin(x)\n",
        "  jax.debug.print(\"jax.debug.print(y) -> {}\", y)\n",
        "  return y\n",
        "\n",
        "xs = jnp.arange(3.)\n",
        "\n",
        "result = jax.vmap(f)(xs)"
      ],
      "metadata": {
        "colab": {
          "base_uri": "https://localhost:8080/"
        },
        "id": "5AhRwBGNUsYi",
        "outputId": "ada92d4f-f725-4664-d964-91fe71b9859b"
      },
      "execution_count": 3,
      "outputs": [
        {
          "output_type": "stream",
          "name": "stdout",
          "text": [
            "jax.debug.print(x) -> 0.0\n",
            "jax.debug.print(x) -> 1.0\n",
            "jax.debug.print(x) -> 2.0\n",
            "jax.debug.print(y) -> 0.0\n",
            "jax.debug.print(y) -> 0.8414709568023682\n",
            "jax.debug.print(y) -> 0.9092974066734314\n"
          ]
        }
      ]
    },
    {
      "cell_type": "code",
      "source": [
        "result = jax.lax.map(f, xs)"
      ],
      "metadata": {
        "colab": {
          "base_uri": "https://localhost:8080/"
        },
        "id": "MYsapJNNUx3v",
        "outputId": "20e1521f-1829-4abe-fb00-6f64e466789f"
      },
      "execution_count": 4,
      "outputs": [
        {
          "output_type": "stream",
          "name": "stdout",
          "text": [
            "jax.debug.print(x) -> 0.0\n",
            "jax.debug.print(y) -> 0.0\n",
            "jax.debug.print(x) -> 1.0\n",
            "jax.debug.print(y) -> 0.8414709568023682\n",
            "jax.debug.print(x) -> 2.0\n",
            "jax.debug.print(y) -> 0.9092974066734314\n"
          ]
        }
      ]
    },
    {
      "cell_type": "code",
      "source": [
        "def f(x):\n",
        "  jax.debug.print(\"jax.debug.print(x) -> {}\", x)\n",
        "  return x ** 2\n",
        "\n",
        "result = jax.grad(f)(1.)"
      ],
      "metadata": {
        "colab": {
          "base_uri": "https://localhost:8080/"
        },
        "id": "v59qAwjoUzwo",
        "outputId": "61ed0e73-a0ea-4ceb-af15-df8183c5e9bc"
      },
      "execution_count": 5,
      "outputs": [
        {
          "output_type": "stream",
          "name": "stdout",
          "text": [
            "jax.debug.print(x) -> 1.0\n"
          ]
        }
      ]
    },
    {
      "cell_type": "code",
      "source": [
        "@jax.jit\n",
        "def f(x, y):\n",
        "  jax.debug.print(\"jax.debug.print(x) -> {}\", x, ordered=True)\n",
        "  jax.debug.print(\"jax.debug.print(y) -> {}\", y, ordered=True)\n",
        "  return x + y\n",
        "\n",
        "f(1, 2)"
      ],
      "metadata": {
        "colab": {
          "base_uri": "https://localhost:8080/"
        },
        "id": "ciNsVDSRU1Va",
        "outputId": "336de004-214a-4fd8-dee1-e76a7b5cfb61"
      },
      "execution_count": 6,
      "outputs": [
        {
          "output_type": "stream",
          "name": "stdout",
          "text": [
            "jax.debug.print(x) -> 1\n",
            "jax.debug.print(y) -> 2\n"
          ]
        },
        {
          "output_type": "execute_result",
          "data": {
            "text/plain": [
              "Array(3, dtype=int32, weak_type=True)"
            ]
          },
          "metadata": {},
          "execution_count": 6
        }
      ]
    },
    {
      "cell_type": "markdown",
      "source": [
        "## `jax.debug.breakpoint`"
      ],
      "metadata": {
        "id": "-aaBliUTU4vX"
      }
    },
    {
      "cell_type": "code",
      "source": [
        "@jax.jit\n",
        "def f(x):\n",
        "  y, z = jnp.sin(x), jnp.cos(x)\n",
        "  jax.debug.breakpoint()\n",
        "  return y * z\n",
        "f(2.) # ==> Pauses during execution"
      ],
      "metadata": {
        "colab": {
          "base_uri": "https://localhost:8080/",
          "height": 1000
        },
        "id": "X91EOHK4VB5G",
        "outputId": "c81b447f-5dc9-4ef5-e82e-34450b818a71"
      },
      "execution_count": 7,
      "outputs": [
        {
          "output_type": "display_data",
          "data": {
            "text/plain": [
              "<IPython.core.display.HTML object>"
            ],
            "text/html": [
              "<div id=\"tag-7d7cf153-aba9-4d82-99d2-46d7e1cff62f\"></div>"
            ]
          },
          "metadata": {}
        },
        {
          "output_type": "display_data",
          "data": {
            "text/plain": [
              "<IPython.core.display.Javascript object>"
            ],
            "application/javascript": [
              "window[\"3a3d9d08-e881-11ef-a5cb-0242ac1c000c\"] = google.colab.output.getActiveOutputArea();\n",
              "//# sourceURL=js_bcad344a30"
            ]
          },
          "metadata": {}
        },
        {
          "output_type": "display_data",
          "data": {
            "text/plain": [
              "<IPython.core.display.Javascript object>"
            ],
            "application/javascript": [
              "window[\"3a3dfd02-e881-11ef-a5cb-0242ac1c000c\"] = document.querySelector(\"#tag-7d7cf153-aba9-4d82-99d2-46d7e1cff62f\");\n",
              "//# sourceURL=js_4915ff74f7"
            ]
          },
          "metadata": {}
        },
        {
          "output_type": "display_data",
          "data": {
            "text/plain": [
              "<IPython.core.display.Javascript object>"
            ],
            "application/javascript": [
              "window[\"3a3eb99a-e881-11ef-a5cb-0242ac1c000c\"] = google.colab.output.setActiveOutputArea(window[\"3a3dfd02-e881-11ef-a5cb-0242ac1c000c\"]);\n",
              "//# sourceURL=js_e83251c0d3"
            ]
          },
          "metadata": {}
        },
        {
          "output_type": "display_data",
          "data": {
            "text/plain": [
              "<IPython.core.display.HTML object>"
            ],
            "text/html": [
              "<div style=\"background-color: var(--colab-secondary-surface-color); color: var(--colab-primary-text-color); padding: 5px 5px 5px 5px; font-weight: bold;\"><span>Breakpoint</span></div>"
            ]
          },
          "metadata": {}
        },
        {
          "output_type": "display_data",
          "data": {
            "text/plain": [
              "<IPython.core.display.Javascript object>"
            ],
            "application/javascript": [
              "window[\"3a400d72-e881-11ef-a5cb-0242ac1c000c\"] = google.colab.output.setActiveOutputArea(window[\"3a3d9d08-e881-11ef-a5cb-0242ac1c000c\"]);\n",
              "//# sourceURL=js_126e8088ae"
            ]
          },
          "metadata": {}
        },
        {
          "output_type": "display_data",
          "data": {
            "text/plain": [
              "<IPython.core.display.HTML object>"
            ],
            "text/html": [
              "<div id=\"tag-0eb34a86-053f-4c78-9fe9-32d15a0bee89\"></div>"
            ]
          },
          "metadata": {}
        },
        {
          "output_type": "display_data",
          "data": {
            "text/plain": [
              "<IPython.core.display.Javascript object>"
            ],
            "application/javascript": [
              "window[\"3a44d884-e881-11ef-a5cb-0242ac1c000c\"] = google.colab.output.getActiveOutputArea();\n",
              "//# sourceURL=js_414878143a"
            ]
          },
          "metadata": {}
        },
        {
          "output_type": "display_data",
          "data": {
            "text/plain": [
              "<IPython.core.display.Javascript object>"
            ],
            "application/javascript": [
              "window[\"3a456f4c-e881-11ef-a5cb-0242ac1c000c\"] = document.querySelector(\"#tag-0eb34a86-053f-4c78-9fe9-32d15a0bee89\");\n",
              "//# sourceURL=js_10e890fce1"
            ]
          },
          "metadata": {}
        },
        {
          "output_type": "display_data",
          "data": {
            "text/plain": [
              "<IPython.core.display.Javascript object>"
            ],
            "application/javascript": [
              "window[\"3a460416-e881-11ef-a5cb-0242ac1c000c\"] = google.colab.output.setActiveOutputArea(window[\"3a456f4c-e881-11ef-a5cb-0242ac1c000c\"]);\n",
              "//# sourceURL=js_73506eece3"
            ]
          },
          "metadata": {}
        },
        {
          "output_type": "display_data",
          "data": {
            "text/plain": [
              "<IPython.core.display.HTML object>"
            ],
            "text/html": [
              "<div style=\"padding: 5px 5px 5px 5px; background-color: var(--colab-highlighted-surface-color);\"><pre><code>&lt;ipython-input-7-b76dadd3a5a6&gt;(4)</code></pre></div>"
            ]
          },
          "metadata": {}
        },
        {
          "output_type": "display_data",
          "data": {
            "text/plain": [
              "<IPython.core.display.Javascript object>"
            ],
            "application/javascript": [
              "window[\"3a4796a0-e881-11ef-a5cb-0242ac1c000c\"] = google.colab.output.setActiveOutputArea(window[\"3a44d884-e881-11ef-a5cb-0242ac1c000c\"]);\n",
              "//# sourceURL=js_f9cd298f9d"
            ]
          },
          "metadata": {}
        },
        {
          "output_type": "display_data",
          "data": {
            "text/plain": [
              "<IPython.core.display.HTML object>"
            ],
            "text/html": [
              "<div id=\"tag-7f049aab-591d-4161-9e94-79a058120ead\"></div>"
            ]
          },
          "metadata": {}
        },
        {
          "output_type": "display_data",
          "data": {
            "text/plain": [
              "<IPython.core.display.Javascript object>"
            ],
            "application/javascript": [
              "window[\"3ab0cfb2-e881-11ef-a5cb-0242ac1c000c\"] = google.colab.output.getActiveOutputArea();\n",
              "//# sourceURL=js_0f92634ef7"
            ]
          },
          "metadata": {}
        },
        {
          "output_type": "display_data",
          "data": {
            "text/plain": [
              "<IPython.core.display.Javascript object>"
            ],
            "application/javascript": [
              "window[\"3ab1361e-e881-11ef-a5cb-0242ac1c000c\"] = document.querySelector(\"#tag-7f049aab-591d-4161-9e94-79a058120ead\");\n",
              "//# sourceURL=js_f76b1e50a3"
            ]
          },
          "metadata": {}
        },
        {
          "output_type": "display_data",
          "data": {
            "text/plain": [
              "<IPython.core.display.Javascript object>"
            ],
            "application/javascript": [
              "window[\"3ab1a3f6-e881-11ef-a5cb-0242ac1c000c\"] = google.colab.output.setActiveOutputArea(window[\"3ab1361e-e881-11ef-a5cb-0242ac1c000c\"]);\n",
              "//# sourceURL=js_9610c00f93"
            ]
          },
          "metadata": {}
        },
        {
          "output_type": "display_data",
          "data": {
            "text/plain": [
              "<IPython.core.display.HTML object>"
            ],
            "text/html": [
              "<div id=\"code-08f2eee7-fb0f-44e3-a876-f6a72d012f29\" style=\"max-height: 500px; overflow-y: scroll; background-color: var(--colab-border-color); padding: 5px 5px 5px 5px;\"><style>pre { line-height: 125%; }\n",
              "td.linenos .normal { color: inherit; background-color: transparent; padding-left: 5px; padding-right: 5px; }\n",
              "span.linenos { color: inherit; background-color: transparent; padding-left: 5px; padding-right: 5px; }\n",
              "td.linenos .special { color: #000000; background-color: #ffffc0; padding-left: 5px; padding-right: 5px; }\n",
              "span.linenos.special { color: #000000; background-color: #ffffc0; padding-left: 5px; padding-right: 5px; }\n",
              ".hll { background-color: #fff7c1 }\n",
              ".c { color: #3D7B7B; font-style: italic } /* Comment */\n",
              ".err { border: 1px solid #FF0000 } /* Error */\n",
              ".k { color: #008000; font-weight: bold } /* Keyword */\n",
              ".o { color: #666666 } /* Operator */\n",
              ".ch { color: #3D7B7B; font-style: italic } /* Comment.Hashbang */\n",
              ".cm { color: #3D7B7B; font-style: italic } /* Comment.Multiline */\n",
              ".cp { color: #9C6500 } /* Comment.Preproc */\n",
              ".cpf { color: #3D7B7B; font-style: italic } /* Comment.PreprocFile */\n",
              ".c1 { color: #3D7B7B; font-style: italic } /* Comment.Single */\n",
              ".cs { color: #3D7B7B; font-style: italic } /* Comment.Special */\n",
              ".gd { color: #A00000 } /* Generic.Deleted */\n",
              ".ge { font-style: italic } /* Generic.Emph */\n",
              ".ges { font-weight: bold; font-style: italic } /* Generic.EmphStrong */\n",
              ".gr { color: #E40000 } /* Generic.Error */\n",
              ".gh { color: #000080; font-weight: bold } /* Generic.Heading */\n",
              ".gi { color: #008400 } /* Generic.Inserted */\n",
              ".go { color: #717171 } /* Generic.Output */\n",
              ".gp { color: #000080; font-weight: bold } /* Generic.Prompt */\n",
              ".gs { font-weight: bold } /* Generic.Strong */\n",
              ".gu { color: #800080; font-weight: bold } /* Generic.Subheading */\n",
              ".gt { color: #0044DD } /* Generic.Traceback */\n",
              ".kc { color: #008000; font-weight: bold } /* Keyword.Constant */\n",
              ".kd { color: #008000; font-weight: bold } /* Keyword.Declaration */\n",
              ".kn { color: #008000; font-weight: bold } /* Keyword.Namespace */\n",
              ".kp { color: #008000 } /* Keyword.Pseudo */\n",
              ".kr { color: #008000; font-weight: bold } /* Keyword.Reserved */\n",
              ".kt { color: #B00040 } /* Keyword.Type */\n",
              ".m { color: #666666 } /* Literal.Number */\n",
              ".s { color: #BA2121 } /* Literal.String */\n",
              ".na { color: #687822 } /* Name.Attribute */\n",
              ".nb { color: #008000 } /* Name.Builtin */\n",
              ".nc { color: #0000FF; font-weight: bold } /* Name.Class */\n",
              ".no { color: #880000 } /* Name.Constant */\n",
              ".nd { color: #AA22FF } /* Name.Decorator */\n",
              ".ni { color: #717171; font-weight: bold } /* Name.Entity */\n",
              ".ne { color: #CB3F38; font-weight: bold } /* Name.Exception */\n",
              ".nf { color: #0000FF } /* Name.Function */\n",
              ".nl { color: #767600 } /* Name.Label */\n",
              ".nn { color: #0000FF; font-weight: bold } /* Name.Namespace */\n",
              ".nt { color: #008000; font-weight: bold } /* Name.Tag */\n",
              ".nv { color: #19177C } /* Name.Variable */\n",
              ".ow { color: #AA22FF; font-weight: bold } /* Operator.Word */\n",
              ".w { color: #bbbbbb } /* Text.Whitespace */\n",
              ".mb { color: #666666 } /* Literal.Number.Bin */\n",
              ".mf { color: #666666 } /* Literal.Number.Float */\n",
              ".mh { color: #666666 } /* Literal.Number.Hex */\n",
              ".mi { color: #666666 } /* Literal.Number.Integer */\n",
              ".mo { color: #666666 } /* Literal.Number.Oct */\n",
              ".sa { color: #BA2121 } /* Literal.String.Affix */\n",
              ".sb { color: #BA2121 } /* Literal.String.Backtick */\n",
              ".sc { color: #BA2121 } /* Literal.String.Char */\n",
              ".dl { color: #BA2121 } /* Literal.String.Delimiter */\n",
              ".sd { color: #BA2121; font-style: italic } /* Literal.String.Doc */\n",
              ".s2 { color: #BA2121 } /* Literal.String.Double */\n",
              ".se { color: #AA5D1F; font-weight: bold } /* Literal.String.Escape */\n",
              ".sh { color: #BA2121 } /* Literal.String.Heredoc */\n",
              ".si { color: #A45A77; font-weight: bold } /* Literal.String.Interpol */\n",
              ".sx { color: #008000 } /* Literal.String.Other */\n",
              ".sr { color: #A45A77 } /* Literal.String.Regex */\n",
              ".s1 { color: #BA2121 } /* Literal.String.Single */\n",
              ".ss { color: #19177C } /* Literal.String.Symbol */\n",
              ".bp { color: #008000 } /* Name.Builtin.Pseudo */\n",
              ".fm { color: #0000FF } /* Name.Function.Magic */\n",
              ".vc { color: #19177C } /* Name.Variable.Class */\n",
              ".vg { color: #19177C } /* Name.Variable.Global */\n",
              ".vi { color: #19177C } /* Name.Variable.Instance */\n",
              ".vm { color: #19177C } /* Name.Variable.Magic */\n",
              ".il { color: #666666 } /* Literal.Number.Integer.Long */</style>\n",
              "<div class=\"highlight\"><table class=\"highlighttable\"><tr><td class=\"linenos\"><div class=\"linenodiv\"><pre><span class=\"normal\">1</span>\n",
              "<span class=\"normal\">2</span>\n",
              "<span class=\"normal\">3</span>\n",
              "<span class=\"normal\">4</span>\n",
              "<span class=\"normal\">5</span></pre></div></td><td class=\"code\"><div><pre><span></span><span class=\"nd\">@jax</span><span class=\"o\">.</span><span class=\"n\">jit</span>\n",
              "<span class=\"k\">def</span> <span class=\"nf\">f</span><span class=\"p\">(</span><span class=\"n\">x</span><span class=\"p\">):</span>\n",
              "  <span class=\"n\">y</span><span class=\"p\">,</span> <span class=\"n\">z</span> <span class=\"o\">=</span> <span class=\"n\">jnp</span><span class=\"o\">.</span><span class=\"n\">sin</span><span class=\"p\">(</span><span class=\"n\">x</span><span class=\"p\">),</span> <span class=\"n\">jnp</span><span class=\"o\">.</span><span class=\"n\">cos</span><span class=\"p\">(</span><span class=\"n\">x</span><span class=\"p\">)</span>\n",
              "<span class=\"hll\">  <span class=\"n\">jax</span><span class=\"o\">.</span><span class=\"n\">debug</span><span class=\"o\">.</span><span class=\"n\">breakpoint</span><span class=\"p\">()</span>\n",
              "</span>  <span class=\"k\">return</span> <span class=\"n\">y</span> <span class=\"o\">*</span> <span class=\"n\">z</span>\n",
              "</pre></div></td></tr></table></div>\n",
              "</div>"
            ]
          },
          "metadata": {}
        },
        {
          "output_type": "display_data",
          "data": {
            "text/plain": [
              "<IPython.core.display.Javascript object>"
            ],
            "application/javascript": [
              "window[\"3ab2676e-e881-11ef-a5cb-0242ac1c000c\"] = google.colab.output.setActiveOutputArea(window[\"3ab0cfb2-e881-11ef-a5cb-0242ac1c000c\"]);\n",
              "//# sourceURL=js_ce6547c718"
            ]
          },
          "metadata": {}
        },
        {
          "output_type": "display_data",
          "data": {
            "text/plain": [
              "<IPython.core.display.HTML object>"
            ],
            "text/html": [
              "<div id=\"tag-2970f893-86cd-4ba2-ac37-0a2fcfdfca37\"></div>"
            ]
          },
          "metadata": {}
        },
        {
          "output_type": "display_data",
          "data": {
            "text/plain": [
              "<IPython.core.display.Javascript object>"
            ],
            "application/javascript": [
              "window[\"3ad2d4d6-e881-11ef-a5cb-0242ac1c000c\"] = google.colab.output.getActiveOutputArea();\n",
              "//# sourceURL=js_021152dc88"
            ]
          },
          "metadata": {}
        },
        {
          "output_type": "display_data",
          "data": {
            "text/plain": [
              "<IPython.core.display.Javascript object>"
            ],
            "application/javascript": [
              "window[\"3ad32fb2-e881-11ef-a5cb-0242ac1c000c\"] = document.querySelector(\"#tag-2970f893-86cd-4ba2-ac37-0a2fcfdfca37\");\n",
              "//# sourceURL=js_4483b2dfd8"
            ]
          },
          "metadata": {}
        },
        {
          "output_type": "display_data",
          "data": {
            "text/plain": [
              "<IPython.core.display.Javascript object>"
            ],
            "application/javascript": [
              "window[\"3ad38570-e881-11ef-a5cb-0242ac1c000c\"] = google.colab.output.setActiveOutputArea(window[\"3ad32fb2-e881-11ef-a5cb-0242ac1c000c\"]);\n",
              "//# sourceURL=js_d6f7e6dadf"
            ]
          },
          "metadata": {}
        },
        {
          "output_type": "display_data",
          "data": {
            "text/plain": [
              "<IPython.core.display.HTML object>"
            ],
            "text/html": [
              "<div></div>"
            ]
          },
          "metadata": {}
        },
        {
          "output_type": "display_data",
          "data": {
            "text/plain": [
              "<IPython.core.display.Javascript object>"
            ],
            "application/javascript": [
              "window[\"3ad4285e-e881-11ef-a5cb-0242ac1c000c\"] = google.colab.output.setActiveOutputArea(window[\"3ad2d4d6-e881-11ef-a5cb-0242ac1c000c\"]);\n",
              "//# sourceURL=js_9b6b73363b"
            ]
          },
          "metadata": {}
        },
        {
          "output_type": "display_data",
          "data": {
            "text/plain": [
              "<IPython.core.display.Javascript object>"
            ],
            "application/javascript": [
              "window[\"3ad71898-e881-11ef-a5cb-0242ac1c000c\"] = google.colab.output.getActiveOutputArea();\n",
              "//# sourceURL=js_d2790cd065"
            ]
          },
          "metadata": {}
        },
        {
          "output_type": "display_data",
          "data": {
            "text/plain": [
              "<IPython.core.display.Javascript object>"
            ],
            "application/javascript": [
              "window[\"3ad78bf2-e881-11ef-a5cb-0242ac1c000c\"] = document.querySelector(\"#tag-2970f893-86cd-4ba2-ac37-0a2fcfdfca37\");\n",
              "//# sourceURL=js_48423c9a61"
            ]
          },
          "metadata": {}
        },
        {
          "output_type": "display_data",
          "data": {
            "text/plain": [
              "<IPython.core.display.Javascript object>"
            ],
            "application/javascript": [
              "window[\"3ad7e516-e881-11ef-a5cb-0242ac1c000c\"] = google.colab.output.setActiveOutputArea(window[\"3ad78bf2-e881-11ef-a5cb-0242ac1c000c\"]);\n",
              "//# sourceURL=js_56be58529e"
            ]
          },
          "metadata": {}
        },
        {
          "output_type": "display_data",
          "data": {
            "text/plain": [
              "<IPython.core.display.HTML object>"
            ],
            "text/html": [
              "<pre>Entering jdb:\n",
              "</pre>"
            ]
          },
          "metadata": {}
        },
        {
          "output_type": "display_data",
          "data": {
            "text/plain": [
              "<IPython.core.display.Javascript object>"
            ],
            "application/javascript": [
              "window[\"3ad8a55a-e881-11ef-a5cb-0242ac1c000c\"] = google.colab.output.setActiveOutputArea(window[\"3ad71898-e881-11ef-a5cb-0242ac1c000c\"]);\n",
              "//# sourceURL=js_e6574bf556"
            ]
          },
          "metadata": {}
        },
        {
          "name": "stdout",
          "output_type": "stream",
          "text": [
            "(jdb) help\n"
          ]
        },
        {
          "output_type": "display_data",
          "data": {
            "text/plain": [
              "<IPython.core.display.Javascript object>"
            ],
            "application/javascript": [
              "window[\"457ef14e-e881-11ef-a5cb-0242ac1c000c\"] = google.colab.output.getActiveOutputArea();\n",
              "//# sourceURL=js_8e4a92d154"
            ]
          },
          "metadata": {}
        },
        {
          "output_type": "display_data",
          "data": {
            "text/plain": [
              "<IPython.core.display.Javascript object>"
            ],
            "application/javascript": [
              "window[\"457f5a1c-e881-11ef-a5cb-0242ac1c000c\"] = document.querySelector(\"#tag-2970f893-86cd-4ba2-ac37-0a2fcfdfca37\");\n",
              "//# sourceURL=js_ff39093889"
            ]
          },
          "metadata": {}
        },
        {
          "output_type": "display_data",
          "data": {
            "text/plain": [
              "<IPython.core.display.Javascript object>"
            ],
            "application/javascript": [
              "window[\"457fb19c-e881-11ef-a5cb-0242ac1c000c\"] = google.colab.output.setActiveOutputArea(window[\"457f5a1c-e881-11ef-a5cb-0242ac1c000c\"]);\n",
              "//# sourceURL=js_4020bf592d"
            ]
          },
          "metadata": {}
        },
        {
          "output_type": "display_data",
          "data": {
            "text/plain": [
              "<IPython.core.display.HTML object>"
            ],
            "text/html": [
              "<pre>\n",
              "</pre>"
            ]
          },
          "metadata": {}
        },
        {
          "output_type": "display_data",
          "data": {
            "text/plain": [
              "<IPython.core.display.Javascript object>"
            ],
            "application/javascript": [
              "window[\"45804c6a-e881-11ef-a5cb-0242ac1c000c\"] = google.colab.output.setActiveOutputArea(window[\"457ef14e-e881-11ef-a5cb-0242ac1c000c\"]);\n",
              "//# sourceURL=js_5a6272d715"
            ]
          },
          "metadata": {}
        },
        {
          "output_type": "display_data",
          "data": {
            "text/plain": [
              "<IPython.core.display.Javascript object>"
            ],
            "application/javascript": [
              "window[\"45817194-e881-11ef-a5cb-0242ac1c000c\"] = google.colab.output.getActiveOutputArea();\n",
              "//# sourceURL=js_33429e44ce"
            ]
          },
          "metadata": {}
        },
        {
          "output_type": "display_data",
          "data": {
            "text/plain": [
              "<IPython.core.display.Javascript object>"
            ],
            "application/javascript": [
              "window[\"4581ca5e-e881-11ef-a5cb-0242ac1c000c\"] = document.querySelector(\"#tag-2970f893-86cd-4ba2-ac37-0a2fcfdfca37\");\n",
              "//# sourceURL=js_b89b1711f2"
            ]
          },
          "metadata": {}
        },
        {
          "output_type": "display_data",
          "data": {
            "text/plain": [
              "<IPython.core.display.Javascript object>"
            ],
            "application/javascript": [
              "window[\"458222b0-e881-11ef-a5cb-0242ac1c000c\"] = google.colab.output.setActiveOutputArea(window[\"4581ca5e-e881-11ef-a5cb-0242ac1c000c\"]);\n",
              "//# sourceURL=js_f83a52f781"
            ]
          },
          "metadata": {}
        },
        {
          "output_type": "display_data",
          "data": {
            "text/plain": [
              "<IPython.core.display.HTML object>"
            ],
            "text/html": [
              "<pre>Documented commands (type help <topic>):\n",
              "</pre>"
            ]
          },
          "metadata": {}
        },
        {
          "output_type": "display_data",
          "data": {
            "text/plain": [
              "<IPython.core.display.Javascript object>"
            ],
            "application/javascript": [
              "window[\"4582c5f8-e881-11ef-a5cb-0242ac1c000c\"] = google.colab.output.setActiveOutputArea(window[\"45817194-e881-11ef-a5cb-0242ac1c000c\"]);\n",
              "//# sourceURL=js_872ca0e4a1"
            ]
          },
          "metadata": {}
        },
        {
          "output_type": "display_data",
          "data": {
            "text/plain": [
              "<IPython.core.display.Javascript object>"
            ],
            "application/javascript": [
              "window[\"4583eaaa-e881-11ef-a5cb-0242ac1c000c\"] = google.colab.output.getActiveOutputArea();\n",
              "//# sourceURL=js_1ec6dce55d"
            ]
          },
          "metadata": {}
        },
        {
          "output_type": "display_data",
          "data": {
            "text/plain": [
              "<IPython.core.display.Javascript object>"
            ],
            "application/javascript": [
              "window[\"45844ba8-e881-11ef-a5cb-0242ac1c000c\"] = document.querySelector(\"#tag-2970f893-86cd-4ba2-ac37-0a2fcfdfca37\");\n",
              "//# sourceURL=js_b556495ab7"
            ]
          },
          "metadata": {}
        },
        {
          "output_type": "display_data",
          "data": {
            "text/plain": [
              "<IPython.core.display.Javascript object>"
            ],
            "application/javascript": [
              "window[\"4584a954-e881-11ef-a5cb-0242ac1c000c\"] = google.colab.output.setActiveOutputArea(window[\"45844ba8-e881-11ef-a5cb-0242ac1c000c\"]);\n",
              "//# sourceURL=js_702eb49e54"
            ]
          },
          "metadata": {}
        },
        {
          "output_type": "display_data",
          "data": {
            "text/plain": [
              "<IPython.core.display.HTML object>"
            ],
            "text/html": [
              "<pre>========================================\n",
              "</pre>"
            ]
          },
          "metadata": {}
        },
        {
          "output_type": "display_data",
          "data": {
            "text/plain": [
              "<IPython.core.display.Javascript object>"
            ],
            "application/javascript": [
              "window[\"45856204-e881-11ef-a5cb-0242ac1c000c\"] = google.colab.output.setActiveOutputArea(window[\"4583eaaa-e881-11ef-a5cb-0242ac1c000c\"]);\n",
              "//# sourceURL=js_a0e985c6c5"
            ]
          },
          "metadata": {}
        },
        {
          "output_type": "display_data",
          "data": {
            "text/plain": [
              "<IPython.core.display.Javascript object>"
            ],
            "application/javascript": [
              "window[\"4587f172-e881-11ef-a5cb-0242ac1c000c\"] = google.colab.output.getActiveOutputArea();\n",
              "//# sourceURL=js_3d7152b415"
            ]
          },
          "metadata": {}
        },
        {
          "output_type": "display_data",
          "data": {
            "text/plain": [
              "<IPython.core.display.Javascript object>"
            ],
            "application/javascript": [
              "window[\"4588347a-e881-11ef-a5cb-0242ac1c000c\"] = document.querySelector(\"#tag-2970f893-86cd-4ba2-ac37-0a2fcfdfca37\");\n",
              "//# sourceURL=js_2d9af02656"
            ]
          },
          "metadata": {}
        },
        {
          "output_type": "display_data",
          "data": {
            "text/plain": [
              "<IPython.core.display.Javascript object>"
            ],
            "application/javascript": [
              "window[\"45887278-e881-11ef-a5cb-0242ac1c000c\"] = google.colab.output.setActiveOutputArea(window[\"4588347a-e881-11ef-a5cb-0242ac1c000c\"]);\n",
              "//# sourceURL=js_202dd2411f"
            ]
          },
          "metadata": {}
        },
        {
          "output_type": "display_data",
          "data": {
            "text/plain": [
              "<IPython.core.display.HTML object>"
            ],
            "text/html": [
              "<pre>EOF  bt  c  cont  continue  d  exit  help  l  list  p  pp  q  quit  u  w  where\n",
              "</pre>"
            ]
          },
          "metadata": {}
        },
        {
          "output_type": "display_data",
          "data": {
            "text/plain": [
              "<IPython.core.display.Javascript object>"
            ],
            "application/javascript": [
              "window[\"4588e636-e881-11ef-a5cb-0242ac1c000c\"] = google.colab.output.setActiveOutputArea(window[\"4587f172-e881-11ef-a5cb-0242ac1c000c\"]);\n",
              "//# sourceURL=js_9c199d8b68"
            ]
          },
          "metadata": {}
        },
        {
          "output_type": "display_data",
          "data": {
            "text/plain": [
              "<IPython.core.display.Javascript object>"
            ],
            "application/javascript": [
              "window[\"45899892-e881-11ef-a5cb-0242ac1c000c\"] = google.colab.output.getActiveOutputArea();\n",
              "//# sourceURL=js_25438f3eeb"
            ]
          },
          "metadata": {}
        },
        {
          "output_type": "display_data",
          "data": {
            "text/plain": [
              "<IPython.core.display.Javascript object>"
            ],
            "application/javascript": [
              "window[\"4589d1b8-e881-11ef-a5cb-0242ac1c000c\"] = document.querySelector(\"#tag-2970f893-86cd-4ba2-ac37-0a2fcfdfca37\");\n",
              "//# sourceURL=js_44f0520da7"
            ]
          },
          "metadata": {}
        },
        {
          "output_type": "display_data",
          "data": {
            "text/plain": [
              "<IPython.core.display.Javascript object>"
            ],
            "application/javascript": [
              "window[\"458a0bb0-e881-11ef-a5cb-0242ac1c000c\"] = google.colab.output.setActiveOutputArea(window[\"4589d1b8-e881-11ef-a5cb-0242ac1c000c\"]);\n",
              "//# sourceURL=js_d9719f6eac"
            ]
          },
          "metadata": {}
        },
        {
          "output_type": "display_data",
          "data": {
            "text/plain": [
              "<IPython.core.display.HTML object>"
            ],
            "text/html": [
              "<pre>\n",
              "</pre>"
            ]
          },
          "metadata": {}
        },
        {
          "output_type": "display_data",
          "data": {
            "text/plain": [
              "<IPython.core.display.Javascript object>"
            ],
            "application/javascript": [
              "window[\"458a82ac-e881-11ef-a5cb-0242ac1c000c\"] = google.colab.output.setActiveOutputArea(window[\"45899892-e881-11ef-a5cb-0242ac1c000c\"]);\n",
              "//# sourceURL=js_b96139f51d"
            ]
          },
          "metadata": {}
        },
        {
          "output_type": "display_data",
          "data": {
            "text/plain": [
              "<IPython.core.display.Javascript object>"
            ],
            "application/javascript": [
              "window[\"458b4e08-e881-11ef-a5cb-0242ac1c000c\"] = google.colab.output.getActiveOutputArea();\n",
              "//# sourceURL=js_db95bcb910"
            ]
          },
          "metadata": {}
        },
        {
          "output_type": "display_data",
          "data": {
            "text/plain": [
              "<IPython.core.display.Javascript object>"
            ],
            "application/javascript": [
              "window[\"458b9aac-e881-11ef-a5cb-0242ac1c000c\"] = document.querySelector(\"#tag-2970f893-86cd-4ba2-ac37-0a2fcfdfca37\");\n",
              "//# sourceURL=js_2f7db83700"
            ]
          },
          "metadata": {}
        },
        {
          "output_type": "display_data",
          "data": {
            "text/plain": [
              "<IPython.core.display.Javascript object>"
            ],
            "application/javascript": [
              "window[\"458bdf6c-e881-11ef-a5cb-0242ac1c000c\"] = google.colab.output.setActiveOutputArea(window[\"458b9aac-e881-11ef-a5cb-0242ac1c000c\"]);\n",
              "//# sourceURL=js_4244c3b3ac"
            ]
          },
          "metadata": {}
        },
        {
          "output_type": "display_data",
          "data": {
            "text/plain": [
              "<IPython.core.display.HTML object>"
            ],
            "text/html": [
              "<pre>Undocumented commands:\n",
              "</pre>"
            ]
          },
          "metadata": {}
        },
        {
          "output_type": "display_data",
          "data": {
            "text/plain": [
              "<IPython.core.display.Javascript object>"
            ],
            "application/javascript": [
              "window[\"458c7170-e881-11ef-a5cb-0242ac1c000c\"] = google.colab.output.setActiveOutputArea(window[\"458b4e08-e881-11ef-a5cb-0242ac1c000c\"]);\n",
              "//# sourceURL=js_4536e4c2b2"
            ]
          },
          "metadata": {}
        },
        {
          "output_type": "display_data",
          "data": {
            "text/plain": [
              "<IPython.core.display.Javascript object>"
            ],
            "application/javascript": [
              "window[\"458d6896-e881-11ef-a5cb-0242ac1c000c\"] = google.colab.output.getActiveOutputArea();\n",
              "//# sourceURL=js_a532c651e1"
            ]
          },
          "metadata": {}
        },
        {
          "output_type": "display_data",
          "data": {
            "text/plain": [
              "<IPython.core.display.Javascript object>"
            ],
            "application/javascript": [
              "window[\"458db652-e881-11ef-a5cb-0242ac1c000c\"] = document.querySelector(\"#tag-2970f893-86cd-4ba2-ac37-0a2fcfdfca37\");\n",
              "//# sourceURL=js_38d0392106"
            ]
          },
          "metadata": {}
        },
        {
          "output_type": "display_data",
          "data": {
            "text/plain": [
              "<IPython.core.display.Javascript object>"
            ],
            "application/javascript": [
              "window[\"458e0364-e881-11ef-a5cb-0242ac1c000c\"] = google.colab.output.setActiveOutputArea(window[\"458db652-e881-11ef-a5cb-0242ac1c000c\"]);\n",
              "//# sourceURL=js_74dad8f806"
            ]
          },
          "metadata": {}
        },
        {
          "output_type": "display_data",
          "data": {
            "text/plain": [
              "<IPython.core.display.HTML object>"
            ],
            "text/html": [
              "<pre>======================\n",
              "</pre>"
            ]
          },
          "metadata": {}
        },
        {
          "output_type": "display_data",
          "data": {
            "text/plain": [
              "<IPython.core.display.Javascript object>"
            ],
            "application/javascript": [
              "window[\"458e86c2-e881-11ef-a5cb-0242ac1c000c\"] = google.colab.output.setActiveOutputArea(window[\"458d6896-e881-11ef-a5cb-0242ac1c000c\"]);\n",
              "//# sourceURL=js_587f32ae77"
            ]
          },
          "metadata": {}
        },
        {
          "output_type": "display_data",
          "data": {
            "text/plain": [
              "<IPython.core.display.Javascript object>"
            ],
            "application/javascript": [
              "window[\"458f49b8-e881-11ef-a5cb-0242ac1c000c\"] = google.colab.output.getActiveOutputArea();\n",
              "//# sourceURL=js_72d6a2cfa3"
            ]
          },
          "metadata": {}
        },
        {
          "output_type": "display_data",
          "data": {
            "text/plain": [
              "<IPython.core.display.Javascript object>"
            ],
            "application/javascript": [
              "window[\"458f884c-e881-11ef-a5cb-0242ac1c000c\"] = document.querySelector(\"#tag-2970f893-86cd-4ba2-ac37-0a2fcfdfca37\");\n",
              "//# sourceURL=js_734ffbc322"
            ]
          },
          "metadata": {}
        },
        {
          "output_type": "display_data",
          "data": {
            "text/plain": [
              "<IPython.core.display.Javascript object>"
            ],
            "application/javascript": [
              "window[\"458fc5fa-e881-11ef-a5cb-0242ac1c000c\"] = google.colab.output.setActiveOutputArea(window[\"458f884c-e881-11ef-a5cb-0242ac1c000c\"]);\n",
              "//# sourceURL=js_f303b7b63b"
            ]
          },
          "metadata": {}
        },
        {
          "output_type": "display_data",
          "data": {
            "text/plain": [
              "<IPython.core.display.HTML object>"
            ],
            "text/html": [
              "<pre>down  up\n",
              "</pre>"
            ]
          },
          "metadata": {}
        },
        {
          "output_type": "display_data",
          "data": {
            "text/plain": [
              "<IPython.core.display.Javascript object>"
            ],
            "application/javascript": [
              "window[\"45904660-e881-11ef-a5cb-0242ac1c000c\"] = google.colab.output.setActiveOutputArea(window[\"458f49b8-e881-11ef-a5cb-0242ac1c000c\"]);\n",
              "//# sourceURL=js_0ff013df25"
            ]
          },
          "metadata": {}
        },
        {
          "output_type": "display_data",
          "data": {
            "text/plain": [
              "<IPython.core.display.Javascript object>"
            ],
            "application/javascript": [
              "window[\"459104a6-e881-11ef-a5cb-0242ac1c000c\"] = google.colab.output.getActiveOutputArea();\n",
              "//# sourceURL=js_3a2161ddba"
            ]
          },
          "metadata": {}
        },
        {
          "output_type": "display_data",
          "data": {
            "text/plain": [
              "<IPython.core.display.Javascript object>"
            ],
            "application/javascript": [
              "window[\"459144b6-e881-11ef-a5cb-0242ac1c000c\"] = document.querySelector(\"#tag-2970f893-86cd-4ba2-ac37-0a2fcfdfca37\");\n",
              "//# sourceURL=js_432c350d8e"
            ]
          },
          "metadata": {}
        },
        {
          "output_type": "display_data",
          "data": {
            "text/plain": [
              "<IPython.core.display.Javascript object>"
            ],
            "application/javascript": [
              "window[\"45918124-e881-11ef-a5cb-0242ac1c000c\"] = google.colab.output.setActiveOutputArea(window[\"459144b6-e881-11ef-a5cb-0242ac1c000c\"]);\n",
              "//# sourceURL=js_956fee3f51"
            ]
          },
          "metadata": {}
        },
        {
          "output_type": "display_data",
          "data": {
            "text/plain": [
              "<IPython.core.display.HTML object>"
            ],
            "text/html": [
              "<pre>\n",
              "</pre>"
            ]
          },
          "metadata": {}
        },
        {
          "output_type": "display_data",
          "data": {
            "text/plain": [
              "<IPython.core.display.Javascript object>"
            ],
            "application/javascript": [
              "window[\"4591f244-e881-11ef-a5cb-0242ac1c000c\"] = google.colab.output.setActiveOutputArea(window[\"459104a6-e881-11ef-a5cb-0242ac1c000c\"]);\n",
              "//# sourceURL=js_9090e29ec6"
            ]
          },
          "metadata": {}
        },
        {
          "name": "stdout",
          "output_type": "stream",
          "text": [
            "(jdb) exit\n"
          ]
        },
        {
          "output_type": "stream",
          "name": "stderr",
          "text": [
            "ERROR:jax._src.debugging:jax.debug.callback failed\n",
            "Traceback (most recent call last):\n",
            "  File \"/usr/local/lib/python3.11/dist-packages/jax/_src/debugging.py\", line 92, in debug_callback_impl\n",
            "    callback(*args)\n",
            "  File \"/usr/local/lib/python3.11/dist-packages/jax/_src/debugging.py\", line 262, in _flat_callback\n",
            "    callback(*args, **kwargs)\n",
            "  File \"/usr/local/lib/python3.11/dist-packages/jax/_src/debugger/core.py\", line 215, in _breakpoint_callback\n",
            "    debugger(frames, thread_id, **kwargs)\n",
            "  File \"/usr/local/lib/python3.11/dist-packages/jax/_src/debugger/colab_debugger.py\", line 252, in _run_debugger\n",
            "    ColabDebugger(frames, thread_id, **kwargs).run()\n",
            "  File \"/usr/local/lib/python3.11/dist-packages/jax/_src/debugger/colab_debugger.py\", line 246, in run\n",
            "    if not self.cmdloop():\n",
            "           ^^^^^^^^^^^^^^\n",
            "  File \"/usr/lib/python3.11/cmd.py\", line 138, in cmdloop\n",
            "    stop = self.onecmd(line)\n",
            "           ^^^^^^^^^^^^^^^^^\n",
            "  File \"/usr/lib/python3.11/cmd.py\", line 217, in onecmd\n",
            "    return func(arg)\n",
            "           ^^^^^^^^^\n",
            "  File \"/usr/local/lib/python3.11/dist-packages/jax/_src/debugger/cli_debugger.py\", line 146, in do_quit\n",
            "    sys.exit(0)\n",
            "SystemExit: 0\n"
          ]
        },
        {
          "output_type": "error",
          "ename": "XlaRuntimeError",
          "evalue": "INTERNAL: CpuCallback error: Traceback (most recent call last):\n  File \"<frozen runpy>\", line 198, in _run_module_as_main\n  File \"<frozen runpy>\", line 88, in _run_code\n  File \"/usr/local/lib/python3.11/dist-packages/colab_kernel_launcher.py\", line 37, in <module>\n  File \"/usr/local/lib/python3.11/dist-packages/traitlets/config/application.py\", line 992, in launch_instance\n  File \"/usr/local/lib/python3.11/dist-packages/ipykernel/kernelapp.py\", line 619, in start\n  File \"/usr/local/lib/python3.11/dist-packages/tornado/platform/asyncio.py\", line 205, in start\n  File \"/usr/lib/python3.11/asyncio/base_events.py\", line 608, in run_forever\n  File \"/usr/lib/python3.11/asyncio/base_events.py\", line 1936, in _run_once\n  File \"/usr/lib/python3.11/asyncio/events.py\", line 84, in _run\n  File \"/usr/local/lib/python3.11/dist-packages/tornado/ioloop.py\", line 699, in <lambda>\n  File \"/usr/local/lib/python3.11/dist-packages/tornado/ioloop.py\", line 750, in _run_callback\n  File \"/usr/local/lib/python3.11/dist-packages/tornado/gen.py\", line 824, in inner\n  File \"/usr/local/lib/python3.11/dist-packages/tornado/gen.py\", line 785, in run\n  File \"/usr/local/lib/python3.11/dist-packages/ipykernel/kernelbase.py\", line 361, in process_one\n  File \"/usr/local/lib/python3.11/dist-packages/tornado/gen.py\", line 233, in wrapper\n  File \"/usr/local/lib/python3.11/dist-packages/ipykernel/kernelbase.py\", line 261, in dispatch_shell\n  File \"/usr/local/lib/python3.11/dist-packages/tornado/gen.py\", line 233, in wrapper\n  File \"/usr/local/lib/python3.11/dist-packages/ipykernel/kernelbase.py\", line 539, in execute_request\n  File \"/usr/local/lib/python3.11/dist-packages/tornado/gen.py\", line 233, in wrapper\n  File \"/usr/local/lib/python3.11/dist-packages/ipykernel/ipkernel.py\", line 302, in do_execute\n  File \"/usr/local/lib/python3.11/dist-packages/ipykernel/zmqshell.py\", line 539, in run_cell\n  File \"/usr/local/lib/python3.11/dist-packages/IPython/core/interactiveshell.py\", line 2975, in run_cell\n  File \"/usr/local/lib/python3.11/dist-packages/IPython/core/interactiveshell.py\", line 3030, in _run_cell\n  File \"/usr/local/lib/python3.11/dist-packages/IPython/core/async_helpers.py\", line 78, in _pseudo_sync_runner\n  File \"/usr/local/lib/python3.11/dist-packages/IPython/core/interactiveshell.py\", line 3257, in run_cell_async\n  File \"/usr/local/lib/python3.11/dist-packages/IPython/core/interactiveshell.py\", line 3473, in run_ast_nodes\n  File \"/usr/local/lib/python3.11/dist-packages/IPython/core/interactiveshell.py\", line 3553, in run_code\n  File \"<ipython-input-7-b76dadd3a5a6>\", line 6, in <cell line: 0>\n  File \"/usr/local/lib/python3.11/dist-packages/jax/_src/traceback_util.py\", line 180, in reraise_with_filtered_traceback\n  File \"/usr/local/lib/python3.11/dist-packages/jax/_src/pjit.py\", line 332, in cache_miss\n  File \"/usr/local/lib/python3.11/dist-packages/jax/_src/pjit.py\", line 190, in _python_pjit_helper\n  File \"/usr/local/lib/python3.11/dist-packages/jax/_src/core.py\", line 2782, in bind\n  File \"/usr/local/lib/python3.11/dist-packages/jax/_src/core.py\", line 443, in bind_with_trace\n  File \"/usr/local/lib/python3.11/dist-packages/jax/_src/core.py\", line 949, in process_primitive\n  File \"/usr/local/lib/python3.11/dist-packages/jax/_src/pjit.py\", line 1739, in _pjit_call_impl\n  File \"/usr/local/lib/python3.11/dist-packages/jax/_src/pjit.py\", line 1721, in call_impl_cache_miss\n  File \"/usr/local/lib/python3.11/dist-packages/jax/_src/pjit.py\", line 1675, in _pjit_call_impl_python\n  File \"/usr/local/lib/python3.11/dist-packages/jax/_src/profiler.py\", line 333, in wrapper\n  File \"/usr/local/lib/python3.11/dist-packages/jax/_src/interpreters/pxla.py\", line 1277, in __call__\n  File \"/usr/local/lib/python3.11/dist-packages/jax/_src/interpreters/mlir.py\", line 2777, in _wrapped_callback\n  File \"/usr/local/lib/python3.11/dist-packages/jax/_src/debugging.py\", line 159, in _callback\n  File \"/usr/local/lib/python3.11/dist-packages/jax/_src/debugging.py\", line 95, in debug_callback_impl\n  File \"/usr/local/lib/python3.11/dist-packages/jax/_src/debugging.py\", line 262, in _flat_callback\n  File \"/usr/local/lib/python3.11/dist-packages/jax/_src/debugger/core.py\", line 215, in _breakpoint_callback\n  File \"/usr/local/lib/python3.11/dist-packages/jax/_src/debugger/colab_debugger.py\", line 253, in _run_debugger\n  File \"/usr/local/lib/python3.11/dist-packages/jax/_src/debugger/colab_debugger.py\", line 246, in run\n  File \"/usr/lib/python3.11/cmd.py\", line 145, in cmdloop\n  File \"/usr/lib/python3.11/cmd.py\", line 217, in onecmd\n  File \"/usr/local/lib/python3.11/dist-packages/jax/_src/debugger/cli_debugger.py\", line 146, in do_quit\nSystemExit: 0",
          "traceback": [
            "\u001b[0;31m---------------------------------------------------------------------------\u001b[0m",
            "\u001b[0;31mXlaRuntimeError\u001b[0m                           Traceback (most recent call last)",
            "\u001b[0;32m<ipython-input-7-b76dadd3a5a6>\u001b[0m in \u001b[0;36m<cell line: 0>\u001b[0;34m()\u001b[0m\n\u001b[1;32m      4\u001b[0m   \u001b[0mjax\u001b[0m\u001b[0;34m.\u001b[0m\u001b[0mdebug\u001b[0m\u001b[0;34m.\u001b[0m\u001b[0mbreakpoint\u001b[0m\u001b[0;34m(\u001b[0m\u001b[0;34m)\u001b[0m\u001b[0;34m\u001b[0m\u001b[0;34m\u001b[0m\u001b[0m\n\u001b[1;32m      5\u001b[0m   \u001b[0;32mreturn\u001b[0m \u001b[0my\u001b[0m \u001b[0;34m*\u001b[0m \u001b[0mz\u001b[0m\u001b[0;34m\u001b[0m\u001b[0;34m\u001b[0m\u001b[0m\n\u001b[0;32m----> 6\u001b[0;31m \u001b[0mf\u001b[0m\u001b[0;34m(\u001b[0m\u001b[0;36m2.\u001b[0m\u001b[0;34m)\u001b[0m \u001b[0;31m# ==> Pauses during execution\u001b[0m\u001b[0;34m\u001b[0m\u001b[0;34m\u001b[0m\u001b[0m\n\u001b[0m",
            "    \u001b[0;31m[... skipping hidden 10 frame]\u001b[0m\n",
            "\u001b[0;32m/usr/local/lib/python3.11/dist-packages/jax/_src/interpreters/pxla.py\u001b[0m in \u001b[0;36m__call__\u001b[0;34m(self, *args)\u001b[0m\n\u001b[1;32m   1275\u001b[0m           or self.has_host_callbacks):\n\u001b[1;32m   1276\u001b[0m         \u001b[0minput_bufs\u001b[0m \u001b[0;34m=\u001b[0m \u001b[0mself\u001b[0m\u001b[0;34m.\u001b[0m\u001b[0m_add_tokens_to_inputs\u001b[0m\u001b[0;34m(\u001b[0m\u001b[0minput_bufs\u001b[0m\u001b[0;34m)\u001b[0m\u001b[0;34m\u001b[0m\u001b[0;34m\u001b[0m\u001b[0m\n\u001b[0;32m-> 1277\u001b[0;31m         results = self.xla_executable.execute_sharded(\n\u001b[0m\u001b[1;32m   1278\u001b[0m             \u001b[0minput_bufs\u001b[0m\u001b[0;34m,\u001b[0m \u001b[0mwith_tokens\u001b[0m\u001b[0;34m=\u001b[0m\u001b[0;32mTrue\u001b[0m\u001b[0;34m\u001b[0m\u001b[0;34m\u001b[0m\u001b[0m\n\u001b[1;32m   1279\u001b[0m         )\n",
            "\u001b[0;31mXlaRuntimeError\u001b[0m: INTERNAL: CpuCallback error: Traceback (most recent call last):\n  File \"<frozen runpy>\", line 198, in _run_module_as_main\n  File \"<frozen runpy>\", line 88, in _run_code\n  File \"/usr/local/lib/python3.11/dist-packages/colab_kernel_launcher.py\", line 37, in <module>\n  File \"/usr/local/lib/python3.11/dist-packages/traitlets/config/application.py\", line 992, in launch_instance\n  File \"/usr/local/lib/python3.11/dist-packages/ipykernel/kernelapp.py\", line 619, in start\n  File \"/usr/local/lib/python3.11/dist-packages/tornado/platform/asyncio.py\", line 205, in start\n  File \"/usr/lib/python3.11/asyncio/base_events.py\", line 608, in run_forever\n  File \"/usr/lib/python3.11/asyncio/base_events.py\", line 1936, in _run_once\n  File \"/usr/lib/python3.11/asyncio/events.py\", line 84, in _run\n  File \"/usr/local/lib/python3.11/dist-packages/tornado/ioloop.py\", line 699, in <lambda>\n  File \"/usr/local/lib/python3.11/dist-packages/tornado/ioloop.py\", line 750, in _run_callback\n  File \"/usr/local/lib/python3.11/dist-packages/tornado/gen.py\", line 824, in inner\n  File \"/usr/local/lib/python3.11/dist-packages/tornado/gen.py\", line 785, in run\n  File \"/usr/local/lib/python3.11/dist-packages/ipykernel/kernelbase.py\", line 361, in process_one\n  File \"/usr/local/lib/python3.11/dist-packages/tornado/gen.py\", line 233, in wrapper\n  File \"/usr/local/lib/python3.11/dist-packages/ipykernel/kernelbase.py\", line 261, in dispatch_shell\n  File \"/usr/local/lib/python3.11/dist-packages/tornado/gen.py\", line 233, in wrapper\n  File \"/usr/local/lib/python3.11/dist-packages/ipykernel/kernelbase.py\", line 539, in execute_request\n  File \"/usr/local/lib/python3.11/dist-packages/tornado/gen.py\", line 233, in wrapper\n  File \"/usr/local/lib/python3.11/dist-packages/ipykernel/ipkernel.py\", line 302, in do_execute\n  File \"/usr/local/lib/python3.11/dist-packages/ipykernel/zmqshell.py\", line 539, in run_cell\n  File \"/usr/local/lib/python3.11/dist-packages/IPython/core/interactiveshell.py\", line 2975, in run_cell\n  File \"/usr/local/lib/python3.11/dist-packages/IPython/core/interactiveshell.py\", line 3030, in _run_cell\n  File \"/usr/local/lib/python3.11/dist-packages/IPython/core/async_helpers.py\", line 78, in _pseudo_sync_runner\n  File \"/usr/local/lib/python3.11/dist-packages/IPython/core/interactiveshell.py\", line 3257, in run_cell_async\n  File \"/usr/local/lib/python3.11/dist-packages/IPython/core/interactiveshell.py\", line 3473, in run_ast_nodes\n  File \"/usr/local/lib/python3.11/dist-packages/IPython/core/interactiveshell.py\", line 3553, in run_code\n  File \"<ipython-input-7-b76dadd3a5a6>\", line 6, in <cell line: 0>\n  File \"/usr/local/lib/python3.11/dist-packages/jax/_src/traceback_util.py\", line 180, in reraise_with_filtered_traceback\n  File \"/usr/local/lib/python3.11/dist-packages/jax/_src/pjit.py\", line 332, in cache_miss\n  File \"/usr/local/lib/python3.11/dist-packages/jax/_src/pjit.py\", line 190, in _python_pjit_helper\n  File \"/usr/local/lib/python3.11/dist-packages/jax/_src/core.py\", line 2782, in bind\n  File \"/usr/local/lib/python3.11/dist-packages/jax/_src/core.py\", line 443, in bind_with_trace\n  File \"/usr/local/lib/python3.11/dist-packages/jax/_src/core.py\", line 949, in process_primitive\n  File \"/usr/local/lib/python3.11/dist-packages/jax/_src/pjit.py\", line 1739, in _pjit_call_impl\n  File \"/usr/local/lib/python3.11/dist-packages/jax/_src/pjit.py\", line 1721, in call_impl_cache_miss\n  File \"/usr/local/lib/python3.11/dist-packages/jax/_src/pjit.py\", line 1675, in _pjit_call_impl_python\n  File \"/usr/local/lib/python3.11/dist-packages/jax/_src/profiler.py\", line 333, in wrapper\n  File \"/usr/local/lib/python3.11/dist-packages/jax/_src/interpreters/pxla.py\", line 1277, in __call__\n  File \"/usr/local/lib/python3.11/dist-packages/jax/_src/interpreters/mlir.py\", line 2777, in _wrapped_callback\n  File \"/usr/local/lib/python3.11/dist-packages/jax/_src/debugging.py\", line 159, in _callback\n  File \"/usr/local/lib/python3.11/dist-packages/jax/_src/debugging.py\", line 95, in debug_callback_impl\n  File \"/usr/local/lib/python3.11/dist-packages/jax/_src/debugging.py\", line 262, in _flat_callback\n  File \"/usr/local/lib/python3.11/dist-packages/jax/_src/debugger/core.py\", line 215, in _breakpoint_callback\n  File \"/usr/local/lib/python3.11/dist-packages/jax/_src/debugger/colab_debugger.py\", line 253, in _run_debugger\n  File \"/usr/local/lib/python3.11/dist-packages/jax/_src/debugger/colab_debugger.py\", line 246, in run\n  File \"/usr/lib/python3.11/cmd.py\", line 145, in cmdloop\n  File \"/usr/lib/python3.11/cmd.py\", line 217, in onecmd\n  File \"/usr/local/lib/python3.11/dist-packages/jax/_src/debugger/cli_debugger.py\", line 146, in do_quit\nSystemExit: 0"
          ]
        }
      ]
    },
    {
      "cell_type": "code",
      "source": [
        "def breakpoint_if_nonfinite(x):\n",
        "  is_finite = jnp.isfinite(x).all()\n",
        "  def true_fn(x):\n",
        "    pass\n",
        "  def false_fn(x):\n",
        "    jax.debug.breakpoint()\n",
        "  jax.lax.cond(is_finite, true_fn, false_fn, x)\n",
        "\n",
        "@jax.jit\n",
        "def f(x, y):\n",
        "  z = x / y\n",
        "  breakpoint_if_nonfinite(z)\n",
        "  return z\n",
        "\n",
        "f(2., 1.) # ==> No breakpoint"
      ],
      "metadata": {
        "colab": {
          "base_uri": "https://localhost:8080/"
        },
        "id": "73unWM2BVCIZ",
        "outputId": "80c1e9b7-51bf-42f9-f863-3eba2f8e5f73"
      },
      "execution_count": 8,
      "outputs": [
        {
          "output_type": "execute_result",
          "data": {
            "text/plain": [
              "Array(2., dtype=float32, weak_type=True)"
            ]
          },
          "metadata": {},
          "execution_count": 8
        }
      ]
    },
    {
      "cell_type": "markdown",
      "source": [
        "## `jax.debug.callback`"
      ],
      "metadata": {
        "id": "BrNp4HSiVO-E"
      }
    },
    {
      "cell_type": "code",
      "source": [
        "import logging\n",
        "\n",
        "def log_value(x):\n",
        "  logging.warning(f'Logged value: {x}')\n",
        "\n",
        "@jax.jit\n",
        "def f(x):\n",
        "  jax.debug.callback(log_value, x)\n",
        "  return x\n",
        "\n",
        "f(1.0);"
      ],
      "metadata": {
        "colab": {
          "base_uri": "https://localhost:8080/"
        },
        "id": "0ueqJJLuVUYl",
        "outputId": "e7e7291d-738e-4a48-afa9-30e05dc4a2bc"
      },
      "execution_count": 9,
      "outputs": [
        {
          "output_type": "stream",
          "name": "stderr",
          "text": [
            "WARNING:root:Logged value: 1.0\n"
          ]
        }
      ]
    },
    {
      "cell_type": "code",
      "source": [
        "x = jnp.arange(5.0)\n",
        "jax.vmap(f)(x);"
      ],
      "metadata": {
        "colab": {
          "base_uri": "https://localhost:8080/"
        },
        "id": "jyckfEPWVYv9",
        "outputId": "9bd6b2b3-adfa-454b-9707-ef1e892261ab"
      },
      "execution_count": 10,
      "outputs": [
        {
          "output_type": "stream",
          "name": "stderr",
          "text": [
            "WARNING:root:Logged value: 0.0\n",
            "WARNING:root:Logged value: 1.0\n",
            "WARNING:root:Logged value: 2.0\n",
            "WARNING:root:Logged value: 3.0\n",
            "WARNING:root:Logged value: 4.0\n"
          ]
        }
      ]
    },
    {
      "cell_type": "code",
      "source": [
        "jax.grad(f)(1.0);"
      ],
      "metadata": {
        "colab": {
          "base_uri": "https://localhost:8080/"
        },
        "id": "Kgd1K81nVab2",
        "outputId": "70ecd4fb-be50-4921-e230-370b4b98d455"
      },
      "execution_count": 11,
      "outputs": [
        {
          "output_type": "stream",
          "name": "stderr",
          "text": [
            "WARNING:root:Logged value: 1.0\n"
          ]
        }
      ]
    },
    {
      "cell_type": "code",
      "source": [],
      "metadata": {
        "id": "h4NmbockVcFV"
      },
      "execution_count": null,
      "outputs": []
    }
  ]
}