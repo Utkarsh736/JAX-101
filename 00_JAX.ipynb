{
  "nbformat": 4,
  "nbformat_minor": 0,
  "metadata": {
    "colab": {
      "provenance": []
    },
    "kernelspec": {
      "name": "python3",
      "display_name": "Python 3"
    },
    "language_info": {
      "name": "python"
    }
  },
  "cells": [
    {
      "cell_type": "code",
      "execution_count": 1,
      "metadata": {
        "colab": {
          "base_uri": "https://localhost:8080/"
        },
        "id": "UVGfjW0C-7em",
        "outputId": "15366be6-1e55-4abc-fcc0-b0525824d03a"
      },
      "outputs": [
        {
          "output_type": "stream",
          "name": "stdout",
          "text": [
            "\u001b[2K   \u001b[90m━━━━━━━━━━━━━━━━━━━━━━━━━━━━━━━━━━━━━━━━\u001b[0m \u001b[32m2.3/2.3 MB\u001b[0m \u001b[31m19.3 MB/s\u001b[0m eta \u001b[36m0:00:00\u001b[0m\n",
            "\u001b[2K   \u001b[90m━━━━━━━━━━━━━━━━━━━━━━━━━━━━━━━━━━━━━━━━\u001b[0m \u001b[32m102.0/102.0 MB\u001b[0m \u001b[31m8.7 MB/s\u001b[0m eta \u001b[36m0:00:00\u001b[0m\n",
            "\u001b[?25h"
          ]
        }
      ],
      "source": [
        "%pip install -Uqq jax"
      ]
    },
    {
      "cell_type": "code",
      "source": [
        "import jax.numpy as jnp"
      ],
      "metadata": {
        "id": "1Wd1KdqO_Gcv"
      },
      "execution_count": 2,
      "outputs": []
    },
    {
      "cell_type": "markdown",
      "source": [
        "## JAX as Numpy"
      ],
      "metadata": {
        "id": "xcOM4a5M_SC7"
      }
    },
    {
      "cell_type": "code",
      "source": [
        "def selu(x, alpha=1.67, lmbda=1.05):\n",
        "  return lmbda * jnp.where(x > 0, x, alpha * jnp.exp(x) - alpha)\n",
        "\n",
        "x = jnp.arange(5.0)\n",
        "print(selu(x))"
      ],
      "metadata": {
        "colab": {
          "base_uri": "https://localhost:8080/"
        },
        "id": "EvOlsta2_HCY",
        "outputId": "79377906-dbd7-4203-a9f0-5e28cdd2a2d7"
      },
      "execution_count": 3,
      "outputs": [
        {
          "output_type": "stream",
          "name": "stdout",
          "text": [
            "[0.        1.05      2.1       3.1499999 4.2      ]\n"
          ]
        }
      ]
    },
    {
      "cell_type": "markdown",
      "source": [
        "## Just-In-Time Compilation"
      ],
      "metadata": {
        "id": "ei5_1Y8Y_cbn"
      }
    },
    {
      "cell_type": "code",
      "source": [
        "from jax import random\n",
        "\n",
        "key = random.key(1701)\n",
        "x = random.normal(key, (1_000_000,))\n",
        "%timeit selu(x).block_until_ready()"
      ],
      "metadata": {
        "colab": {
          "base_uri": "https://localhost:8080/"
        },
        "id": "-MuNSiUX_VO_",
        "outputId": "608def43-6d7c-4374-87bc-0e0c9349e294"
      },
      "execution_count": 4,
      "outputs": [
        {
          "output_type": "stream",
          "name": "stdout",
          "text": [
            "The slowest run took 4.71 times longer than the fastest. This could mean that an intermediate result is being cached.\n",
            "12.2 ms ± 6.33 ms per loop (mean ± std. dev. of 7 runs, 1 loop each)\n"
          ]
        }
      ]
    },
    {
      "cell_type": "markdown",
      "source": [
        "### Caching result after first call"
      ],
      "metadata": {
        "id": "3TbDR8_7_93q"
      }
    },
    {
      "cell_type": "code",
      "source": [
        "from jax import jit\n",
        "\n",
        "selu_jit = jit(selu)\n",
        "_ = selu_jit(x)  # compiles on first call\n",
        "%timeit selu_jit(x).block_until_ready()"
      ],
      "metadata": {
        "colab": {
          "base_uri": "https://localhost:8080/"
        },
        "id": "zO0liywo_bvK",
        "outputId": "de6b00e4-6383-4972-f68d-08adfc9ee6f4"
      },
      "execution_count": 5,
      "outputs": [
        {
          "output_type": "stream",
          "name": "stdout",
          "text": [
            "1.18 ms ± 247 µs per loop (mean ± std. dev. of 7 runs, 1000 loops each)\n"
          ]
        }
      ]
    },
    {
      "cell_type": "markdown",
      "source": [
        "## Taking derivatives"
      ],
      "metadata": {
        "id": "AVs32Qa4APdc"
      }
    },
    {
      "cell_type": "code",
      "source": [
        "from jax import grad\n",
        "\n",
        "def sum_logistic(x):\n",
        "  return jnp.sum(1.0 / (1.0 + jnp.exp(-x)))\n",
        "\n",
        "x_small = jnp.arange(3.)\n",
        "derivative_fn = grad(sum_logistic)\n",
        "print(derivative_fn(x_small))"
      ],
      "metadata": {
        "colab": {
          "base_uri": "https://localhost:8080/"
        },
        "id": "2zAiJcRx_zkT",
        "outputId": "640cc99c-d177-40ac-c7c8-08efc38bd10f"
      },
      "execution_count": 6,
      "outputs": [
        {
          "output_type": "stream",
          "name": "stdout",
          "text": [
            "[0.25       0.19661197 0.10499357]\n"
          ]
        }
      ]
    },
    {
      "cell_type": "markdown",
      "source": [
        "### Result verification"
      ],
      "metadata": {
        "id": "CSOg_MBhBUaP"
      }
    },
    {
      "cell_type": "code",
      "source": [
        "def first_finite_differences(f, x, eps=1E-3):\n",
        "  return jnp.array([(f(x + eps * v) - f(x - eps * v)) / (2 * eps)\n",
        "                   for v in jnp.eye(len(x))])\n",
        "\n",
        "print(first_finite_differences(sum_logistic, x_small))"
      ],
      "metadata": {
        "colab": {
          "base_uri": "https://localhost:8080/"
        },
        "id": "3VXyQ1lVBLbk",
        "outputId": "3c24a539-d9d4-4400-8bb8-bfc2fb33c175"
      },
      "execution_count": 7,
      "outputs": [
        {
          "output_type": "stream",
          "name": "stdout",
          "text": [
            "[0.24998187 0.1965761  0.10502338]\n"
          ]
        }
      ]
    },
    {
      "cell_type": "markdown",
      "source": [
        "### Jacobian Transformation"
      ],
      "metadata": {
        "id": "piqiX3nPBvdj"
      }
    },
    {
      "cell_type": "code",
      "source": [
        "from jax import jacobian\n",
        "print(jacobian(jnp.exp)(x_small))"
      ],
      "metadata": {
        "colab": {
          "base_uri": "https://localhost:8080/"
        },
        "id": "qqhexcDoBS5D",
        "outputId": "39a539b1-980b-4b39-a50a-3d28e87d421c"
      },
      "execution_count": 8,
      "outputs": [
        {
          "output_type": "stream",
          "name": "stdout",
          "text": [
            "[[1.        0.        0.       ]\n",
            " [0.        2.7182817 0.       ]\n",
            " [0.        0.        7.389056 ]]\n"
          ]
        }
      ]
    },
    {
      "cell_type": "markdown",
      "source": [
        "### Computing full hessian matrix"
      ],
      "metadata": {
        "id": "ULNc-HABB6ck"
      }
    },
    {
      "cell_type": "code",
      "source": [
        "from jax import jacfwd, jacrev\n",
        "def hessian(fun):\n",
        "  return jit(jacfwd(jacrev(fun)))\n",
        "print(hessian(sum_logistic)(x_small))"
      ],
      "metadata": {
        "colab": {
          "base_uri": "https://localhost:8080/"
        },
        "id": "WFbN1cPXBxtE",
        "outputId": "07880c60-e583-4dbf-9b0d-b7aec59f58aa"
      },
      "execution_count": 9,
      "outputs": [
        {
          "output_type": "stream",
          "name": "stdout",
          "text": [
            "[[-0.         -0.         -0.        ]\n",
            " [-0.         -0.09085776 -0.        ]\n",
            " [-0.         -0.         -0.07996249]]\n"
          ]
        }
      ]
    },
    {
      "cell_type": "markdown",
      "source": [
        "## Auto-vectorization"
      ],
      "metadata": {
        "id": "zFMwhfEoCIv_"
      }
    },
    {
      "cell_type": "code",
      "source": [
        "key1, key2 = random.split(key)\n",
        "mat = random.normal(key1, (150, 100))\n",
        "batched_x = random.normal(key2, (10, 100))\n",
        "\n",
        "def apply_matrix(x):\n",
        "  return jnp.dot(mat, x)"
      ],
      "metadata": {
        "id": "TcPLQO7oB5_n"
      },
      "execution_count": 10,
      "outputs": []
    },
    {
      "cell_type": "code",
      "source": [
        "def naively_batched_apply_matrix(v_batched):\n",
        "  return jnp.stack([apply_matrix(v) for v in v_batched])\n",
        "\n",
        "print('Naively batched')\n",
        "%timeit naively_batched_apply_matrix(batched_x).block_until_ready()"
      ],
      "metadata": {
        "colab": {
          "base_uri": "https://localhost:8080/"
        },
        "id": "en6DCZKrCLSA",
        "outputId": "13fd9dd8-a706-4594-e811-1466c0f1ddf6"
      },
      "execution_count": 11,
      "outputs": [
        {
          "output_type": "stream",
          "name": "stdout",
          "text": [
            "Naively batched\n",
            "1.29 ms ± 665 µs per loop (mean ± std. dev. of 7 runs, 100 loops each)\n"
          ]
        }
      ]
    },
    {
      "cell_type": "code",
      "source": [
        "import numpy as np\n",
        "\n",
        "@jit\n",
        "def batched_apply_matrix(batched_x):\n",
        "  return jnp.dot(batched_x, mat.T)\n",
        "\n",
        "np.testing.assert_allclose(naively_batched_apply_matrix(batched_x),\n",
        "                           batched_apply_matrix(batched_x), atol=1E-4, rtol=1E-4)\n",
        "print('Manually batched')\n",
        "%timeit batched_apply_matrix(batched_x).block_until_ready()"
      ],
      "metadata": {
        "colab": {
          "base_uri": "https://localhost:8080/"
        },
        "id": "pC_QK7CICWZX",
        "outputId": "4eb576a5-15a1-4c4b-f5d9-023467831ed4"
      },
      "execution_count": 12,
      "outputs": [
        {
          "output_type": "stream",
          "name": "stdout",
          "text": [
            "Manually batched\n",
            "43.1 µs ± 911 ns per loop (mean ± std. dev. of 7 runs, 10000 loops each)\n"
          ]
        }
      ]
    },
    {
      "cell_type": "code",
      "source": [
        "from jax import vmap\n",
        "\n",
        "@jit\n",
        "def vmap_batched_apply_matrix(batched_x):\n",
        "  return vmap(apply_matrix)(batched_x)\n",
        "\n",
        "np.testing.assert_allclose(naively_batched_apply_matrix(batched_x),\n",
        "                           vmap_batched_apply_matrix(batched_x), atol=1E-4, rtol=1E-4)\n",
        "print('Auto-vectorized with vmap')\n",
        "%timeit vmap_batched_apply_matrix(batched_x).block_until_ready()"
      ],
      "metadata": {
        "colab": {
          "base_uri": "https://localhost:8080/"
        },
        "id": "fORudKl2CbF1",
        "outputId": "b910b51d-e44c-4c8f-e153-822a8fd844ab"
      },
      "execution_count": 13,
      "outputs": [
        {
          "output_type": "stream",
          "name": "stdout",
          "text": [
            "Auto-vectorized with vmap\n",
            "58.7 µs ± 1.31 µs per loop (mean ± std. dev. of 7 runs, 10000 loops each)\n"
          ]
        }
      ]
    },
    {
      "cell_type": "markdown",
      "source": [
        "## Reference\n",
        "\n",
        "JAX Documentation: [Quickstart](https://docs.jax.dev/en/latest/quickstart.html#)"
      ],
      "metadata": {
        "id": "PCG61tvfCl5p"
      }
    },
    {
      "cell_type": "code",
      "source": [],
      "metadata": {
        "id": "W8XVifFICiP6"
      },
      "execution_count": null,
      "outputs": []
    }
  ]
}