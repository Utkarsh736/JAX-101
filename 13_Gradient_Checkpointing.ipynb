{
  "nbformat": 4,
  "nbformat_minor": 0,
  "metadata": {
    "colab": {
      "provenance": []
    },
    "kernelspec": {
      "name": "python3",
      "display_name": "Python 3"
    },
    "language_info": {
      "name": "python"
    }
  },
  "cells": [
    {
      "cell_type": "markdown",
      "source": [
        "# Gradient Checkpointing with `jax.checkpoint` ( `jax.remat`)"
      ],
      "metadata": {
        "id": "KxRgt-4bb0jf"
      }
    },
    {
      "cell_type": "code",
      "source": [
        "import jax\n",
        "import jax.numpy as jnp\n",
        "\n",
        "def g(W, x):\n",
        "  y = jnp.dot(W, x)\n",
        "  return jnp.sin(y)\n",
        "\n",
        "def f(W1, W2, W3, x):\n",
        "  x = g(W1, x)\n",
        "  x = g(W2, x)\n",
        "  x = g(W3, x)\n",
        "  return x\n",
        "\n",
        "W1 = jnp.ones((5, 4))\n",
        "W2 = jnp.ones((6, 5))\n",
        "W3 = jnp.ones((7, 6))\n",
        "x = jnp.ones(4)\n",
        "\n",
        "# Inspect the 'residual' values to be saved on the forward pass\n",
        "# if you were to evaluate `jax.grad(f)(W1, W2, W3, x)`\n",
        "from jax.ad_checkpoint import print_saved_residuals\n",
        "jax.ad_checkpoint.print_saved_residuals(f, W1, W2, W3, x)"
      ],
      "metadata": {
        "colab": {
          "base_uri": "https://localhost:8080/"
        },
        "id": "OboPrwDMcP-B",
        "outputId": "d605949e-e342-4a0d-f1a8-a32b5f532863"
      },
      "execution_count": 1,
      "outputs": [
        {
          "output_type": "stream",
          "name": "stdout",
          "text": [
            "f32[5,4] from the argument W1\n",
            "f32[6,5] from the argument W2\n",
            "f32[7,6] from the argument W3\n",
            "f32[4] from the argument x\n",
            "f32[5] output of sin from <ipython-input-1-ee597810e1e0>:6:9 (g)\n",
            "f32[5] output of cos from <ipython-input-1-ee597810e1e0>:6:9 (g)\n",
            "f32[6] output of sin from <ipython-input-1-ee597810e1e0>:6:9 (g)\n",
            "f32[6] output of cos from <ipython-input-1-ee597810e1e0>:6:9 (g)\n",
            "f32[7] output of cos from <ipython-input-1-ee597810e1e0>:6:9 (g)\n"
          ]
        }
      ]
    },
    {
      "cell_type": "code",
      "source": [
        "def f2(W1, W2, W3, x):\n",
        "  x = jax.checkpoint(g)(W1, x)\n",
        "  x = jax.checkpoint(g)(W2, x)\n",
        "  x = jax.checkpoint(g)(W3, x)\n",
        "  return x\n",
        "\n",
        "jax.ad_checkpoint.print_saved_residuals(f2, W1, W2, W3, x)"
      ],
      "metadata": {
        "colab": {
          "base_uri": "https://localhost:8080/"
        },
        "id": "dIq9xN2ccQiQ",
        "outputId": "2665ac50-73f3-4504-b0ce-b3e2722fa736"
      },
      "execution_count": 2,
      "outputs": [
        {
          "output_type": "stream",
          "name": "stdout",
          "text": [
            "f32[5,4] from the argument W1\n",
            "f32[6,5] from the argument W2\n",
            "f32[7,6] from the argument W3\n",
            "f32[4] from the argument x\n",
            "f32[5] output of sin from <ipython-input-1-ee597810e1e0>:6:9 (g)\n",
            "f32[6] output of sin from <ipython-input-1-ee597810e1e0>:6:9 (g)\n"
          ]
        }
      ]
    },
    {
      "cell_type": "code",
      "source": [
        "f3 = jax.checkpoint(f, policy=jax.checkpoint_policies.dots_with_no_batch_dims_saveable)\n",
        "jax.ad_checkpoint.print_saved_residuals(f3, W1, W2, W3, x)"
      ],
      "metadata": {
        "colab": {
          "base_uri": "https://localhost:8080/"
        },
        "id": "eVF6QO__cUpu",
        "outputId": "88fd81f4-09d5-4264-f75e-30186cb1a786"
      },
      "execution_count": 3,
      "outputs": [
        {
          "output_type": "stream",
          "name": "stdout",
          "text": [
            "f32[5,4] from the argument W1\n",
            "f32[6,5] from the argument W2\n",
            "f32[7,6] from the argument W3\n",
            "f32[4] from the argument x\n",
            "f32[5] output of reduce_precision from <ipython-input-1-ee597810e1e0>:5:6 (g)\n",
            "f32[6] output of reduce_precision from <ipython-input-1-ee597810e1e0>:5:6 (g)\n",
            "f32[7] output of reduce_precision from <ipython-input-1-ee597810e1e0>:5:6 (g)\n"
          ]
        }
      ]
    },
    {
      "cell_type": "code",
      "source": [
        "from jax.ad_checkpoint import checkpoint_name\n",
        "\n",
        "def f4(W1, W2, W3, x):\n",
        "  x = checkpoint_name(g(W1, x), name='a')\n",
        "  x = checkpoint_name(g(W2, x), name='b')\n",
        "  x = checkpoint_name(g(W3, x), name='c')\n",
        "  return x\n",
        "\n",
        "f4 = jax.checkpoint(f4, policy=jax.checkpoint_policies.save_only_these_names('a'))\n",
        "jax.ad_checkpoint.print_saved_residuals(f4, W1, W2, W3, x)"
      ],
      "metadata": {
        "colab": {
          "base_uri": "https://localhost:8080/"
        },
        "id": "EWQoLS06cWpr",
        "outputId": "e488ae5a-ea20-49d8-d14e-74ddff78c129"
      },
      "execution_count": 4,
      "outputs": [
        {
          "output_type": "stream",
          "name": "stdout",
          "text": [
            "f32[5,4] from the argument W1\n",
            "f32[6,5] from the argument W2\n",
            "f32[7,6] from the argument W3\n",
            "f32[4] from the argument x\n",
            "f32[5] output of reduce_precision from <ipython-input-4-bdb467781e9f>:4:6 (f4)\n"
          ]
        }
      ]
    },
    {
      "cell_type": "code",
      "source": [
        "from jax.tree_util import tree_flatten, tree_unflatten\n",
        "\n",
        "from rich.console import Console\n",
        "from rich.table import Table\n",
        "import rich.text\n",
        "\n",
        "def print_fwd_bwd(f, *args, **kwargs) -> None:\n",
        "  args, in_tree = tree_flatten((args, kwargs))\n",
        "\n",
        "  def f_(*args):\n",
        "    args, kwargs = tree_unflatten(in_tree, args)\n",
        "    return f(*args, **kwargs)\n",
        "\n",
        "  fwd = jax.make_jaxpr(lambda *args: jax.vjp(f_, *args))(*args).jaxpr\n",
        "\n",
        "  y, f_vjp = jax.vjp(f_, *args)\n",
        "  res, in_tree = tree_flatten(f_vjp)\n",
        "\n",
        "  def g_(*args):\n",
        "    *res, y = args\n",
        "    f_vjp = tree_unflatten(in_tree, res)\n",
        "    return f_vjp(y)\n",
        "\n",
        "  bwd = jax.make_jaxpr(g_)(*res, y).jaxpr\n",
        "\n",
        "  table = Table(show_header=False, show_lines=True, padding=(1, 2, 0, 2), box=None)\n",
        "  table.add_row(\"[bold green]forward computation:\",\n",
        "                \"[bold green]backward computation:\")\n",
        "  table.add_row(rich.text.Text.from_ansi(str(fwd)),\n",
        "                rich.text.Text.from_ansi(str(bwd)))\n",
        "  console = Console(width=240, force_jupyter=True)\n",
        "  console.print(table)\n",
        "\n",
        "def _renderable_repr(self):\n",
        "  return self.html\n",
        "rich.jupyter.JupyterRenderable._repr_html_ = _renderable_repr"
      ],
      "metadata": {
        "id": "hWnMouiPcZ3c"
      },
      "execution_count": 5,
      "outputs": []
    },
    {
      "cell_type": "code",
      "source": [
        "# Without using `jax.checkpoint`:\n",
        "print_fwd_bwd(f, W1, W2, W3, x)"
      ],
      "metadata": {
        "colab": {
          "base_uri": "https://localhost:8080/",
          "height": 545
        },
        "id": "7lPP4Lm5cbj_",
        "outputId": "68081016-0258-488b-8514-4103c24a06f9"
      },
      "execution_count": 6,
      "outputs": [
        {
          "output_type": "display_data",
          "data": {
            "text/plain": [
              "                                                                                                                                                         \n",
              "  \u001b[1;32mforward computation:\u001b[0m                                         \u001b[1;32mbackward computation:\u001b[0m                                                                     \n",
              "                                                                                                                                                         \n",
              "  { lambda ; a:f32[5,4] b:f32[6,5] c:f32[7,6] d:f32[4]. let    { lambda ; a:f32[4] b:f32[5,4] c:f32[5] d:f32[5] e:f32[6,5] f:f32[6] g:f32[6] h:f32[7,6]  \n",
              "      e:f32[5] = dot_general[                                      i:f32[7] j:f32[7]. let                                                                \n",
              "        dimension_numbers=(([1], [0]), ([], []))                   k:f32[7] = mul j i                                                                    \n",
              "        preferred_element_type=float32                             l:f32[6] = dot_general[                                                               \n",
              "      ] a d                                                          dimension_numbers=(([0], [0]), ([], []))                                            \n",
              "      f:f32[5] = sin e                                               preferred_element_type=float32                                                      \n",
              "      g:f32[5] = cos e                                             ] k h                                                                                 \n",
              "      h:f32[6] = dot_general[                                      m:f32[7,6] = dot_general[                                                             \n",
              "        dimension_numbers=(([1], [0]), ([], []))                     dimension_numbers=(([], []), ([], []))                                              \n",
              "        preferred_element_type=float32                               preferred_element_type=float32                                                      \n",
              "      ] b f                                                        ] k g                                                                                 \n",
              "      i:f32[6] = sin h                                             n:f32[6] = mul l f                                                                    \n",
              "      j:f32[6] = cos h                                             o:f32[5] = dot_general[                                                               \n",
              "      k:f32[7] = dot_general[                                        dimension_numbers=(([0], [0]), ([], []))                                            \n",
              "        dimension_numbers=(([1], [0]), ([], []))                     preferred_element_type=float32                                                      \n",
              "        preferred_element_type=float32                             ] n e                                                                                 \n",
              "      ] c i                                                        p:f32[6,5] = dot_general[                                                             \n",
              "      l:f32[7] = sin k                                               dimension_numbers=(([], []), ([], []))                                              \n",
              "      m:f32[7] = cos k                                               preferred_element_type=float32                                                      \n",
              "    in (l, d, a, g, f, b, j, i, c, m) }                            ] n d                                                                                 \n",
              "                                                                   q:f32[5] = mul o c                                                                    \n",
              "                                                                   r:f32[4] = dot_general[                                                               \n",
              "                                                                     dimension_numbers=(([0], [0]), ([], []))                                            \n",
              "                                                                     preferred_element_type=float32                                                      \n",
              "                                                                   ] q b                                                                                 \n",
              "                                                                   s:f32[5,4] = dot_general[                                                             \n",
              "                                                                     dimension_numbers=(([], []), ([], []))                                              \n",
              "                                                                     preferred_element_type=float32                                                      \n",
              "                                                                   ] q a                                                                                 \n",
              "                                                                 in (s, p, m, r) }                                                                       \n"
            ],
            "text/html": [
              "<pre style=\"white-space:pre;overflow-x:auto;line-height:normal;font-family:Menlo,'DejaVu Sans Mono',consolas,'Courier New',monospace\">                                                                                                                                                         \n",
              "  <span style=\"color: #008000; text-decoration-color: #008000; font-weight: bold\">forward computation:</span>                                         <span style=\"color: #008000; text-decoration-color: #008000; font-weight: bold\">backward computation:</span>                                                                     \n",
              "                                                                                                                                                         \n",
              "  { lambda ; a:f32[5,4] b:f32[6,5] c:f32[7,6] d:f32[4]. let    { lambda ; a:f32[4] b:f32[5,4] c:f32[5] d:f32[5] e:f32[6,5] f:f32[6] g:f32[6] h:f32[7,6]  \n",
              "      e:f32[5] = dot_general[                                      i:f32[7] j:f32[7]. let                                                                \n",
              "        dimension_numbers=(([1], [0]), ([], []))                   k:f32[7] = mul j i                                                                    \n",
              "        preferred_element_type=float32                             l:f32[6] = dot_general[                                                               \n",
              "      ] a d                                                          dimension_numbers=(([0], [0]), ([], []))                                            \n",
              "      f:f32[5] = sin e                                               preferred_element_type=float32                                                      \n",
              "      g:f32[5] = cos e                                             ] k h                                                                                 \n",
              "      h:f32[6] = dot_general[                                      m:f32[7,6] = dot_general[                                                             \n",
              "        dimension_numbers=(([1], [0]), ([], []))                     dimension_numbers=(([], []), ([], []))                                              \n",
              "        preferred_element_type=float32                               preferred_element_type=float32                                                      \n",
              "      ] b f                                                        ] k g                                                                                 \n",
              "      i:f32[6] = sin h                                             n:f32[6] = mul l f                                                                    \n",
              "      j:f32[6] = cos h                                             o:f32[5] = dot_general[                                                               \n",
              "      k:f32[7] = dot_general[                                        dimension_numbers=(([0], [0]), ([], []))                                            \n",
              "        dimension_numbers=(([1], [0]), ([], []))                     preferred_element_type=float32                                                      \n",
              "        preferred_element_type=float32                             ] n e                                                                                 \n",
              "      ] c i                                                        p:f32[6,5] = dot_general[                                                             \n",
              "      l:f32[7] = sin k                                               dimension_numbers=(([], []), ([], []))                                              \n",
              "      m:f32[7] = cos k                                               preferred_element_type=float32                                                      \n",
              "    in (l, d, a, g, f, b, j, i, c, m) }                            ] n d                                                                                 \n",
              "                                                                   q:f32[5] = mul o c                                                                    \n",
              "                                                                   r:f32[4] = dot_general[                                                               \n",
              "                                                                     dimension_numbers=(([0], [0]), ([], []))                                            \n",
              "                                                                     preferred_element_type=float32                                                      \n",
              "                                                                   ] q b                                                                                 \n",
              "                                                                   s:f32[5,4] = dot_general[                                                             \n",
              "                                                                     dimension_numbers=(([], []), ([], []))                                              \n",
              "                                                                     preferred_element_type=float32                                                      \n",
              "                                                                   ] q a                                                                                 \n",
              "                                                                 in (s, p, m, r) }                                                                       \n",
              "</pre>\n"
            ]
          },
          "metadata": {}
        }
      ]
    },
    {
      "cell_type": "code",
      "source": [
        "# Using `jax.checkpoint` with policy=jax.checkpoint_policies.dots_with_no_batch_dims_saveable:\n",
        "print_fwd_bwd(f3, W1, W2, W3, x)"
      ],
      "metadata": {
        "colab": {
          "base_uri": "https://localhost:8080/",
          "height": 737
        },
        "id": "Sr3vAXdbceoy",
        "outputId": "2df434d5-bef5-4985-ae59-a1b98669fef4"
      },
      "execution_count": 7,
      "outputs": [
        {
          "output_type": "display_data",
          "data": {
            "text/plain": [
              "                                                                                                                                                                        \n",
              "  \u001b[1;32mforward computation:\u001b[0m                                                   \u001b[1;32mbackward computation:\u001b[0m                                                                          \n",
              "                                                                                                                                                                        \n",
              "  { lambda ; a:f32[5,4] b:f32[6,5] c:f32[7,6] d:f32[4]. let              { lambda ; a:f32[5] b:f32[6] c:f32[7] d:f32[5,4] e:f32[6,5] f:f32[7,6] g:f32[4] h:f32[7]. let  \n",
              "      e:f32[5] = dot_general[                                                i:f32[5,4] j:f32[6,5] k:f32[7,6] l:f32[4] = remat2[                                        \n",
              "        dimension_numbers=(([1], [0]), ([], []))                               differentiated=True                                                                      \n",
              "        preferred_element_type=float32                                         jaxpr={ lambda ; m:f32[5] n:f32[6] o:f32[7] p:f32[5,4] q:f32[6,5] r:f32[7,6]             \n",
              "      ] a d                                                                        s:f32[4] t:f32[7]. let                                                               \n",
              "      f:f32[5] = reduce_precision[exponent_bits=8 mantissa_bits=23] e              u:f32[5] = sin m                                                                     \n",
              "      g:f32[5] = sin f                                                             v:f32[5] = cos m                                                                     \n",
              "      h:f32[6] = dot_general[                                                      w:f32[6] = sin n                                                                     \n",
              "        dimension_numbers=(([1], [0]), ([], []))                                   x:f32[6] = cos n                                                                     \n",
              "        preferred_element_type=float32                                             y:f32[7] = cos o                                                                     \n",
              "      ] b g                                                                        z:f32[7] = mul t y                                                                   \n",
              "      i:f32[6] = reduce_precision[exponent_bits=8 mantissa_bits=23] h              ba:f32[6] = dot_general[                                                             \n",
              "      j:f32[6] = sin i                                                               dimension_numbers=(([0], [0]), ([], []))                                           \n",
              "      k:f32[7] = dot_general[                                                        preferred_element_type=float32                                                     \n",
              "        dimension_numbers=(([1], [0]), ([], []))                                   ] z r                                                                                \n",
              "        preferred_element_type=float32                                             bb:f32[6] = mul ba x                                                                 \n",
              "      ] c j                                                                        bc:f32[5] = dot_general[                                                             \n",
              "      l:f32[7] = reduce_precision[exponent_bits=8 mantissa_bits=23] k                dimension_numbers=(([0], [0]), ([], []))                                           \n",
              "      m:f32[7] = sin l                                                               preferred_element_type=float32                                                     \n",
              "    in (m, f, i, l, a, b, c, d) }                                                  ] bb q                                                                               \n",
              "                                                                                   bd:f32[5] = mul bc v                                                                 \n",
              "                                                                                   be:f32[4] = dot_general[                                                             \n",
              "                                                                                     dimension_numbers=(([0], [0]), ([], []))                                           \n",
              "                                                                                     preferred_element_type=float32                                                     \n",
              "                                                                                   ] bd p                                                                               \n",
              "                                                                                   bf:f32[5,4] = dot_general[                                                           \n",
              "                                                                                     dimension_numbers=(([], []), ([], []))                                             \n",
              "                                                                                     preferred_element_type=float32                                                     \n",
              "                                                                                   ] bd s                                                                               \n",
              "                                                                                   bg:f32[6,5] = dot_general[                                                           \n",
              "                                                                                     dimension_numbers=(([], []), ([], []))                                             \n",
              "                                                                                     preferred_element_type=float32                                                     \n",
              "                                                                                   ] bb u                                                                               \n",
              "                                                                                   bh:f32[7,6] = dot_general[                                                           \n",
              "                                                                                     dimension_numbers=(([], []), ([], []))                                             \n",
              "                                                                                     preferred_element_type=float32                                                     \n",
              "                                                                                   ] z w                                                                                \n",
              "                                                                                 in (bf, bg, bh, be) }                                                                  \n",
              "                                                                               policy=<function dot_with_no_batch_dims_saveable at 0x7fedaef2f9c0>                      \n",
              "                                                                               prevent_cse=True                                                                         \n",
              "                                                                             ] a b c d e f g h                                                                          \n",
              "                                                                           in (i, j, k, l) }                                                                            \n"
            ],
            "text/html": [
              "<pre style=\"white-space:pre;overflow-x:auto;line-height:normal;font-family:Menlo,'DejaVu Sans Mono',consolas,'Courier New',monospace\">                                                                                                                                                                        \n",
              "  <span style=\"color: #008000; text-decoration-color: #008000; font-weight: bold\">forward computation:</span>                                                   <span style=\"color: #008000; text-decoration-color: #008000; font-weight: bold\">backward computation:</span>                                                                          \n",
              "                                                                                                                                                                        \n",
              "  { lambda ; a:f32[5,4] b:f32[6,5] c:f32[7,6] d:f32[4]. let              { lambda ; a:f32[5] b:f32[6] c:f32[7] d:f32[5,4] e:f32[6,5] f:f32[7,6] g:f32[4] h:f32[7]. let  \n",
              "      e:f32[5] = dot_general[                                                i:f32[5,4] j:f32[6,5] k:f32[7,6] l:f32[4] = remat2[                                        \n",
              "        dimension_numbers=(([1], [0]), ([], []))                               differentiated=True                                                                      \n",
              "        preferred_element_type=float32                                         jaxpr={ lambda ; m:f32[5] n:f32[6] o:f32[7] p:f32[5,4] q:f32[6,5] r:f32[7,6]             \n",
              "      ] a d                                                                        s:f32[4] t:f32[7]. let                                                               \n",
              "      f:f32[5] = reduce_precision[exponent_bits=8 mantissa_bits=23] e              u:f32[5] = sin m                                                                     \n",
              "      g:f32[5] = sin f                                                             v:f32[5] = cos m                                                                     \n",
              "      h:f32[6] = dot_general[                                                      w:f32[6] = sin n                                                                     \n",
              "        dimension_numbers=(([1], [0]), ([], []))                                   x:f32[6] = cos n                                                                     \n",
              "        preferred_element_type=float32                                             y:f32[7] = cos o                                                                     \n",
              "      ] b g                                                                        z:f32[7] = mul t y                                                                   \n",
              "      i:f32[6] = reduce_precision[exponent_bits=8 mantissa_bits=23] h              ba:f32[6] = dot_general[                                                             \n",
              "      j:f32[6] = sin i                                                               dimension_numbers=(([0], [0]), ([], []))                                           \n",
              "      k:f32[7] = dot_general[                                                        preferred_element_type=float32                                                     \n",
              "        dimension_numbers=(([1], [0]), ([], []))                                   ] z r                                                                                \n",
              "        preferred_element_type=float32                                             bb:f32[6] = mul ba x                                                                 \n",
              "      ] c j                                                                        bc:f32[5] = dot_general[                                                             \n",
              "      l:f32[7] = reduce_precision[exponent_bits=8 mantissa_bits=23] k                dimension_numbers=(([0], [0]), ([], []))                                           \n",
              "      m:f32[7] = sin l                                                               preferred_element_type=float32                                                     \n",
              "    in (m, f, i, l, a, b, c, d) }                                                  ] bb q                                                                               \n",
              "                                                                                   bd:f32[5] = mul bc v                                                                 \n",
              "                                                                                   be:f32[4] = dot_general[                                                             \n",
              "                                                                                     dimension_numbers=(([0], [0]), ([], []))                                           \n",
              "                                                                                     preferred_element_type=float32                                                     \n",
              "                                                                                   ] bd p                                                                               \n",
              "                                                                                   bf:f32[5,4] = dot_general[                                                           \n",
              "                                                                                     dimension_numbers=(([], []), ([], []))                                             \n",
              "                                                                                     preferred_element_type=float32                                                     \n",
              "                                                                                   ] bd s                                                                               \n",
              "                                                                                   bg:f32[6,5] = dot_general[                                                           \n",
              "                                                                                     dimension_numbers=(([], []), ([], []))                                             \n",
              "                                                                                     preferred_element_type=float32                                                     \n",
              "                                                                                   ] bb u                                                                               \n",
              "                                                                                   bh:f32[7,6] = dot_general[                                                           \n",
              "                                                                                     dimension_numbers=(([], []), ([], []))                                             \n",
              "                                                                                     preferred_element_type=float32                                                     \n",
              "                                                                                   ] z w                                                                                \n",
              "                                                                                 in (bf, bg, bh, be) }                                                                  \n",
              "                                                                               policy=&lt;function dot_with_no_batch_dims_saveable at 0x7fedaef2f9c0&gt;                      \n",
              "                                                                               prevent_cse=True                                                                         \n",
              "                                                                             ] a b c d e f g h                                                                          \n",
              "                                                                           in (i, j, k, l) }                                                                            \n",
              "</pre>\n"
            ]
          },
          "metadata": {}
        }
      ]
    },
    {
      "cell_type": "markdown",
      "source": [
        "## `jax.checkpoint`"
      ],
      "metadata": {
        "id": "827LAxl1ciaT"
      }
    },
    {
      "cell_type": "code",
      "source": [
        "def sin_vjp(x):\n",
        "  y = jnp.sin(x)\n",
        "  cos_x = jnp.cos(x)\n",
        "  return y, lambda y_bar: cos_x * y_bar"
      ],
      "metadata": {
        "id": "TU-mf1zxcnvZ"
      },
      "execution_count": 8,
      "outputs": []
    },
    {
      "cell_type": "code",
      "source": [
        "def sin_vjp2(x):\n",
        "  y = jnp.sin(x)\n",
        "  return y, lambda y_bar: jnp.cos(x) * y_bar"
      ],
      "metadata": {
        "id": "dc4VBBMqcoIY"
      },
      "execution_count": 9,
      "outputs": []
    },
    {
      "cell_type": "code",
      "source": [
        "def f(x):\n",
        "  y = g(x)\n",
        "  z = h(y)\n",
        "  return z\n",
        "\n",
        "def f_vjp(x):\n",
        "  y, g_vjp = jax.vjp(g, x)\n",
        "  z, h_vjp = jax.vjp(h, y)\n",
        "  def f_bwd(z_bar):\n",
        "    y_bar, = h_vjp(z_bar)\n",
        "    x_bar, = g_vjp(y_bar)\n",
        "    return x_bar\n",
        "  return z, f_bwd"
      ],
      "metadata": {
        "id": "oVB4VjlAcpvf"
      },
      "execution_count": 10,
      "outputs": []
    },
    {
      "cell_type": "code",
      "source": [
        "def f_vjp_checkpoint(x):\n",
        "  y = g(x)\n",
        "  z, h_vjp = jax.vjp(h, y)\n",
        "  def f_bwd2(z_bar):\n",
        "    y_bar, = h_vjp(z_bar)\n",
        "    _, g_vjp = jax.vjp(g, x)\n",
        "    x_bar, = g_vjp(y_bar)\n",
        "    return x_bar\n",
        "  return z, f_bwd2"
      ],
      "metadata": {
        "id": "50TzC36Pcrgp"
      },
      "execution_count": 11,
      "outputs": []
    },
    {
      "cell_type": "code",
      "source": [
        "def f_checkpoint(x):\n",
        "  y = jax.checkpoint(g)(x)\n",
        "  z = h(y)\n",
        "  return z"
      ],
      "metadata": {
        "id": "e2mVUxz8ctgQ"
      },
      "execution_count": 12,
      "outputs": []
    },
    {
      "cell_type": "code",
      "source": [
        "def f_checkpoint_grad(x):\n",
        "  y = g(x)                  # step 1\n",
        "  _, h_vjp = jax.vjp(h)(y)  # step 2\n",
        "  y_bar, = h_vjp(1.0)       # step 3\n",
        "  _, g_vjp = jax.vjp(g, x)  # step 4\n",
        "  x_bar, = g_vjp(y_bar)     # step 5\n",
        "  return x_bar"
      ],
      "metadata": {
        "id": "4mzJO7u_cvC-"
      },
      "execution_count": 13,
      "outputs": []
    },
    {
      "cell_type": "code",
      "source": [
        "def f_grad_bad(x):\n",
        "  _ = f(x)                  # step 1\n",
        "  _, f_vjp = jax.vjp(f, x)  # step 2\n",
        "  x_bar, = f_vjp(1.0)       # step 3\n",
        "  return x_bar"
      ],
      "metadata": {
        "id": "8AW6_lCScwvZ"
      },
      "execution_count": 14,
      "outputs": []
    },
    {
      "cell_type": "code",
      "source": [
        "def f_grad_bad2(x):\n",
        "  y, g_vjp = jax.vjp(g, x)  # step 1\n",
        "  z = h(y)                  # step 2\n",
        "  _, h_vjp = jax.vjp(h, y)  # step 3\n",
        "  y_bar, = h_vjp(1.0)       # step 3\n",
        "  x_bar, = g_vjp(y_bar)     # step 5\n",
        "  return x_bar"
      ],
      "metadata": {
        "id": "AD1GGUUncyS2"
      },
      "execution_count": 15,
      "outputs": []
    },
    {
      "cell_type": "markdown",
      "source": [
        "## What's saveable"
      ],
      "metadata": {
        "id": "qZXP8E5QczzK"
      }
    },
    {
      "cell_type": "code",
      "source": [
        "def loss(params, x, y):\n",
        "  return jnp.sum((predict(params, x) - y)**2)\n",
        "\n",
        "def predict(params, x):\n",
        "  *Ws, Wlast = params\n",
        "  for W in Ws:\n",
        "    x = layer(W, x)\n",
        "  x = jnp.dot(Wlast, x)\n",
        "  return x\n",
        "\n",
        "def layer(W, x):\n",
        "  return jnp.sin(jnp.dot(W, x))"
      ],
      "metadata": {
        "id": "YiBcwABcc6hM"
      },
      "execution_count": 16,
      "outputs": []
    },
    {
      "cell_type": "code",
      "source": [
        "W1 = W2 = W3 = jnp.ones((4, 4))\n",
        "params = [W1, W2, W3]\n",
        "x = jnp.ones(4)\n",
        "y = jnp.ones(4)"
      ],
      "metadata": {
        "id": "VGDm-_J0c6zA"
      },
      "execution_count": 17,
      "outputs": []
    },
    {
      "cell_type": "code",
      "source": [
        "print_saved_residuals(loss, params, x, y)"
      ],
      "metadata": {
        "colab": {
          "base_uri": "https://localhost:8080/"
        },
        "id": "a9UZD4fzc8f3",
        "outputId": "e9b47415-0009-4ed0-c047-1372ffb1e544"
      },
      "execution_count": 18,
      "outputs": [
        {
          "output_type": "stream",
          "name": "stdout",
          "text": [
            "f32[4,4] from the argument params[0]\n",
            "f32[4,4] from the argument params[1]\n",
            "f32[4,4] from the argument params[2]\n",
            "f32[4] from the argument x\n",
            "f32[4] output of sin from <ipython-input-16-507e2be1527b>:12:9 (layer)\n",
            "f32[4] output of cos from <ipython-input-16-507e2be1527b>:12:9 (layer)\n",
            "f32[4] output of sin from <ipython-input-16-507e2be1527b>:12:9 (layer)\n",
            "f32[4] output of cos from <ipython-input-16-507e2be1527b>:12:9 (layer)\n",
            "f32[4] output of mul from <ipython-input-16-507e2be1527b>:2:17 (loss)\n"
          ]
        }
      ]
    },
    {
      "cell_type": "code",
      "source": [
        "loss_checkpoint = jax.checkpoint(loss, policy=jax.checkpoint_policies.dots_with_no_batch_dims_saveable)\n",
        "print_saved_residuals(loss_checkpoint, params, x, y)"
      ],
      "metadata": {
        "colab": {
          "base_uri": "https://localhost:8080/"
        },
        "id": "1yAjlicgc9ti",
        "outputId": "b5d987de-e80f-4d5d-da6a-e53bdc95244d"
      },
      "execution_count": 19,
      "outputs": [
        {
          "output_type": "stream",
          "name": "stdout",
          "text": [
            "f32[4,4] from the argument params[0]\n",
            "f32[4,4] from the argument params[1]\n",
            "f32[4,4] from the argument params[2]\n",
            "f32[4] from the argument x\n",
            "f32[4] from the argument y\n",
            "f32[4] output of reduce_precision from <ipython-input-16-507e2be1527b>:12:17 (layer)\n",
            "f32[4] output of reduce_precision from <ipython-input-16-507e2be1527b>:12:17 (layer)\n",
            "f32[4] output of reduce_precision from <ipython-input-16-507e2be1527b>:8:6 (predict)\n"
          ]
        }
      ]
    },
    {
      "cell_type": "code",
      "source": [
        "from jax.ad_checkpoint import checkpoint_name\n",
        "\n",
        "def predict(params, x):\n",
        "  *Ws, Wlast = params\n",
        "  for i, W in enumerate(Ws):\n",
        "    x = layer(W, x)\n",
        "    x = checkpoint_name(x, name=f'layer{i}_output')\n",
        "  x = jnp.dot(Wlast, x)\n",
        "  return x"
      ],
      "metadata": {
        "id": "eztMrlBWc_pZ"
      },
      "execution_count": 20,
      "outputs": []
    },
    {
      "cell_type": "code",
      "source": [
        "print_saved_residuals(loss, params, x, y)"
      ],
      "metadata": {
        "colab": {
          "base_uri": "https://localhost:8080/"
        },
        "id": "Ue3m-R8qdBlu",
        "outputId": "71ff3928-f704-47d4-c586-980f143f7e05"
      },
      "execution_count": 21,
      "outputs": [
        {
          "output_type": "stream",
          "name": "stdout",
          "text": [
            "f32[4,4] from the argument params[0]\n",
            "f32[4,4] from the argument params[1]\n",
            "f32[4,4] from the argument params[2]\n",
            "f32[4] from the argument x\n",
            "f32[4] output of cos from <ipython-input-16-507e2be1527b>:12:9 (layer)\n",
            "f32[4] named 'layer0_output' from <ipython-input-20-ca54e1f99dd8>:7:8 (predict)\n",
            "f32[4] output of cos from <ipython-input-16-507e2be1527b>:12:9 (layer)\n",
            "f32[4] named 'layer1_output' from <ipython-input-20-ca54e1f99dd8>:7:8 (predict)\n",
            "f32[4] output of mul from <ipython-input-16-507e2be1527b>:2:17 (loss)\n"
          ]
        }
      ]
    },
    {
      "cell_type": "code",
      "source": [
        "loss_checkpoint2 = jax.checkpoint(loss, policy=jax.checkpoint_policies.save_any_names_but_these('layer1_output'))\n",
        "print_saved_residuals(loss_checkpoint2, params, x, y)"
      ],
      "metadata": {
        "colab": {
          "base_uri": "https://localhost:8080/"
        },
        "id": "tzGPgyS3dDaI",
        "outputId": "d0458aaa-b234-45e8-97f3-1ec02f443787"
      },
      "execution_count": 22,
      "outputs": [
        {
          "output_type": "stream",
          "name": "stdout",
          "text": [
            "f32[4,4] from the argument params[0]\n",
            "f32[4,4] from the argument params[1]\n",
            "f32[4,4] from the argument params[2]\n",
            "f32[4] from the argument x\n",
            "f32[4] from the argument y\n"
          ]
        }
      ]
    },
    {
      "cell_type": "markdown",
      "source": [
        "## Offload"
      ],
      "metadata": {
        "id": "aBXXNFyPdFUr"
      }
    },
    {
      "cell_type": "code",
      "source": [
        "from jax.ad_checkpoint import checkpoint\n",
        "\n",
        "def checkpoint_offload_dot_with_no_batch_dims(self):\n",
        "  policy = jax.checkpoint_policies.offload_dot_with_no_batch_dims(\n",
        "      \"device\", \"pinned_host\")\n",
        "\n",
        "  @functools.partial(checkpoint, policy=policy)\n",
        "  def f(x):\n",
        "    x = jnp.einsum('ij,jk->ik', x, x, precision=lax.Precision.HIGHEST)\n",
        "    x = jnp.sin(x)\n",
        "    x = jnp.einsum('ij,jk->ik', x, x, precision=lax.Precision.HIGHEST)\n",
        "    x = jnp.sin(x)\n",
        "    x = jnp.einsum('ij,jk->ik', x, x, precision=lax.Precision.HIGHEST)\n",
        "    x = jnp.sin(x)\n",
        "    x = jnp.sum(x)\n",
        "    return x"
      ],
      "metadata": {
        "id": "vwlqKez9dJvA"
      },
      "execution_count": 23,
      "outputs": []
    },
    {
      "cell_type": "code",
      "source": [
        "from jax.ad_checkpoint import checkpoint, checkpoint_name\n",
        "from jax._src import test_util as jtu\n",
        "\n",
        "def checkpoint_names_saved_offloaded_recomputed(self):\n",
        "  mesh = jtu.create_mesh((2,), (\"x\",))\n",
        "  shape = (256, 128)\n",
        "  np_inp = np.arange(math.prod(shape), dtype=np.float32).reshape(shape)\n",
        "  s = NamedSharding(mesh, P(\"x\"))\n",
        "  inp = jax.device_put(np_inp, s)\n",
        "\n",
        "  policy = jax.checkpoint_policies.save_and_offload_only_these_names(\n",
        "      names_which_can_be_saved=[\"y\"], names_which_can_be_offloaded=[\"z\"],\n",
        "      offload_src='device', offload_dst='pinned_host')\n",
        "\n",
        "  @functools.partial(checkpoint, policy=policy)\n",
        "  def f(x):\n",
        "    def g(ys, _):\n",
        "      y, _ = ys\n",
        "      y = checkpoint_name(jnp.sin(y), \"y\")\n",
        "      z = checkpoint_name(jnp.sin(y), \"z\")\n",
        "      z = z.T\n",
        "      w = checkpoint_name(jnp.sin(z), \"w\")\n",
        "      return (w.T, jnp.sum(w)), None\n",
        "    _, scan_out = jax.lax.scan(g, (x, np.array(1, dtype=np.float32)), [np_inp])[0]\n",
        "    return scan_out"
      ],
      "metadata": {
        "id": "eja-YH9jdKCX"
      },
      "execution_count": 24,
      "outputs": []
    },
    {
      "cell_type": "markdown",
      "source": [
        "## Recursive `jax.checpoint`"
      ],
      "metadata": {
        "id": "4sUgf4b1dNHa"
      }
    },
    {
      "cell_type": "code",
      "source": [
        "def chain_compose(funs):\n",
        "  def f(x):\n",
        "    for fun in funs:\n",
        "      x = fun(x)\n",
        "    return x\n",
        "  return f\n",
        "\n",
        "f = chain_compose([jnp.sin] * 8)\n",
        "print_saved_residuals(f, 3.)"
      ],
      "metadata": {
        "colab": {
          "base_uri": "https://localhost:8080/"
        },
        "id": "0HjmmXFadSyw",
        "outputId": "6d87384b-9b00-425b-d948-2f735eddb5df"
      },
      "execution_count": 25,
      "outputs": [
        {
          "output_type": "stream",
          "name": "stdout",
          "text": [
            "f32[] output of cos from <ipython-input-25-154fe1d2f1f8>:4:10 (chain_compose.<locals>.f)\n",
            "f32[] output of cos from <ipython-input-25-154fe1d2f1f8>:4:10 (chain_compose.<locals>.f)\n",
            "f32[] output of cos from <ipython-input-25-154fe1d2f1f8>:4:10 (chain_compose.<locals>.f)\n",
            "f32[] output of cos from <ipython-input-25-154fe1d2f1f8>:4:10 (chain_compose.<locals>.f)\n",
            "f32[] output of cos from <ipython-input-25-154fe1d2f1f8>:4:10 (chain_compose.<locals>.f)\n",
            "f32[] output of cos from <ipython-input-25-154fe1d2f1f8>:4:10 (chain_compose.<locals>.f)\n",
            "f32[] output of cos from <ipython-input-25-154fe1d2f1f8>:4:10 (chain_compose.<locals>.f)\n",
            "f32[] output of cos from <ipython-input-25-154fe1d2f1f8>:4:10 (chain_compose.<locals>.f)\n"
          ]
        }
      ]
    },
    {
      "cell_type": "code",
      "source": [
        "f = chain_compose([jnp.sin] * 16)\n",
        "print_saved_residuals(f, 3.)"
      ],
      "metadata": {
        "colab": {
          "base_uri": "https://localhost:8080/"
        },
        "id": "2MV9zjpbdUpu",
        "outputId": "4475b20b-afa8-46ee-822c-f1baa943d524"
      },
      "execution_count": 26,
      "outputs": [
        {
          "output_type": "stream",
          "name": "stdout",
          "text": [
            "f32[] output of cos from <ipython-input-25-154fe1d2f1f8>:4:10 (chain_compose.<locals>.f)\n",
            "f32[] output of cos from <ipython-input-25-154fe1d2f1f8>:4:10 (chain_compose.<locals>.f)\n",
            "f32[] output of cos from <ipython-input-25-154fe1d2f1f8>:4:10 (chain_compose.<locals>.f)\n",
            "f32[] output of cos from <ipython-input-25-154fe1d2f1f8>:4:10 (chain_compose.<locals>.f)\n",
            "f32[] output of cos from <ipython-input-25-154fe1d2f1f8>:4:10 (chain_compose.<locals>.f)\n",
            "f32[] output of cos from <ipython-input-25-154fe1d2f1f8>:4:10 (chain_compose.<locals>.f)\n",
            "f32[] output of cos from <ipython-input-25-154fe1d2f1f8>:4:10 (chain_compose.<locals>.f)\n",
            "f32[] output of cos from <ipython-input-25-154fe1d2f1f8>:4:10 (chain_compose.<locals>.f)\n",
            "f32[] output of cos from <ipython-input-25-154fe1d2f1f8>:4:10 (chain_compose.<locals>.f)\n",
            "f32[] output of cos from <ipython-input-25-154fe1d2f1f8>:4:10 (chain_compose.<locals>.f)\n",
            "f32[] output of cos from <ipython-input-25-154fe1d2f1f8>:4:10 (chain_compose.<locals>.f)\n",
            "f32[] output of cos from <ipython-input-25-154fe1d2f1f8>:4:10 (chain_compose.<locals>.f)\n",
            "f32[] output of cos from <ipython-input-25-154fe1d2f1f8>:4:10 (chain_compose.<locals>.f)\n",
            "f32[] output of cos from <ipython-input-25-154fe1d2f1f8>:4:10 (chain_compose.<locals>.f)\n",
            "f32[] output of cos from <ipython-input-25-154fe1d2f1f8>:4:10 (chain_compose.<locals>.f)\n",
            "f32[] output of cos from <ipython-input-25-154fe1d2f1f8>:4:10 (chain_compose.<locals>.f)\n"
          ]
        }
      ]
    },
    {
      "cell_type": "code",
      "source": [
        "def recursive_checkpoint(funs):\n",
        "  if len(funs) == 1:\n",
        "    return funs[0]\n",
        "  elif len(funs) == 2:\n",
        "    f1, f2 = funs\n",
        "    return lambda x: f1(f2(x))\n",
        "  else:\n",
        "    f1 = recursive_checkpoint(funs[:len(funs)//2])\n",
        "    f2 = recursive_checkpoint(funs[len(funs)//2:])\n",
        "    return lambda x: f1(jax.checkpoint(f2)(x))"
      ],
      "metadata": {
        "id": "rQoaZbkodWrs"
      },
      "execution_count": 27,
      "outputs": []
    },
    {
      "cell_type": "code",
      "source": [
        "f = recursive_checkpoint([jnp.sin] * 8)\n",
        "print_saved_residuals(f, 3.)"
      ],
      "metadata": {
        "colab": {
          "base_uri": "https://localhost:8080/"
        },
        "id": "XG0ZWKQFdYcL",
        "outputId": "42e44285-026d-4e60-fe0a-865d6f9b75da"
      },
      "execution_count": 28,
      "outputs": [
        {
          "output_type": "stream",
          "name": "stdout",
          "text": [
            "f32[] from the argument x\n",
            "f32[] output of sin from <ipython-input-27-6da3e02ee513>:6:21 (recursive_checkpoint.<locals>.<lambda>)\n",
            "f32[] output of cos from <ipython-input-27-6da3e02ee513>:6:24 (recursive_checkpoint.<locals>.<lambda>)\n",
            "f32[] output of cos from <ipython-input-27-6da3e02ee513>:6:21 (recursive_checkpoint.<locals>.<lambda>)\n"
          ]
        }
      ]
    },
    {
      "cell_type": "code",
      "source": [
        "f = recursive_checkpoint([jnp.sin] * 16)\n",
        "print_saved_residuals(f, 3.)"
      ],
      "metadata": {
        "colab": {
          "base_uri": "https://localhost:8080/"
        },
        "id": "l67jVU7KdaAq",
        "outputId": "f941c404-9fce-4f74-c5a3-10e7a8aa41e0"
      },
      "execution_count": 29,
      "outputs": [
        {
          "output_type": "stream",
          "name": "stdout",
          "text": [
            "f32[] from the argument x\n",
            "f32[] output of sin from <ipython-input-27-6da3e02ee513>:6:21 (recursive_checkpoint.<locals>.<lambda>)\n",
            "f32[] output of sin from <ipython-input-27-6da3e02ee513>:6:21 (recursive_checkpoint.<locals>.<lambda>)\n",
            "f32[] output of cos from <ipython-input-27-6da3e02ee513>:6:24 (recursive_checkpoint.<locals>.<lambda>)\n",
            "f32[] output of cos from <ipython-input-27-6da3e02ee513>:6:21 (recursive_checkpoint.<locals>.<lambda>)\n"
          ]
        }
      ]
    },
    {
      "cell_type": "code",
      "source": [
        "f = chain_compose([jnp.sin] * 8)\n",
        "print_fwd_bwd(f, 3.)"
      ],
      "metadata": {
        "colab": {
          "base_uri": "https://localhost:8080/",
          "height": 353
        },
        "id": "j4RpAU6xdb18",
        "outputId": "a7c8fcec-4a8e-41bb-b0f1-afd41eeaf201"
      },
      "execution_count": 30,
      "outputs": [
        {
          "output_type": "display_data",
          "data": {
            "text/plain": [
              "                                                                                                                                 \n",
              "  \u001b[1;32mforward computation:\u001b[0m                  \u001b[1;32mbackward computation:\u001b[0m                                                                    \n",
              "                                                                                                                                 \n",
              "  { lambda ; a:f32[]. let               { lambda ; a:f32[] b:f32[] c:f32[] d:f32[] e:f32[] f:f32[] g:f32[] h:f32[] i:f32[]. let  \n",
              "      b:f32[] = sin a                       j:f32[] = mul i h                                                                    \n",
              "      c:f32[] = cos a                       k:f32[] = mul j g                                                                    \n",
              "      d:f32[] = sin b                       l:f32[] = mul k f                                                                    \n",
              "      e:f32[] = cos b                       m:f32[] = mul l e                                                                    \n",
              "      f:f32[] = sin d                       n:f32[] = mul m d                                                                    \n",
              "      g:f32[] = cos d                       o:f32[] = mul n c                                                                    \n",
              "      h:f32[] = sin f                       p:f32[] = mul o b                                                                    \n",
              "      i:f32[] = cos f                       q:f32[] = mul p a                                                                    \n",
              "      j:f32[] = sin h                     in (q,) }                                                                              \n",
              "      k:f32[] = cos h                                                                                                            \n",
              "      l:f32[] = sin j                                                                                                            \n",
              "      m:f32[] = cos j                                                                                                            \n",
              "      n:f32[] = sin l                                                                                                            \n",
              "      o:f32[] = cos l                                                                                                            \n",
              "      p:f32[] = sin n                                                                                                            \n",
              "      q:f32[] = cos n                                                                                                            \n",
              "    in (p, c, e, g, i, k, m, o, q) }                                                                                             \n"
            ],
            "text/html": [
              "<pre style=\"white-space:pre;overflow-x:auto;line-height:normal;font-family:Menlo,'DejaVu Sans Mono',consolas,'Courier New',monospace\">                                                                                                                                 \n",
              "  <span style=\"color: #008000; text-decoration-color: #008000; font-weight: bold\">forward computation:</span>                  <span style=\"color: #008000; text-decoration-color: #008000; font-weight: bold\">backward computation:</span>                                                                    \n",
              "                                                                                                                                 \n",
              "  { lambda ; a:f32[]. let               { lambda ; a:f32[] b:f32[] c:f32[] d:f32[] e:f32[] f:f32[] g:f32[] h:f32[] i:f32[]. let  \n",
              "      b:f32[] = sin a                       j:f32[] = mul i h                                                                    \n",
              "      c:f32[] = cos a                       k:f32[] = mul j g                                                                    \n",
              "      d:f32[] = sin b                       l:f32[] = mul k f                                                                    \n",
              "      e:f32[] = cos b                       m:f32[] = mul l e                                                                    \n",
              "      f:f32[] = sin d                       n:f32[] = mul m d                                                                    \n",
              "      g:f32[] = cos d                       o:f32[] = mul n c                                                                    \n",
              "      h:f32[] = sin f                       p:f32[] = mul o b                                                                    \n",
              "      i:f32[] = cos f                       q:f32[] = mul p a                                                                    \n",
              "      j:f32[] = sin h                     in (q,) }                                                                              \n",
              "      k:f32[] = cos h                                                                                                            \n",
              "      l:f32[] = sin j                                                                                                            \n",
              "      m:f32[] = cos j                                                                                                            \n",
              "      n:f32[] = sin l                                                                                                            \n",
              "      o:f32[] = cos l                                                                                                            \n",
              "      p:f32[] = sin n                                                                                                            \n",
              "      q:f32[] = cos n                                                                                                            \n",
              "    in (p, c, e, g, i, k, m, o, q) }                                                                                             \n",
              "</pre>\n"
            ]
          },
          "metadata": {}
        }
      ]
    },
    {
      "cell_type": "code",
      "source": [
        "f = recursive_checkpoint([jnp.sin] * 8)\n",
        "print_fwd_bwd(f, 3.)"
      ],
      "metadata": {
        "id": "ZqHsiJA1ddsh",
        "outputId": "b75762b0-c204-45cb-97d2-1d92824f2d82",
        "colab": {
          "base_uri": "https://localhost:8080/",
          "height": 737
        }
      },
      "execution_count": 31,
      "outputs": [
        {
          "output_type": "display_data",
          "data": {
            "text/plain": [
              "                                                                                                                                        \n",
              "  \u001b[1;32mforward computation:\u001b[0m                                                              \u001b[1;32mbackward computation:\u001b[0m                               \n",
              "                                                                                                                                        \n",
              "  { lambda ; a:f32[]. let                                                           { lambda ; a:f32[] b:f32[] c:f32[] d:f32[]. let     \n",
              "      b:f32[] = remat2[                                                                 e:f32[] = mul d c                               \n",
              "        differentiated=False                                                            f:f32[] = mul e b                               \n",
              "        jaxpr={ lambda ; c:f32[]. let d:f32[] = sin c; e:f32[] = sin d in (e,) }        g:f32[] = remat2[                               \n",
              "        policy=None                                                                       differentiated=True                           \n",
              "        prevent_cse=True                                                                  jaxpr={ lambda ; h:f32[] i:f32[]. let         \n",
              "      ] a                                                                                     j:f32[] = sin h                           \n",
              "      f:f32[] = sin b                                                                         k:f32[] = cos h                           \n",
              "      g:f32[] = sin f                                                                         l:f32[] = cos j                           \n",
              "      h:f32[] = sin g                                                                         m:f32[] = mul i l                         \n",
              "      i:f32[] = sin h                                                                         n:f32[] = mul m k                         \n",
              "      j:f32[] = sin i                                                                       in (n,) }                                   \n",
              "      k:f32[] = cos i                                                                     policy=None                                   \n",
              "      l:f32[] = sin j                                                                     prevent_cse=True                              \n",
              "      m:f32[] = cos j                                                                   ] a f                                           \n",
              "    in (l, g, a, k, m) }                                                                o:f32[] = remat2[                               \n",
              "                                                                                          differentiated=True                           \n",
              "                                                                                          jaxpr={ lambda ; p:f32[] q:f32[]. let         \n",
              "                                                                                              r:f32[] = sin p                           \n",
              "                                                                                              s:f32[] = sin r                           \n",
              "                                                                                              t:f32[] = sin s                           \n",
              "                                                                                              u:f32[] = cos s                           \n",
              "                                                                                              v:f32[] = cos t                           \n",
              "                                                                                              w:f32[] = mul q v                         \n",
              "                                                                                              x:f32[] = mul w u                         \n",
              "                                                                                              y:f32[] = remat2[                         \n",
              "                                                                                                differentiated=True                     \n",
              "                                                                                                jaxpr={ lambda ; z:f32[] ba:f32[]. let  \n",
              "                                                                                                    bb:f32[] = sin z                    \n",
              "                                                                                                    bc:f32[] = cos z                    \n",
              "                                                                                                    bd:f32[] = cos bb                   \n",
              "                                                                                                    be:f32[] = mul ba bd                \n",
              "                                                                                                    bf:f32[] = mul be bc                \n",
              "                                                                                                  in (bf,) }                            \n",
              "                                                                                                policy=None                             \n",
              "                                                                                                prevent_cse=True                        \n",
              "                                                                                              ] p x                                     \n",
              "                                                                                            in (y,) }                                   \n",
              "                                                                                          policy=None                                   \n",
              "                                                                                          prevent_cse=True                              \n",
              "                                                                                        ] 3.0 g                                         \n",
              "                                                                                      in (o,) }                                         \n"
            ],
            "text/html": [
              "<pre style=\"white-space:pre;overflow-x:auto;line-height:normal;font-family:Menlo,'DejaVu Sans Mono',consolas,'Courier New',monospace\">                                                                                                                                        \n",
              "  <span style=\"color: #008000; text-decoration-color: #008000; font-weight: bold\">forward computation:</span>                                                              <span style=\"color: #008000; text-decoration-color: #008000; font-weight: bold\">backward computation:</span>                               \n",
              "                                                                                                                                        \n",
              "  { lambda ; a:f32[]. let                                                           { lambda ; a:f32[] b:f32[] c:f32[] d:f32[]. let     \n",
              "      b:f32[] = remat2[                                                                 e:f32[] = mul d c                               \n",
              "        differentiated=False                                                            f:f32[] = mul e b                               \n",
              "        jaxpr={ lambda ; c:f32[]. let d:f32[] = sin c; e:f32[] = sin d in (e,) }        g:f32[] = remat2[                               \n",
              "        policy=None                                                                       differentiated=True                           \n",
              "        prevent_cse=True                                                                  jaxpr={ lambda ; h:f32[] i:f32[]. let         \n",
              "      ] a                                                                                     j:f32[] = sin h                           \n",
              "      f:f32[] = sin b                                                                         k:f32[] = cos h                           \n",
              "      g:f32[] = sin f                                                                         l:f32[] = cos j                           \n",
              "      h:f32[] = sin g                                                                         m:f32[] = mul i l                         \n",
              "      i:f32[] = sin h                                                                         n:f32[] = mul m k                         \n",
              "      j:f32[] = sin i                                                                       in (n,) }                                   \n",
              "      k:f32[] = cos i                                                                     policy=None                                   \n",
              "      l:f32[] = sin j                                                                     prevent_cse=True                              \n",
              "      m:f32[] = cos j                                                                   ] a f                                           \n",
              "    in (l, g, a, k, m) }                                                                o:f32[] = remat2[                               \n",
              "                                                                                          differentiated=True                           \n",
              "                                                                                          jaxpr={ lambda ; p:f32[] q:f32[]. let         \n",
              "                                                                                              r:f32[] = sin p                           \n",
              "                                                                                              s:f32[] = sin r                           \n",
              "                                                                                              t:f32[] = sin s                           \n",
              "                                                                                              u:f32[] = cos s                           \n",
              "                                                                                              v:f32[] = cos t                           \n",
              "                                                                                              w:f32[] = mul q v                         \n",
              "                                                                                              x:f32[] = mul w u                         \n",
              "                                                                                              y:f32[] = remat2[                         \n",
              "                                                                                                differentiated=True                     \n",
              "                                                                                                jaxpr={ lambda ; z:f32[] ba:f32[]. let  \n",
              "                                                                                                    bb:f32[] = sin z                    \n",
              "                                                                                                    bc:f32[] = cos z                    \n",
              "                                                                                                    bd:f32[] = cos bb                   \n",
              "                                                                                                    be:f32[] = mul ba bd                \n",
              "                                                                                                    bf:f32[] = mul be bc                \n",
              "                                                                                                  in (bf,) }                            \n",
              "                                                                                                policy=None                             \n",
              "                                                                                                prevent_cse=True                        \n",
              "                                                                                              ] p x                                     \n",
              "                                                                                            in (y,) }                                   \n",
              "                                                                                          policy=None                                   \n",
              "                                                                                          prevent_cse=True                              \n",
              "                                                                                        ] 3.0 g                                         \n",
              "                                                                                      in (o,) }                                         \n",
              "</pre>\n"
            ]
          },
          "metadata": {}
        }
      ]
    },
    {
      "cell_type": "code",
      "source": [],
      "metadata": {
        "id": "K421PvJ-dftG"
      },
      "execution_count": null,
      "outputs": []
    }
  ]
}