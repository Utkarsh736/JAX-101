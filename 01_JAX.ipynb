{
  "nbformat": 4,
  "nbformat_minor": 0,
  "metadata": {
    "colab": {
      "provenance": []
    },
    "kernelspec": {
      "name": "python3",
      "display_name": "Python 3"
    },
    "language_info": {
      "name": "python"
    }
  },
  "cells": [
    {
      "cell_type": "markdown",
      "source": [
        "# JAX Key Concepts"
      ],
      "metadata": {
        "id": "P3M5nOdLKucA"
      }
    },
    {
      "cell_type": "markdown",
      "source": [
        "## JAX Arrays"
      ],
      "metadata": {
        "id": "vHNvoC8tK0QP"
      }
    },
    {
      "cell_type": "markdown",
      "source": [
        "### Array Creation"
      ],
      "metadata": {
        "id": "SyB9JRzLK7uX"
      }
    },
    {
      "cell_type": "code",
      "source": [
        "import jax\n",
        "import jax.numpy as jnp\n",
        "\n",
        "x = jnp.arange(5)\n",
        "isinstance(x, jax.Array)"
      ],
      "metadata": {
        "colab": {
          "base_uri": "https://localhost:8080/"
        },
        "id": "1o_y722lK9hs",
        "outputId": "070dbebe-83f0-40e6-ab89-05c68ec456dd"
      },
      "execution_count": 1,
      "outputs": [
        {
          "output_type": "execute_result",
          "data": {
            "text/plain": [
              "True"
            ]
          },
          "metadata": {},
          "execution_count": 1
        }
      ]
    },
    {
      "cell_type": "markdown",
      "source": [
        "### Array device and Sharding"
      ],
      "metadata": {
        "id": "b6DNyHJNLA8J"
      }
    },
    {
      "cell_type": "code",
      "source": [
        "x.devices()"
      ],
      "metadata": {
        "colab": {
          "base_uri": "https://localhost:8080/"
        },
        "id": "j9MWvmYILFOU",
        "outputId": "6ff8ba2e-9220-4183-8ef2-a21d78cf201e"
      },
      "execution_count": 2,
      "outputs": [
        {
          "output_type": "execute_result",
          "data": {
            "text/plain": [
              "{CpuDevice(id=0)}"
            ]
          },
          "metadata": {},
          "execution_count": 2
        }
      ]
    },
    {
      "cell_type": "code",
      "source": [
        "x.sharding"
      ],
      "metadata": {
        "colab": {
          "base_uri": "https://localhost:8080/"
        },
        "id": "AT8xxBcELHB2",
        "outputId": "d70473a4-916d-4087-868f-9269b907a413"
      },
      "execution_count": 3,
      "outputs": [
        {
          "output_type": "execute_result",
          "data": {
            "text/plain": [
              "SingleDeviceSharding(device=CpuDevice(id=0), memory_kind=unpinned_host)"
            ]
          },
          "metadata": {},
          "execution_count": 3
        }
      ]
    },
    {
      "cell_type": "markdown",
      "source": [
        "## Transformations"
      ],
      "metadata": {
        "id": "uSA7ZcJ4LLWi"
      }
    },
    {
      "cell_type": "code",
      "source": [
        "def selu(x, alpha=1.67, lambda_=1.05):\n",
        "  return lambda_ * jnp.where(x > 0, x, alpha * jnp.exp(x) - alpha)\n",
        "\n",
        "selu_jit = jax.jit(selu)\n",
        "print(selu_jit(1.0))"
      ],
      "metadata": {
        "colab": {
          "base_uri": "https://localhost:8080/"
        },
        "id": "_8WdoigzLctO",
        "outputId": "e0f52a2d-ddae-477d-f275-fed377e32287"
      },
      "execution_count": 4,
      "outputs": [
        {
          "output_type": "stream",
          "name": "stdout",
          "text": [
            "1.05\n"
          ]
        }
      ]
    },
    {
      "cell_type": "code",
      "source": [
        "@jax.jit\n",
        "def selu(x, alpha=1.67, lambda_=1.05):\n",
        "  return lambda_ * jnp.where(x > 0, x, alpha * jnp.exp(x) - alpha)"
      ],
      "metadata": {
        "id": "w25fBwd_LgmA"
      },
      "execution_count": 5,
      "outputs": []
    },
    {
      "cell_type": "markdown",
      "source": [
        "## Tracing"
      ],
      "metadata": {
        "id": "9scO9KkZLWfg"
      }
    },
    {
      "cell_type": "code",
      "source": [
        "@jax.jit\n",
        "def f(x):\n",
        "  print(x)\n",
        "  return x + 1\n",
        "\n",
        "x = jnp.arange(5)\n",
        "result = f(x)"
      ],
      "metadata": {
        "colab": {
          "base_uri": "https://localhost:8080/"
        },
        "id": "o3IUrr3mLbXV",
        "outputId": "d0f1d8fe-4a46-46a8-ac33-d7d9e768d2cb"
      },
      "execution_count": 7,
      "outputs": [
        {
          "output_type": "stream",
          "name": "stdout",
          "text": [
            "Traced<ShapedArray(int32[5])>with<DynamicJaxprTrace(level=1/0)>\n"
          ]
        }
      ]
    },
    {
      "cell_type": "markdown",
      "source": [
        "## Jaxprs"
      ],
      "metadata": {
        "id": "x44PC-D6Lwee"
      }
    },
    {
      "cell_type": "code",
      "source": [
        "def selu(x, alpha=1.67, lambda_=1.05):\n",
        "  return lambda_ * jnp.where(x > 0, x, alpha * jnp.exp(x) - alpha)"
      ],
      "metadata": {
        "id": "MUmF7I--L2a_"
      },
      "execution_count": 8,
      "outputs": []
    },
    {
      "cell_type": "code",
      "source": [
        "x = jnp.arange(5.0)\n",
        "jax.make_jaxpr(selu)(x)"
      ],
      "metadata": {
        "colab": {
          "base_uri": "https://localhost:8080/"
        },
        "id": "z8XkbRhcL2s3",
        "outputId": "c09dfbe0-7a32-4f0a-fb8d-e892afc65ddb"
      },
      "execution_count": 9,
      "outputs": [
        {
          "output_type": "execute_result",
          "data": {
            "text/plain": [
              "{ lambda ; a:f32[5]. let\n",
              "    b:bool[5] = gt a 0.0\n",
              "    c:f32[5] = exp a\n",
              "    d:f32[5] = mul 1.6699999570846558 c\n",
              "    e:f32[5] = sub d 1.6699999570846558\n",
              "    f:f32[5] = pjit[\n",
              "      name=_where\n",
              "      jaxpr={ lambda ; g:bool[5] h:f32[5] i:f32[5]. let\n",
              "          j:f32[5] = select_n g i h\n",
              "        in (j,) }\n",
              "    ] b a e\n",
              "    k:f32[5] = mul 1.0499999523162842 f\n",
              "  in (k,) }"
            ]
          },
          "metadata": {},
          "execution_count": 9
        }
      ]
    },
    {
      "cell_type": "markdown",
      "source": [
        "## PyTrees"
      ],
      "metadata": {
        "id": "teJVfq_PL45y"
      }
    },
    {
      "cell_type": "code",
      "source": [
        "# (nested) list of parameters\n",
        "params = [1, 2, (jnp.arange(3), jnp.ones(2))]\n",
        "\n",
        "print(jax.tree.structure(params))\n",
        "print(jax.tree.leaves(params))"
      ],
      "metadata": {
        "colab": {
          "base_uri": "https://localhost:8080/"
        },
        "id": "L8j-zL_eL_h5",
        "outputId": "76b3d6f5-967f-4da0-ad98-ed27312cc2cf"
      },
      "execution_count": 10,
      "outputs": [
        {
          "output_type": "stream",
          "name": "stdout",
          "text": [
            "PyTreeDef([*, *, (*, *)])\n",
            "[1, 2, Array([0, 1, 2], dtype=int32), Array([1., 1.], dtype=float32)]\n"
          ]
        }
      ]
    },
    {
      "cell_type": "code",
      "source": [
        "# Dictionary of parameters\n",
        "params = {'n': 5, 'W': jnp.ones((2, 2)), 'b': jnp.zeros(2)}\n",
        "\n",
        "print(jax.tree.structure(params))\n",
        "print(jax.tree.leaves(params))"
      ],
      "metadata": {
        "colab": {
          "base_uri": "https://localhost:8080/"
        },
        "id": "odA-ShIpMBNB",
        "outputId": "dd9ed23e-6cfd-45f0-8f30-4b706a31e930"
      },
      "execution_count": 11,
      "outputs": [
        {
          "output_type": "stream",
          "name": "stdout",
          "text": [
            "PyTreeDef({'W': *, 'b': *, 'n': *})\n",
            "[Array([[1., 1.],\n",
            "       [1., 1.]], dtype=float32), Array([0., 0.], dtype=float32), 5]\n"
          ]
        }
      ]
    },
    {
      "cell_type": "code",
      "source": [
        "# Named tuple of parameters\n",
        "from typing import NamedTuple\n",
        "\n",
        "class Params(NamedTuple):\n",
        "  a: int\n",
        "  b: float\n",
        "\n",
        "params = Params(1, 5.0)\n",
        "print(jax.tree.structure(params))\n",
        "print(jax.tree.leaves(params))"
      ],
      "metadata": {
        "colab": {
          "base_uri": "https://localhost:8080/"
        },
        "id": "ogZW5LpOMCvF",
        "outputId": "c4f3ab19-a5c9-4abd-fb21-0cc7b1a46eee"
      },
      "execution_count": 12,
      "outputs": [
        {
          "output_type": "stream",
          "name": "stdout",
          "text": [
            "PyTreeDef(CustomNode(namedtuple[Params], [*, *]))\n",
            "[1, 5.0]\n"
          ]
        }
      ]
    },
    {
      "cell_type": "markdown",
      "source": [
        "## PseudoRandom Numbers"
      ],
      "metadata": {
        "id": "yclixxeRMEeq"
      }
    },
    {
      "cell_type": "code",
      "source": [
        "from jax import random\n",
        "\n",
        "key = random.key(43)\n",
        "print(key)"
      ],
      "metadata": {
        "colab": {
          "base_uri": "https://localhost:8080/"
        },
        "id": "HirMGOAdMJOm",
        "outputId": "677fca56-3281-4a1d-bfb6-67b829e46a69"
      },
      "execution_count": 13,
      "outputs": [
        {
          "output_type": "stream",
          "name": "stdout",
          "text": [
            "Array((), dtype=key<fry>) overlaying:\n",
            "[ 0 43]\n"
          ]
        }
      ]
    },
    {
      "cell_type": "code",
      "source": [
        "print(random.normal(key))\n",
        "print(random.normal(key))"
      ],
      "metadata": {
        "colab": {
          "base_uri": "https://localhost:8080/"
        },
        "id": "kBV1Ew-2MKxt",
        "outputId": "18aa5a32-d412-4578-9858-950c917978ef"
      },
      "execution_count": 14,
      "outputs": [
        {
          "output_type": "stream",
          "name": "stdout",
          "text": [
            "0.81039715\n",
            "0.81039715\n"
          ]
        }
      ]
    },
    {
      "cell_type": "code",
      "source": [
        "for i in range(3):\n",
        "  new_key, subkey = random.split(key)\n",
        "  del key  # The old key is consumed by split() -- we must never use it again.\n",
        "\n",
        "  val = random.normal(subkey)\n",
        "  del subkey  # The subkey is consumed by normal().\n",
        "\n",
        "  print(f\"draw {i}: {val}\")\n",
        "  key = new_key  # new_key is safe to use in the next iteration."
      ],
      "metadata": {
        "colab": {
          "base_uri": "https://localhost:8080/"
        },
        "id": "r1RZwVSBMMNS",
        "outputId": "cc94ec6e-0b37-4fb7-ee34-7c83e15629f2"
      },
      "execution_count": 15,
      "outputs": [
        {
          "output_type": "stream",
          "name": "stdout",
          "text": [
            "draw 0: 0.19468608498573303\n",
            "draw 1: 0.5202823877334595\n",
            "draw 2: -2.072833299636841\n"
          ]
        }
      ]
    },
    {
      "cell_type": "code",
      "source": [],
      "metadata": {
        "id": "89tuwVdXMPuI"
      },
      "execution_count": null,
      "outputs": []
    }
  ]
}