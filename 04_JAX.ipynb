{
  "nbformat": 4,
  "nbformat_minor": 0,
  "metadata": {
    "colab": {
      "provenance": []
    },
    "kernelspec": {
      "name": "python3",
      "display_name": "Python 3"
    },
    "language_info": {
      "name": "python"
    }
  },
  "cells": [
    {
      "cell_type": "markdown",
      "source": [
        "# Automatic Differentiation"
      ],
      "metadata": {
        "id": "RwXSVG6fQjYp"
      }
    },
    {
      "cell_type": "markdown",
      "source": [
        "## Taking gradients"
      ],
      "metadata": {
        "id": "qCF6rV33RM2U"
      }
    },
    {
      "cell_type": "code",
      "source": [
        "import jax\n",
        "import jax.numpy as jnp\n",
        "from jax import grad\n",
        "\n",
        "grad_tanh = grad(jnp.tanh)\n",
        "print(grad_tanh(2.0))"
      ],
      "metadata": {
        "colab": {
          "base_uri": "https://localhost:8080/"
        },
        "id": "xCSvGgRzRRDo",
        "outputId": "27d42d42-3020-4511-8dff-6a93a2e606b4"
      },
      "execution_count": 1,
      "outputs": [
        {
          "output_type": "stream",
          "name": "stdout",
          "text": [
            "0.070650816\n"
          ]
        }
      ]
    },
    {
      "cell_type": "code",
      "source": [
        "print(grad(grad(jnp.tanh))(2.0))\n",
        "print(grad(grad(grad(jnp.tanh)))(2.0))"
      ],
      "metadata": {
        "colab": {
          "base_uri": "https://localhost:8080/"
        },
        "id": "pQPKgx8ORbUA",
        "outputId": "6ce36e88-dd21-4b92-baf5-c19240bf0d4b"
      },
      "execution_count": 2,
      "outputs": [
        {
          "output_type": "stream",
          "name": "stdout",
          "text": [
            "-0.13621868\n",
            "0.25265405\n"
          ]
        }
      ]
    },
    {
      "cell_type": "code",
      "source": [
        "f = lambda x: x**3 + 2*x**2 - 3*x + 1\n",
        "\n",
        "dfdx = jax.grad(f)"
      ],
      "metadata": {
        "id": "eXUABsCWRgUt"
      },
      "execution_count": 3,
      "outputs": []
    },
    {
      "cell_type": "code",
      "source": [
        "d2fdx = jax.grad(dfdx)\n",
        "d3fdx = jax.grad(d2fdx)\n",
        "d4fdx = jax.grad(d3fdx)"
      ],
      "metadata": {
        "id": "05kBEhNjRiMq"
      },
      "execution_count": 4,
      "outputs": []
    },
    {
      "cell_type": "code",
      "source": [
        "print(dfdx(1.))\n",
        "print(d2fdx(1.))\n",
        "print(d3fdx(1.))\n",
        "print(d4fdx(1.))"
      ],
      "metadata": {
        "colab": {
          "base_uri": "https://localhost:8080/"
        },
        "id": "lr8sQIiIRj_b",
        "outputId": "1c586017-d5dd-4674-c2fe-2e1513ea8963"
      },
      "execution_count": 5,
      "outputs": [
        {
          "output_type": "stream",
          "name": "stdout",
          "text": [
            "4.0\n",
            "10.0\n",
            "6.0\n",
            "0.0\n"
          ]
        }
      ]
    },
    {
      "cell_type": "markdown",
      "source": [
        "## Computing gradients in Linear logistic regression"
      ],
      "metadata": {
        "id": "sUZ86-YARlzD"
      }
    },
    {
      "cell_type": "code",
      "source": [
        "key = jax.random.key(0)\n",
        "\n",
        "def sigmoid(x):\n",
        "  return 0.5 * (jnp.tanh(x / 2) + 1)\n",
        "\n",
        "# Outputs probability of a label being true.\n",
        "def predict(W, b, inputs):\n",
        "  return sigmoid(jnp.dot(inputs, W) + b)\n",
        "\n",
        "# Build a toy dataset.\n",
        "inputs = jnp.array([[0.52, 1.12,  0.77],\n",
        "                    [0.88, -1.08, 0.15],\n",
        "                    [0.52, 0.06, -1.30],\n",
        "                    [0.74, -2.49, 1.39]])\n",
        "targets = jnp.array([True, True, False, True])\n",
        "\n",
        "# Training loss is the negative log-likelihood of the training examples.\n",
        "def loss(W, b):\n",
        "  preds = predict(W, b, inputs)\n",
        "  label_probs = preds * targets + (1 - preds) * (1 - targets)\n",
        "  return -jnp.sum(jnp.log(label_probs))\n",
        "\n",
        "# Initialize random model coefficients\n",
        "key, W_key, b_key = jax.random.split(key, 3)\n",
        "W = jax.random.normal(W_key, (3,))\n",
        "b = jax.random.normal(b_key, ())"
      ],
      "metadata": {
        "id": "Y9UJyVWrRtyX"
      },
      "execution_count": 6,
      "outputs": []
    },
    {
      "cell_type": "code",
      "source": [
        "# Differentiate `loss` with respect to the first positional argument:\n",
        "W_grad = grad(loss, argnums=0)(W, b)\n",
        "print(f'{W_grad=}')\n",
        "\n",
        "# Since argnums=0 is the default, this does the same thing:\n",
        "W_grad = grad(loss)(W, b)\n",
        "print(f'{W_grad=}')\n",
        "\n",
        "# But you can choose different values too, and drop the keyword:\n",
        "b_grad = grad(loss, 1)(W, b)\n",
        "print(f'{b_grad=}')\n",
        "\n",
        "# Including tuple values\n",
        "W_grad, b_grad = grad(loss, (0, 1))(W, b)\n",
        "print(f'{W_grad=}')\n",
        "print(f'{b_grad=}')"
      ],
      "metadata": {
        "colab": {
          "base_uri": "https://localhost:8080/"
        },
        "id": "lKJVJVGORuEq",
        "outputId": "c0d239a0-e908-4ba1-84a9-b4739465f0c2"
      },
      "execution_count": 7,
      "outputs": [
        {
          "output_type": "stream",
          "name": "stdout",
          "text": [
            "W_grad=Array([-0.16965583, -0.8774644 , -1.4901346 ], dtype=float32)\n",
            "W_grad=Array([-0.16965583, -0.8774644 , -1.4901346 ], dtype=float32)\n",
            "b_grad=Array(-0.29227245, dtype=float32)\n",
            "W_grad=Array([-0.16965583, -0.8774644 , -1.4901346 ], dtype=float32)\n",
            "b_grad=Array(-0.29227245, dtype=float32)\n"
          ]
        }
      ]
    },
    {
      "cell_type": "markdown",
      "source": [
        "## Differentiating with respect to nested lists, tuples and dicts"
      ],
      "metadata": {
        "id": "VNG5pHU3RwHG"
      }
    },
    {
      "cell_type": "code",
      "source": [
        "def loss2(params_dict):\n",
        "    preds = predict(params_dict['W'], params_dict['b'], inputs)\n",
        "    label_probs = preds * targets + (1 - preds) * (1 - targets)\n",
        "    return -jnp.sum(jnp.log(label_probs))\n",
        "\n",
        "print(grad(loss2)({'W': W, 'b': b}))"
      ],
      "metadata": {
        "colab": {
          "base_uri": "https://localhost:8080/"
        },
        "id": "Ys4QioeBR5Ov",
        "outputId": "b8ffe6a8-9671-4a3c-c476-ed81b3aabc50"
      },
      "execution_count": 8,
      "outputs": [
        {
          "output_type": "stream",
          "name": "stdout",
          "text": [
            "{'W': Array([-0.16965583, -0.8774644 , -1.4901346 ], dtype=float32), 'b': Array(-0.29227245, dtype=float32)}\n"
          ]
        }
      ]
    },
    {
      "cell_type": "markdown",
      "source": [
        "## Evaluating a function and it's gradient"
      ],
      "metadata": {
        "id": "Zpme05kYR5jl"
      }
    },
    {
      "cell_type": "code",
      "source": [
        "loss_value, Wb_grad = jax.value_and_grad(loss, (0, 1))(W, b)\n",
        "print('loss value', loss_value)\n",
        "print('loss value', loss(W, b))"
      ],
      "metadata": {
        "colab": {
          "base_uri": "https://localhost:8080/"
        },
        "id": "Er7Bp9qXR_81",
        "outputId": "829999fe-72a6-4296-8fc2-d9e649c5d98f"
      },
      "execution_count": 9,
      "outputs": [
        {
          "output_type": "stream",
          "name": "stdout",
          "text": [
            "loss value 3.0519385\n",
            "loss value 3.0519385\n"
          ]
        }
      ]
    },
    {
      "cell_type": "markdown",
      "source": [
        "## Checking against numerical differences"
      ],
      "metadata": {
        "id": "6EvLTfB1SAL7"
      }
    },
    {
      "cell_type": "code",
      "source": [
        "# Set a step size for finite differences calculations\n",
        "eps = 1e-4\n",
        "\n",
        "# Check b_grad with scalar finite differences\n",
        "b_grad_numerical = (loss(W, b + eps / 2.) - loss(W, b - eps / 2.)) / eps\n",
        "print('b_grad_numerical', b_grad_numerical)\n",
        "print('b_grad_autodiff', grad(loss, 1)(W, b))\n",
        "\n",
        "# Check W_grad with finite differences in a random direction\n",
        "key, subkey = jax.random.split(key)\n",
        "vec = jax.random.normal(subkey, W.shape)\n",
        "unitvec = vec / jnp.sqrt(jnp.vdot(vec, vec))\n",
        "W_grad_numerical = (loss(W + eps / 2. * unitvec, b) - loss(W - eps / 2. * unitvec, b)) / eps\n",
        "print('W_dirderiv_numerical', W_grad_numerical)\n",
        "print('W_dirderiv_autodiff', jnp.vdot(grad(loss)(W, b), unitvec))"
      ],
      "metadata": {
        "colab": {
          "base_uri": "https://localhost:8080/"
        },
        "id": "E-Do_8HmSFQm",
        "outputId": "1f6a5aee-7eee-4ec7-df4f-1409ea1c75ad"
      },
      "execution_count": 10,
      "outputs": [
        {
          "output_type": "stream",
          "name": "stdout",
          "text": [
            "b_grad_numerical -0.29325485\n",
            "b_grad_autodiff -0.29227245\n",
            "W_dirderiv_numerical -0.2002716\n",
            "W_dirderiv_autodiff -0.19909117\n"
          ]
        }
      ]
    },
    {
      "cell_type": "code",
      "source": [
        "from jax.test_util import check_grads\n",
        "\n",
        "check_grads(loss, (W, b), order=2)  # check up to 2nd order derivatives"
      ],
      "metadata": {
        "id": "k1qnDoXcSHKm"
      },
      "execution_count": 11,
      "outputs": []
    },
    {
      "cell_type": "code",
      "source": [],
      "metadata": {
        "id": "8iT2N7KOSJYT"
      },
      "execution_count": null,
      "outputs": []
    }
  ]
}